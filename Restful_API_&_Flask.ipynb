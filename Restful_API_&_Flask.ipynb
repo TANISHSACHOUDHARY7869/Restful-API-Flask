{
  "nbformat": 4,
  "nbformat_minor": 0,
  "metadata": {
    "colab": {
      "provenance": []
    },
    "kernelspec": {
      "name": "python3",
      "display_name": "Python 3"
    },
    "language_info": {
      "name": "python"
    }
  },
  "cells": [
    {
      "cell_type": "markdown",
      "source": [
        " 1) What is a RESTful API?\n",
        "\n",
        " Ans:- A RESTful API (Representational State Transfer Application Programming Interface) is a type of web API that follows the principles of REST architecture, which is a set of guidelines for creating scalable and stateless web services.\n",
        "\n",
        "Key Concepts of RESTful APIs:\n",
        "Statelessness:\n",
        "Each request from a client to a server must contain all the information needed to understand and process the request. The server doesn't store client context between requests.\n",
        "\n",
        "Resources:\n",
        "Everything in a RESTful API is treated as a resource (e.g., users, posts, products) and is accessed using a URI (Uniform Resource Identifier), like:\n"
      ],
      "metadata": {
        "id": "nv7i2KEiWmgx"
      }
    },
    {
      "cell_type": "code",
      "source": [
        "GET /users/123\n"
      ],
      "metadata": {
        "id": "ER4U3uYQYMiw",
        "colab": {
          "base_uri": "https://localhost:8080/",
          "height": 141
        },
        "outputId": "62a0d21f-0ccf-4a23-f0a4-a87857f3f71b"
      },
      "execution_count": 141,
      "outputs": [
        {
          "output_type": "error",
          "ename": "NameError",
          "evalue": "name 'GET' is not defined",
          "traceback": [
            "\u001b[0;31m---------------------------------------------------------------------------\u001b[0m",
            "\u001b[0;31mNameError\u001b[0m                                 Traceback (most recent call last)",
            "\u001b[0;32m<ipython-input-141-54279d99196d>\u001b[0m in \u001b[0;36m<cell line: 0>\u001b[0;34m()\u001b[0m\n\u001b[0;32m----> 1\u001b[0;31m \u001b[0mGET\u001b[0m \u001b[0;34m/\u001b[0m\u001b[0musers\u001b[0m\u001b[0;34m/\u001b[0m\u001b[0;36m123\u001b[0m\u001b[0;34m\u001b[0m\u001b[0;34m\u001b[0m\u001b[0m\n\u001b[0m",
            "\u001b[0;31mNameError\u001b[0m: name 'GET' is not defined"
          ]
        }
      ]
    },
    {
      "cell_type": "markdown",
      "source": [
        "HTTP Methods:\n",
        "RESTful APIs use standard HTTP methods to perform actions on resources:\n",
        "\n",
        "GET – Retrieve data (e.g., GET /users)\n",
        "\n",
        "POST – Create a new resource (e.g., POST /users)\n",
        "\n",
        "PUT – Update an existing resource (e.g., PUT /users/123)\n",
        "\n",
        "DELETE – Remove a resource (e.g., DELETE /users/123)\n",
        "\n",
        "JSON (or XML) Format:\n",
        "Data is typically exchanged in JSON (JavaScript Object Notation), although XML is also supported.\n",
        "\n",
        "Stateless Communication:\n",
        "Each API call is independent; the server does not retain client session data.\n",
        "\n",
        "Uniform Interface:\n",
        "REST enforces a consistent interface, making it easier to use and understand across different systems.\n",
        "\n",
        "Example:\n",
        "Suppose you're building an API for a book store.\n",
        "\n",
        "GET /books – List all books\n",
        "\n",
        "GET /books/1 – Get details of book with ID 1\n",
        "\n",
        "POST /books – Add a new book\n",
        "\n",
        "PUT /books/1 – Update book with ID 1\n",
        "\n",
        "DELETE /books/1 – Delete book with ID 1\n",
        "\n",
        "\n",
        "2) Explain the concept of API specification?\n",
        "\n",
        "Ans:- An API specification is a formal, structured document that defines how an API behaves and how developers can interact with it. It serves as a blueprint for both the API’s implementation and its consumption by client applications.\n",
        "\n",
        "🔍 Key Aspects of an API Specification:\n",
        "Endpoints:\n",
        "The URLs through which resources are accessed (e.g., /users, /orders/{id}).\n",
        "\n",
        "HTTP Methods:\n",
        "Defines which HTTP verbs are allowed for each endpoint (e.g., GET, POST, PUT, DELETE).\n",
        "\n",
        "Request Structure:\n",
        "Describes what input is expected from the client:\n",
        "\n",
        "Headers\n",
        "\n",
        "Query parameters\n",
        "\n",
        "Request body (with data types and required fields)\n",
        "\n",
        "Response Structure:\n",
        "Describes what the server will return:\n",
        "\n",
        "HTTP status codes (200, 404, 500, etc.)\n",
        "\n",
        "Response body (with data types, structure, and possible examples)\n",
        "\n",
        "Authentication/Authorization:\n",
        "Specifies how clients should authenticate (e.g., API keys, OAuth tokens).\n",
        "\n",
        "Data Formats:\n",
        "Usually JSON or XML. The spec defines the schema of inputs/outputs.\n",
        "\n",
        "Error Handling:\n",
        "Defines how errors are communicated, with codes and message formats.\n",
        "\n",
        "📘 Why API Specifications Matter:\n",
        "Consistency: Ensures different teams understand and implement the API the same way.\n",
        "\n",
        "Automation: Enables tools to generate client libraries, documentation, and server stubs automatically.\n",
        "\n",
        "Documentation: Acts as a source of truth for developers using the API.\n",
        "\n",
        "Validation: Helps validate requests and responses against the expected format.\n",
        "\n",
        "🛠️ Popular API Specification Standards:\n",
        "OpenAPI (formerly Swagger) – Most widely used for RESTful APIs.\n",
        "\n",
        "RAML – RESTful API Modeling Language.\n",
        "\n",
        "API Blueprint – Markdown-based API description language.\n",
        "\n",
        "GraphQL SDL – Used to define GraphQL schemas.\n",
        "\n",
        "🧠 Example (OpenAPI Snippet):\n"
      ],
      "metadata": {
        "id": "7pm8-OODYN40"
      }
    },
    {
      "cell_type": "code",
      "source": [
        "paths:\n",
        "  /users/{id}:\n",
        "    get:\n",
        "      summary: Get user by ID\n",
        "      parameters:\n",
        "        - in: path\n",
        "          name: id\n",
        "          required: true\n",
        "          schema:\n",
        "            type: integer\n",
        "      responses:\n",
        "        200:\n",
        "          description: A user object\n",
        "        404:\n",
        "          description: User not found\n",
        "      summary: Get user by ID\n",
        "      parameters:\n",
        "        - in: path\n",
        "          name: id\n",
        "          required: true\n",
        "          schema:\n",
        "            type: integer\n",
        "      responses:\n",
        "        200:\n",
        "          description: A user object\n",
        "        404:\n",
        "          description: User not found\n",
        "\n"
      ],
      "metadata": {
        "id": "2bF5GdA9Ywve",
        "colab": {
          "base_uri": "https://localhost:8080/",
          "height": 106
        },
        "outputId": "fc4d3e2e-82ad-4285-a6c9-252389e79b54"
      },
      "execution_count": 140,
      "outputs": [
        {
          "output_type": "error",
          "ename": "SyntaxError",
          "evalue": "invalid syntax (<ipython-input-140-9d91899e6cc5>, line 1)",
          "traceback": [
            "\u001b[0;36m  File \u001b[0;32m\"<ipython-input-140-9d91899e6cc5>\"\u001b[0;36m, line \u001b[0;32m1\u001b[0m\n\u001b[0;31m    paths:\u001b[0m\n\u001b[0m          ^\u001b[0m\n\u001b[0;31mSyntaxError\u001b[0m\u001b[0;31m:\u001b[0m invalid syntax\n"
          ]
        }
      ]
    },
    {
      "cell_type": "markdown",
      "source": [
        " 3) What is Flask, and why is it popular for building APIs?\n",
        "\n",
        " Ans:- Flask is a lightweight, open-source web framework for Python that's especially popular for building web applications and RESTful APIs.\n",
        "\n",
        "🔧 What is Flask?\n",
        "Framework: A micro web framework for Python, meaning it provides the essentials without enforcing a particular project layout or including many built-in tools.\n",
        "\n",
        "WSGI-compliant: It works with Python’s WSGI standard for serving web apps.\n",
        "\n",
        "🚀 Why Flask is Popular for Building APIs:\n",
        "Lightweight and Minimal:\n",
        "Flask doesn't come with too many built-in features, which gives developers full control and flexibility. You only add what you need.\n",
        "\n",
        "Easy to Learn and Use:\n",
        "Its syntax and structure are clean and beginner-friendly, which makes it ideal for rapid development.\n",
        "\n",
        "RESTful Routing:\n",
        "Flask makes it simple to define API endpoints using Python functions and decorators.\n",
        "\n"
      ],
      "metadata": {
        "id": "OWXODO0jY6ik"
      }
    },
    {
      "cell_type": "code",
      "source": [
        "from flask import Flask, jsonify\n",
        "\n",
        "app = Flask(__name__)\n",
        "\n",
        "@app.route('/hello', methods=['GET'])\n",
        "def hello():\n",
        "    return jsonify({'message': 'Hello, world!'})\n"
      ],
      "metadata": {
        "id": "rohx_qFhZQ5_"
      },
      "execution_count": 2,
      "outputs": []
    },
    {
      "cell_type": "markdown",
      "source": [
        "Extensible:\n",
        "You can easily integrate third-party libraries for:\n",
        "\n",
        "Authentication\n",
        "\n",
        "Database access (like SQLAlchemy)\n",
        "\n",
        "Input validation (like Marshmallow)\n",
        "\n",
        "API documentation (like Swagger via Flask-RESTX or Flask-RESTPlus)\n",
        "\n",
        "Great for Prototyping:\n",
        "Because it’s so quick to set up, Flask is commonly used in startups and hackathons to build MVPs (Minimum Viable Products).\n",
        "\n",
        "Vast Community and Resources:\n",
        "It has extensive documentation, tutorials, and a large developer community for support.\n",
        "\n",
        "Compatible with OpenAPI Tools:\n",
        "With extensions like Flask-RESTX, you can auto-generate OpenAPI-compliant specs and interactive documentation (Swagger UI).\n",
        "\n",
        "🧠 When to Use Flask for APIs:\n",
        "When you want full control over how things are structured.\n",
        "\n",
        "When you're building a small to medium-sized API.\n",
        "\n",
        "When you want to build something quickly and simply.\n",
        "\n",
        "When you don’t need a full-stack framework like Django.\n",
        "\n",
        "\n",
        "\n",
        "5) How do you create a simple Flask application?\n",
        "\n",
        "Ans:- Creating a simple Flask application is straightforward. Here's a step-by-step guide to help you build your first basic Flask app.\n",
        "\n",
        "✅ Step 1: Install Flask\n",
        "Make sure you have Python installed. Then install Flask using pip:\n",
        "\n"
      ],
      "metadata": {
        "id": "ran_PnHMZSSF"
      }
    },
    {
      "cell_type": "code",
      "source": [
        "pip install Flask\n"
      ],
      "metadata": {
        "id": "i6T7_p0VZ5vJ",
        "colab": {
          "base_uri": "https://localhost:8080/"
        },
        "outputId": "1bef3bd1-5dc2-4ca1-a245-a01005e3ce81"
      },
      "execution_count": 4,
      "outputs": [
        {
          "output_type": "stream",
          "name": "stdout",
          "text": [
            "Requirement already satisfied: Flask in /usr/local/lib/python3.11/dist-packages (3.1.1)\n",
            "Requirement already satisfied: blinker>=1.9.0 in /usr/local/lib/python3.11/dist-packages (from Flask) (1.9.0)\n",
            "Requirement already satisfied: click>=8.1.3 in /usr/local/lib/python3.11/dist-packages (from Flask) (8.2.1)\n",
            "Requirement already satisfied: itsdangerous>=2.2.0 in /usr/local/lib/python3.11/dist-packages (from Flask) (2.2.0)\n",
            "Requirement already satisfied: jinja2>=3.1.2 in /usr/local/lib/python3.11/dist-packages (from Flask) (3.1.6)\n",
            "Requirement already satisfied: markupsafe>=2.1.1 in /usr/local/lib/python3.11/dist-packages (from Flask) (3.0.2)\n",
            "Requirement already satisfied: werkzeug>=3.1.0 in /usr/local/lib/python3.11/dist-packages (from Flask) (3.1.3)\n"
          ]
        }
      ]
    },
    {
      "cell_type": "markdown",
      "source": [
        "✅ Step 2: Create a Simple Flask App\n",
        "Create a Python file, e.g., app.py, with the following code:\n"
      ],
      "metadata": {
        "id": "6IOH_bebZ7Xt"
      }
    },
    {
      "cell_type": "code",
      "source": [
        "from flask import Flask\n",
        "\n",
        "app = Flask(__name__)  # Create the Flask app\n",
        "\n",
        "@app.route('/')  # Define the route for the home page\n",
        "def hello_world():\n",
        "    return 'Hello, World!'  # Response returned to the browser\n",
        "\n",
        "# Run the app\n",
        "if __name__ == '__main__':\n",
        "    app.run(debug=True)\n"
      ],
      "metadata": {
        "id": "SpNCHCB6aACB",
        "colab": {
          "base_uri": "https://localhost:8080/"
        },
        "outputId": "1769c201-326b-4604-eb29-acdc09476a88"
      },
      "execution_count": 5,
      "outputs": [
        {
          "output_type": "stream",
          "name": "stdout",
          "text": [
            " * Serving Flask app '__main__'\n",
            " * Debug mode: on\n"
          ]
        },
        {
          "output_type": "stream",
          "name": "stderr",
          "text": [
            "INFO:werkzeug:\u001b[31m\u001b[1mWARNING: This is a development server. Do not use it in a production deployment. Use a production WSGI server instead.\u001b[0m\n",
            " * Running on http://127.0.0.1:5000\n",
            "INFO:werkzeug:\u001b[33mPress CTRL+C to quit\u001b[0m\n",
            "INFO:werkzeug: * Restarting with stat\n"
          ]
        }
      ]
    },
    {
      "cell_type": "markdown",
      "source": [
        "✅ Step 3: Run the App\n",
        "In your terminal, run:"
      ],
      "metadata": {
        "id": "HrmPsGRdaC1Y"
      }
    },
    {
      "cell_type": "code",
      "source": [
        "!python app.py"
      ],
      "metadata": {
        "id": "1NSkUhzzaG3X",
        "colab": {
          "base_uri": "https://localhost:8080/"
        },
        "outputId": "666d3db3-ddff-4be5-a875-606bee2e888a"
      },
      "execution_count": 6,
      "outputs": [
        {
          "output_type": "stream",
          "name": "stdout",
          "text": [
            "python3: can't open file '/content/app.py': [Errno 2] No such file or directory\n"
          ]
        }
      ]
    },
    {
      "cell_type": "markdown",
      "source": [
        "By default, the app will start on http://127.0.0.1:5000/\n",
        "\n",
        "✅ Step 4: Test It\n",
        "Open your browser and go to http://127.0.0.1:5000/\n",
        "\n",
        "You should see:"
      ],
      "metadata": {
        "id": "hiS7s5yiZ-6J"
      }
    },
    {
      "cell_type": "code",
      "source": [
        "print(\"Hello, World!\")"
      ],
      "metadata": {
        "id": "pLU6fDQ5aM7j",
        "colab": {
          "base_uri": "https://localhost:8080/"
        },
        "outputId": "4faa313a-016a-4687-9716-8492b842fddf"
      },
      "execution_count": 7,
      "outputs": [
        {
          "output_type": "stream",
          "name": "stdout",
          "text": [
            "Hello, World!\n"
          ]
        }
      ]
    },
    {
      "cell_type": "markdown",
      "source": [
        "🚀 Want to Add an API Endpoint?\n",
        "Add a route that returns JSON data:"
      ],
      "metadata": {
        "id": "bfTq5mN7aN4a"
      }
    },
    {
      "cell_type": "code",
      "source": [
        "from flask import Flask, jsonify\n",
        "\n",
        "app = Flask(__name__)\n",
        "\n",
        "@app.route('/')\n",
        "def home():\n",
        "    return 'Welcome to the Flask API!'\n",
        "\n",
        "@app.route('/api/data', methods=['GET'])\n",
        "def get_data():\n",
        "    data = {\n",
        "        'name': 'Alice',\n",
        "        'age': 30,\n",
        "        'location': 'Earth'\n",
        "    }\n",
        "    return jsonify(data)\n",
        "\n",
        "if __name__ == '__main__':\n",
        "    app.run(debug=True)\n"
      ],
      "metadata": {
        "id": "i2tZy7-ZaQUy",
        "colab": {
          "base_uri": "https://localhost:8080/"
        },
        "outputId": "29e5d720-46a1-481f-a2c3-4343b49f787a"
      },
      "execution_count": 8,
      "outputs": [
        {
          "output_type": "stream",
          "name": "stdout",
          "text": [
            " * Serving Flask app '__main__'\n",
            " * Debug mode: on\n"
          ]
        },
        {
          "output_type": "stream",
          "name": "stderr",
          "text": [
            "INFO:werkzeug:\u001b[31m\u001b[1mWARNING: This is a development server. Do not use it in a production deployment. Use a production WSGI server instead.\u001b[0m\n",
            " * Running on http://127.0.0.1:5000\n",
            "INFO:werkzeug:\u001b[33mPress CTRL+C to quit\u001b[0m\n",
            "INFO:werkzeug: * Restarting with stat\n"
          ]
        }
      ]
    },
    {
      "cell_type": "markdown",
      "source": [
        "Now if you go to http://127.0.0.1:5000/api/data, you’ll get:"
      ],
      "metadata": {
        "id": "ZH1Ip0hVaheO"
      }
    },
    {
      "cell_type": "code",
      "source": [
        "{\n",
        "  \"name\": \"Alice\",\n",
        "  \"age\": 30,\n",
        "  \"location\": \"Earth\"\n",
        "}\n"
      ],
      "metadata": {
        "id": "PukoXv4wakzU",
        "colab": {
          "base_uri": "https://localhost:8080/"
        },
        "outputId": "ea67d2fc-3cdf-43f6-9d04-70f059718451"
      },
      "execution_count": 139,
      "outputs": [
        {
          "output_type": "execute_result",
          "data": {
            "text/plain": [
              "{'name': 'Alice', 'age': 30, 'location': 'Earth'}"
            ]
          },
          "metadata": {},
          "execution_count": 139
        }
      ]
    },
    {
      "cell_type": "markdown",
      "source": [
        "7)  What are HTTP methods used in RESTful APIs?\n",
        "\n",
        "Ans:- In RESTful APIs, HTTP methods are used to perform actions on resources. Each method represents a specific kind of operation. Here's a breakdown of the most commonly used ones:\n",
        "\n",
        "🔑 Common HTTP Methods in RESTful APIs:\n",
        "Method\tPurpose\tTypical Use Case\n",
        "GET\tRead / Retrieve data\tFetch a resource or a list of resources\n",
        "POST\tCreate a new resource\tAdd a new user, product, post, etc.\n",
        "PUT\tUpdate an existing resource\tReplace an existing resource entirely\n",
        "PATCH\tPartially update a resource\tModify only certain fields of a resource\n",
        "DELETE\tDelete a resource\tRemove a specific resource from the server\n",
        "OPTIONS\tDescribe allowed operations\tUsed by browsers for CORS preflight requests\n",
        "HEAD\tLike GET, but without body\tCheck if a resource exists, get headers only\n",
        "\n",
        "📘 Example: Managing Users\n",
        "Let's say you have a resource called users.\n",
        "\n",
        "Action\tHTTP Method\tEndpoint\n",
        "Get all users\tGET\t/users\n",
        "Get a specific user\tGET\t/users/123\n",
        "Create a new user\tPOST\t/users\n",
        "Update user with ID 123\tPUT\t/users/123\n",
        "Partially update user 123\tPATCH\t/users/123\n",
        "Delete user 123\tDELETE\t/users/123\n",
        "\n",
        "🔒 Notes on Usage\n",
        "GET, HEAD, and OPTIONS are safe methods (they don’t change data).\n",
        "\n",
        "PUT and POST are not idempotent (except PUT, if designed properly).\n",
        "\n",
        "Always return appropriate status codes (200 OK, 201 Created, 404 Not Found, 400 Bad Request, etc.).\n",
        "\n"
      ],
      "metadata": {
        "id": "GO-_tdv1ao9w"
      }
    },
    {
      "cell_type": "markdown",
      "source": [
        " 7) What is the purpose of the @app.route() decorator in Flask?\n",
        "\n",
        " Ans:- The @app.route() decorator in Flask is used to map a URL path to a specific Python function, which is known as a view function.\n",
        "\n",
        "🎯 Purpose of @app.route()\n",
        "It registers a route with the Flask application.\n",
        "\n",
        "It tells Flask: “When someone visits this URL, run this function and return the response.”\n",
        "\n",
        "🧠 How It Works:\n"
      ],
      "metadata": {
        "id": "tPL4iH0sbTsZ"
      }
    },
    {
      "cell_type": "code",
      "source": [
        "from flask import Flask\n",
        "app = Flask(__name__)\n",
        "\n",
        "@app.route('/')\n",
        "def home():\n",
        "    return 'Welcome to the homepage!'\n"
      ],
      "metadata": {
        "id": "hn3nS1b0btOi"
      },
      "execution_count": 138,
      "outputs": []
    },
    {
      "cell_type": "markdown",
      "source": [
        "@app.route('/'):\n",
        "Binds the / URL (root path) to the home() function.\n",
        "\n",
        "When a user visits http://localhost:5000/, Flask runs home() and returns its result to the browser.\n",
        "\n",
        "🔁 You Can Map Multiple Routes:"
      ],
      "metadata": {
        "id": "n6saDNeHbuk7"
      }
    },
    {
      "cell_type": "code",
      "source": [
        "@app.route('/hello')\n",
        "@app.route('/hi')\n",
        "def greet():\n",
        "    return 'Hello there!'\n"
      ],
      "metadata": {
        "id": "wNsQnsDxbyiX"
      },
      "execution_count": 137,
      "outputs": []
    },
    {
      "cell_type": "markdown",
      "source": [
        "This maps both /hello and /hi to the same function.\n",
        "\n",
        "⚙️ Add HTTP Method Restrictions:\n",
        "By default, a route only accepts GET requests. To allow other methods like POST:"
      ],
      "metadata": {
        "id": "TfXYzTNPb0zy"
      }
    },
    {
      "cell_type": "code",
      "source": [
        "@app.route('/submit', methods=['POST'])\n",
        "def submit():\n",
        "    return 'Form submitted!'\n",
        "\n"
      ],
      "metadata": {
        "id": "3AlyYP6Rb54L"
      },
      "execution_count": 136,
      "outputs": []
    },
    {
      "cell_type": "markdown",
      "source": [
        " 8) What is the difference between GET and POST HTTP methods?\n",
        "\n",
        " ANS:- The GET and POST HTTP methods are both used to communicate between a client (usually a web browser or app) and a server, but they serve different purposes and behave differently.\n",
        "\n",
        "🔍 Key Differences Between GET and POST\n",
        "Feature\tGET\tPOST\n",
        "Purpose\tRetrieve data (read-only)\tSend data to the server (create/update)\n",
        "Data Location\tAppended in the URL (query string)\tSent in the request body\n",
        "Visibility\tVisible in browser address bar\tHidden from the URL\n",
        "Length Limit\tLimited (URL length restrictions)\tNo real size limit (depends on server)\n",
        "Caching\tCan be cached by browsers\tUsually not cached\n",
        "Bookmarkable\tYes\tNo\n",
        "Idempotent\tYes (safe to repeat)\tNot necessarily (may cause side effects)\n",
        "Use Case\tFetching data, pages, or search results\tSubmitting forms, uploading files, login\n",
        "\n",
        "🧠 Examples\n",
        "✅ GET Example"
      ],
      "metadata": {
        "id": "Z2eDWuGkb7c5"
      }
    },
    {
      "cell_type": "code",
      "source": [
        "The provided input is not a Python syntax error. It's a `curl` command for making an HTTP request. I cannot fix this as a Python syntax error."
      ],
      "metadata": {
        "id": "a5r1tBbEccNf",
        "colab": {
          "base_uri": "https://localhost:8080/",
          "height": 106
        },
        "outputId": "50dc944f-d924-45c3-95dd-d0838946c1a5"
      },
      "execution_count": 15,
      "outputs": [
        {
          "output_type": "error",
          "ename": "SyntaxError",
          "evalue": "unterminated string literal (detected at line 1) (<ipython-input-15-006098463888>, line 1)",
          "traceback": [
            "\u001b[0;36m  File \u001b[0;32m\"<ipython-input-15-006098463888>\"\u001b[0;36m, line \u001b[0;32m1\u001b[0m\n\u001b[0;31m    The provided input is not a Python syntax error. It's a `curl` command for making an HTTP request. I cannot fix this as a Python syntax error.\u001b[0m\n\u001b[0m                                                       ^\u001b[0m\n\u001b[0;31mSyntaxError\u001b[0m\u001b[0;31m:\u001b[0m unterminated string literal (detected at line 1)\n"
          ]
        }
      ]
    },
    {
      "cell_type": "markdown",
      "source": [
        "Use this to search for something. The query is part of the URL.\n",
        "\n",
        "✅ POST Example"
      ],
      "metadata": {
        "id": "U9BuHk1wcdd-"
      }
    },
    {
      "cell_type": "code",
      "source": [
        "Syntax Error: The provided code is not Python code. It appears to be an HTTP request.\n",
        "{\n",
        "  \"username\": \"alice\",\n",
        "  \"password\": \"secret123\"\n",
        "}\n"
      ],
      "metadata": {
        "id": "2lSJcPDHcjN9",
        "colab": {
          "base_uri": "https://localhost:8080/",
          "height": 106
        },
        "outputId": "6904454b-4d13-40cd-fead-210c9e517d4b"
      },
      "execution_count": 16,
      "outputs": [
        {
          "output_type": "error",
          "ename": "SyntaxError",
          "evalue": "invalid syntax (<ipython-input-16-6327fccffae5>, line 1)",
          "traceback": [
            "\u001b[0;36m  File \u001b[0;32m\"<ipython-input-16-6327fccffae5>\"\u001b[0;36m, line \u001b[0;32m1\u001b[0m\n\u001b[0;31m    Syntax Error: The provided code is not Python code. It appears to be an HTTP request.\u001b[0m\n\u001b[0m           ^\u001b[0m\n\u001b[0;31mSyntaxError\u001b[0m\u001b[0;31m:\u001b[0m invalid syntax\n"
          ]
        }
      ]
    },
    {
      "cell_type": "markdown",
      "source": [
        "9)  How do you handle errors in Flask APIs?\n",
        "\n",
        "Ans:- Handling errors properly in a Flask API is crucial for providing clear feedback to clients and ensuring your application behaves predictably.\n",
        "\n",
        "Flask allows you to handle errors in a few different ways:\n",
        "\n",
        "✅ 1. Using abort() to Raise HTTP Errors\n",
        "You can use Flask’s built-in abort() function to return specific HTTP status codes.\n"
      ],
      "metadata": {
        "id": "b6m2LvNtdRVe"
      }
    },
    {
      "cell_type": "code",
      "source": [
        "from flask import Flask, abort\n",
        "\n",
        "app = Flask(__name__)\n",
        "\n",
        "@app.route('/item/<int:item_id>')\n",
        "def get_item(item_id):\n",
        "    if item_id != 1:\n",
        "        abort(404)  # Returns a 404 Not Found error\n",
        "    return {'item': 'Item found'}\n"
      ],
      "metadata": {
        "id": "B4Lm1mTUdlYg"
      },
      "execution_count": 135,
      "outputs": []
    },
    {
      "cell_type": "markdown",
      "source": [
        "✅ 2. Custom Error Handlers\n",
        "You can define custom responses for specific HTTP error codes using the @app.errorhandler() decorator.\n"
      ],
      "metadata": {
        "id": "3dwoGmpFdpKO"
      }
    },
    {
      "cell_type": "code",
      "source": [
        "from flask import jsonify\n",
        "\n",
        "@app.errorhandler(404)\n",
        "def not_found(error):\n",
        "    return jsonify({'error': 'Resource not found'}), 404\n",
        "\n",
        "@app.errorhandler(400)\n",
        "def bad_request(error):\n",
        "    return jsonify({'error': 'Bad request'}), 400\n",
        "\n",
        "@app.errorhandler(500)\n",
        "def internal_error(error):\n",
        "    return jsonify({'error': 'Internal server error'}), 500\n",
        "\n"
      ],
      "metadata": {
        "id": "ZTr_5okcduZ8"
      },
      "execution_count": 134,
      "outputs": []
    },
    {
      "cell_type": "markdown",
      "source": [
        "✅ 3. Handling Exceptions Gracefully\n",
        "You can handle exceptions like ValueError, KeyError, etc., in routes or globally:"
      ],
      "metadata": {
        "id": "BvscC9kedyEB"
      }
    },
    {
      "cell_type": "code",
      "source": [
        "@app.route('/divide')\n",
        "def divide():\n",
        "    try:\n",
        "        x = int(request.args.get('x', 0))\n",
        "        y = int(request.args.get('y', 1))\n",
        "        result = x / y\n",
        "        return jsonify({'result': result})\n",
        "    except ZeroDivisionError:\n",
        "        return jsonify({'error': 'Cannot divide by zero'}), 400\n",
        "    except Exception as e:\n",
        "        return jsonify({'error': str(e)}), 500\n"
      ],
      "metadata": {
        "id": "n7z7RAThd3Nv"
      },
      "execution_count": 133,
      "outputs": []
    },
    {
      "cell_type": "markdown",
      "source": [
        "✅ 4. Using make_response() for Custom Headers\n",
        "You can use make_response() if you need more control over the response (e.g. custom headers):"
      ],
      "metadata": {
        "id": "BvG_U4jvd7mw"
      }
    },
    {
      "cell_type": "code",
      "source": [
        "from flask import make_response\n",
        "\n",
        "@app.route('/unauthorized')\n",
        "def unauthorized():\n",
        "    response = make_response(jsonify({'error': 'Unauthorized'}), 401)\n",
        "    response.headers['X-Custom-Header'] = 'Value'\n",
        "    return response\n"
      ],
      "metadata": {
        "id": "tRBWfnIgd-t8"
      },
      "execution_count": 132,
      "outputs": []
    },
    {
      "cell_type": "markdown",
      "source": [
        "🔐 Bonus: Custom Exception Classes\n",
        "You can create and raise your own exceptions for a more organized error-handling structure:"
      ],
      "metadata": {
        "id": "-11O7nqreBkM"
      }
    },
    {
      "cell_type": "code",
      "source": [
        "class InvalidUsage(Exception):\n",
        "    status_code = 400\n",
        "    def __init__(self, message):\n",
        "        self.message = message\n",
        "\n",
        "@app.errorhandler(InvalidUsage)\n",
        "def handle_invalid_usage(error):\n",
        "    response = jsonify({'error': error.message})\n",
        "    return response, error.status_code\n"
      ],
      "metadata": {
        "id": "bSStU9s7eFUJ"
      },
      "execution_count": 131,
      "outputs": []
    },
    {
      "cell_type": "markdown",
      "source": [
        "10) How do you connect Flask to a SQL database?\n",
        "\n",
        "Ans:- To connect Flask to a SQL database, the most common and recommended approach is using SQLAlchemy, an ORM (Object-Relational Mapper) that integrates smoothly with Flask via the Flask-SQLAlchemy extension.\n",
        "\n",
        "✅ Steps to Connect Flask to a SQL Database\n",
        "📦 1. Install Required Packages"
      ],
      "metadata": {
        "id": "HlFZZKN5eien"
      }
    },
    {
      "cell_type": "code",
      "source": [
        "pip install Flask Flask-SQLAlchemy\n"
      ],
      "metadata": {
        "id": "b816T5BOewJI",
        "colab": {
          "base_uri": "https://localhost:8080/"
        },
        "outputId": "0ca3def6-2442-44b9-932c-8429f8b8b698"
      },
      "execution_count": 130,
      "outputs": [
        {
          "output_type": "stream",
          "name": "stdout",
          "text": [
            "Requirement already satisfied: Flask in /usr/local/lib/python3.11/dist-packages (3.1.1)\n",
            "Requirement already satisfied: Flask-SQLAlchemy in /usr/local/lib/python3.11/dist-packages (3.1.1)\n",
            "Requirement already satisfied: blinker>=1.9.0 in /usr/local/lib/python3.11/dist-packages (from Flask) (1.9.0)\n",
            "Requirement already satisfied: click>=8.1.3 in /usr/local/lib/python3.11/dist-packages (from Flask) (8.2.1)\n",
            "Requirement already satisfied: itsdangerous>=2.2.0 in /usr/local/lib/python3.11/dist-packages (from Flask) (2.2.0)\n",
            "Requirement already satisfied: jinja2>=3.1.2 in /usr/local/lib/python3.11/dist-packages (from Flask) (3.1.6)\n",
            "Requirement already satisfied: markupsafe>=2.1.1 in /usr/local/lib/python3.11/dist-packages (from Flask) (3.0.2)\n",
            "Requirement already satisfied: werkzeug>=3.1.0 in /usr/local/lib/python3.11/dist-packages (from Flask) (3.1.3)\n",
            "Requirement already satisfied: sqlalchemy>=2.0.16 in /usr/local/lib/python3.11/dist-packages (from Flask-SQLAlchemy) (2.0.41)\n",
            "Requirement already satisfied: greenlet>=1 in /usr/local/lib/python3.11/dist-packages (from sqlalchemy>=2.0.16->Flask-SQLAlchemy) (3.2.2)\n",
            "Requirement already satisfied: typing-extensions>=4.6.0 in /usr/local/lib/python3.11/dist-packages (from sqlalchemy>=2.0.16->Flask-SQLAlchemy) (4.14.0)\n"
          ]
        }
      ]
    },
    {
      "cell_type": "markdown",
      "source": [
        "You’ll also need a database driver depending on your DB:\n",
        "\n",
        "SQLite: Built-in with Python\n",
        "\n",
        "PostgreSQL: pip install psycopg2\n",
        "\n",
        "MySQL: pip install pymysql\n",
        "\n",
        "🛠️ 2. Set Up Your Flask App"
      ],
      "metadata": {
        "id": "SWSvF0VIeyET"
      }
    },
    {
      "cell_type": "code",
      "source": [
        "from flask import Flask\n",
        "from flask_sqlalchemy import SQLAlchemy\n",
        "\n",
        "app = Flask(__name__)\n",
        "\n",
        "# Example: Using SQLite (for local/testing)\n",
        "app.config['SQLALCHEMY_DATABASE_URI'] = 'sqlite:///mydatabase.db'\n",
        "\n",
        "# Optional: to suppress warning\n",
        "app.config['SQLALCHEMY_TRACK_MODIFICATIONS'] = False\n",
        "\n",
        "# Initialize SQLAlchemy with the app\n",
        "db = SQLAlchemy(app)\n"
      ],
      "metadata": {
        "id": "_chthkSle1Kq"
      },
      "execution_count": 129,
      "outputs": []
    },
    {
      "cell_type": "markdown",
      "source": [
        "📇 3. Define Models (Tables)\n"
      ],
      "metadata": {
        "id": "a7kXLXr-e6HW"
      }
    },
    {
      "cell_type": "code",
      "source": [
        "class User(db.Model):\n",
        "    id = db.Column(db.Integer, primary_key=True)\n",
        "    username = db.Column(db.String(80), unique=True, nullable=False)\n",
        "    email = db.Column(db.String(120), unique=True, nullable=False)\n",
        "\n",
        "    def __repr__(self):\n",
        "        return f'<User {self.username}>'\n"
      ],
      "metadata": {
        "id": "x9Knpnu7e9e9",
        "colab": {
          "base_uri": "https://localhost:8080/",
          "height": 445
        },
        "outputId": "2b27be71-e01d-4251-8fb0-c311c66e5c3d"
      },
      "execution_count": 127,
      "outputs": [
        {
          "output_type": "stream",
          "name": "stderr",
          "text": [
            "/usr/local/lib/python3.11/dist-packages/flask_sqlalchemy/model.py:144: SAWarning: This declarative base already contains a class with the same class name and module name as __main__.User, and will be replaced in the string-lookup table.\n",
            "  super().__init__(name, bases, d, **kwargs)\n"
          ]
        },
        {
          "output_type": "error",
          "ename": "InvalidRequestError",
          "evalue": "Table 'user' is already defined for this MetaData instance.  Specify 'extend_existing=True' to redefine options and columns on an existing Table object.",
          "traceback": [
            "\u001b[0;31m---------------------------------------------------------------------------\u001b[0m",
            "\u001b[0;31mInvalidRequestError\u001b[0m                       Traceback (most recent call last)",
            "\u001b[0;32m<ipython-input-127-c490584790f0>\u001b[0m in \u001b[0;36m<cell line: 0>\u001b[0;34m()\u001b[0m\n\u001b[0;32m----> 1\u001b[0;31m \u001b[0;32mclass\u001b[0m \u001b[0mUser\u001b[0m\u001b[0;34m(\u001b[0m\u001b[0mdb\u001b[0m\u001b[0;34m.\u001b[0m\u001b[0mModel\u001b[0m\u001b[0;34m)\u001b[0m\u001b[0;34m:\u001b[0m\u001b[0;34m\u001b[0m\u001b[0;34m\u001b[0m\u001b[0m\n\u001b[0m\u001b[1;32m      2\u001b[0m     \u001b[0mid\u001b[0m \u001b[0;34m=\u001b[0m \u001b[0mdb\u001b[0m\u001b[0;34m.\u001b[0m\u001b[0mColumn\u001b[0m\u001b[0;34m(\u001b[0m\u001b[0mdb\u001b[0m\u001b[0;34m.\u001b[0m\u001b[0mInteger\u001b[0m\u001b[0;34m,\u001b[0m \u001b[0mprimary_key\u001b[0m\u001b[0;34m=\u001b[0m\u001b[0;32mTrue\u001b[0m\u001b[0;34m)\u001b[0m\u001b[0;34m\u001b[0m\u001b[0;34m\u001b[0m\u001b[0m\n\u001b[1;32m      3\u001b[0m     \u001b[0musername\u001b[0m \u001b[0;34m=\u001b[0m \u001b[0mdb\u001b[0m\u001b[0;34m.\u001b[0m\u001b[0mColumn\u001b[0m\u001b[0;34m(\u001b[0m\u001b[0mdb\u001b[0m\u001b[0;34m.\u001b[0m\u001b[0mString\u001b[0m\u001b[0;34m(\u001b[0m\u001b[0;36m80\u001b[0m\u001b[0;34m)\u001b[0m\u001b[0;34m,\u001b[0m \u001b[0munique\u001b[0m\u001b[0;34m=\u001b[0m\u001b[0;32mTrue\u001b[0m\u001b[0;34m,\u001b[0m \u001b[0mnullable\u001b[0m\u001b[0;34m=\u001b[0m\u001b[0;32mFalse\u001b[0m\u001b[0;34m)\u001b[0m\u001b[0;34m\u001b[0m\u001b[0;34m\u001b[0m\u001b[0m\n\u001b[1;32m      4\u001b[0m     \u001b[0memail\u001b[0m \u001b[0;34m=\u001b[0m \u001b[0mdb\u001b[0m\u001b[0;34m.\u001b[0m\u001b[0mColumn\u001b[0m\u001b[0;34m(\u001b[0m\u001b[0mdb\u001b[0m\u001b[0;34m.\u001b[0m\u001b[0mString\u001b[0m\u001b[0;34m(\u001b[0m\u001b[0;36m120\u001b[0m\u001b[0;34m)\u001b[0m\u001b[0;34m,\u001b[0m \u001b[0munique\u001b[0m\u001b[0;34m=\u001b[0m\u001b[0;32mTrue\u001b[0m\u001b[0;34m,\u001b[0m \u001b[0mnullable\u001b[0m\u001b[0;34m=\u001b[0m\u001b[0;32mFalse\u001b[0m\u001b[0;34m)\u001b[0m\u001b[0;34m\u001b[0m\u001b[0;34m\u001b[0m\u001b[0m\n\u001b[1;32m      5\u001b[0m \u001b[0;34m\u001b[0m\u001b[0m\n",
            "\u001b[0;32m/usr/local/lib/python3.11/dist-packages/flask_sqlalchemy/model.py\u001b[0m in \u001b[0;36m__init__\u001b[0;34m(cls, name, bases, d, **kwargs)\u001b[0m\n\u001b[1;32m     90\u001b[0m                 \u001b[0mcls\u001b[0m\u001b[0;34m.\u001b[0m\u001b[0mmetadata\u001b[0m \u001b[0;34m=\u001b[0m \u001b[0mmetadata\u001b[0m\u001b[0;34m\u001b[0m\u001b[0;34m\u001b[0m\u001b[0m\n\u001b[1;32m     91\u001b[0m \u001b[0;34m\u001b[0m\u001b[0m\n\u001b[0;32m---> 92\u001b[0;31m         \u001b[0msuper\u001b[0m\u001b[0;34m(\u001b[0m\u001b[0;34m)\u001b[0m\u001b[0;34m.\u001b[0m\u001b[0m__init__\u001b[0m\u001b[0;34m(\u001b[0m\u001b[0mname\u001b[0m\u001b[0;34m,\u001b[0m \u001b[0mbases\u001b[0m\u001b[0;34m,\u001b[0m \u001b[0md\u001b[0m\u001b[0;34m,\u001b[0m \u001b[0;34m**\u001b[0m\u001b[0mkwargs\u001b[0m\u001b[0;34m)\u001b[0m\u001b[0;34m\u001b[0m\u001b[0;34m\u001b[0m\u001b[0m\n\u001b[0m\u001b[1;32m     93\u001b[0m \u001b[0;34m\u001b[0m\u001b[0m\n\u001b[1;32m     94\u001b[0m \u001b[0;34m\u001b[0m\u001b[0m\n",
            "\u001b[0;32m/usr/local/lib/python3.11/dist-packages/flask_sqlalchemy/model.py\u001b[0m in \u001b[0;36m__init__\u001b[0;34m(cls, name, bases, d, **kwargs)\u001b[0m\n\u001b[1;32m    142\u001b[0m             \u001b[0mcls\u001b[0m\u001b[0;34m.\u001b[0m\u001b[0m__tablename__\u001b[0m \u001b[0;34m=\u001b[0m \u001b[0mcamel_to_snake_case\u001b[0m\u001b[0;34m(\u001b[0m\u001b[0mcls\u001b[0m\u001b[0;34m.\u001b[0m\u001b[0m__name__\u001b[0m\u001b[0;34m)\u001b[0m\u001b[0;34m\u001b[0m\u001b[0;34m\u001b[0m\u001b[0m\n\u001b[1;32m    143\u001b[0m \u001b[0;34m\u001b[0m\u001b[0m\n\u001b[0;32m--> 144\u001b[0;31m         \u001b[0msuper\u001b[0m\u001b[0;34m(\u001b[0m\u001b[0;34m)\u001b[0m\u001b[0;34m.\u001b[0m\u001b[0m__init__\u001b[0m\u001b[0;34m(\u001b[0m\u001b[0mname\u001b[0m\u001b[0;34m,\u001b[0m \u001b[0mbases\u001b[0m\u001b[0;34m,\u001b[0m \u001b[0md\u001b[0m\u001b[0;34m,\u001b[0m \u001b[0;34m**\u001b[0m\u001b[0mkwargs\u001b[0m\u001b[0;34m)\u001b[0m\u001b[0;34m\u001b[0m\u001b[0;34m\u001b[0m\u001b[0m\n\u001b[0m\u001b[1;32m    145\u001b[0m \u001b[0;34m\u001b[0m\u001b[0m\n\u001b[1;32m    146\u001b[0m         \u001b[0;31m# __table_cls__ has run. If no table was created, use the parent table.\u001b[0m\u001b[0;34m\u001b[0m\u001b[0;34m\u001b[0m\u001b[0m\n",
            "\u001b[0;32m/usr/local/lib/python3.11/dist-packages/sqlalchemy/orm/decl_api.py\u001b[0m in \u001b[0;36m__init__\u001b[0;34m(cls, classname, bases, dict_, **kw)\u001b[0m\n\u001b[1;32m    196\u001b[0m \u001b[0;34m\u001b[0m\u001b[0m\n\u001b[1;32m    197\u001b[0m         \u001b[0;32mif\u001b[0m \u001b[0;32mnot\u001b[0m \u001b[0mcls\u001b[0m\u001b[0;34m.\u001b[0m\u001b[0m__dict__\u001b[0m\u001b[0;34m.\u001b[0m\u001b[0mget\u001b[0m\u001b[0;34m(\u001b[0m\u001b[0;34m\"__abstract__\"\u001b[0m\u001b[0;34m,\u001b[0m \u001b[0;32mFalse\u001b[0m\u001b[0;34m)\u001b[0m\u001b[0;34m:\u001b[0m\u001b[0;34m\u001b[0m\u001b[0;34m\u001b[0m\u001b[0m\n\u001b[0;32m--> 198\u001b[0;31m             \u001b[0m_as_declarative\u001b[0m\u001b[0;34m(\u001b[0m\u001b[0mreg\u001b[0m\u001b[0;34m,\u001b[0m \u001b[0mcls\u001b[0m\u001b[0;34m,\u001b[0m \u001b[0mdict_\u001b[0m\u001b[0;34m)\u001b[0m\u001b[0;34m\u001b[0m\u001b[0;34m\u001b[0m\u001b[0m\n\u001b[0m\u001b[1;32m    199\u001b[0m         \u001b[0mtype\u001b[0m\u001b[0;34m.\u001b[0m\u001b[0m__init__\u001b[0m\u001b[0;34m(\u001b[0m\u001b[0mcls\u001b[0m\u001b[0;34m,\u001b[0m \u001b[0mclassname\u001b[0m\u001b[0;34m,\u001b[0m \u001b[0mbases\u001b[0m\u001b[0;34m,\u001b[0m \u001b[0mdict_\u001b[0m\u001b[0;34m)\u001b[0m\u001b[0;34m\u001b[0m\u001b[0;34m\u001b[0m\u001b[0m\n\u001b[1;32m    200\u001b[0m \u001b[0;34m\u001b[0m\u001b[0m\n",
            "\u001b[0;32m/usr/local/lib/python3.11/dist-packages/sqlalchemy/orm/decl_base.py\u001b[0m in \u001b[0;36m_as_declarative\u001b[0;34m(registry, cls, dict_)\u001b[0m\n\u001b[1;32m    242\u001b[0m     \u001b[0;31m# declarative scans the class for attributes.  no table or mapper\u001b[0m\u001b[0;34m\u001b[0m\u001b[0;34m\u001b[0m\u001b[0m\n\u001b[1;32m    243\u001b[0m     \u001b[0;31m# args passed separately.\u001b[0m\u001b[0;34m\u001b[0m\u001b[0;34m\u001b[0m\u001b[0m\n\u001b[0;32m--> 244\u001b[0;31m     \u001b[0;32mreturn\u001b[0m \u001b[0m_MapperConfig\u001b[0m\u001b[0;34m.\u001b[0m\u001b[0msetup_mapping\u001b[0m\u001b[0;34m(\u001b[0m\u001b[0mregistry\u001b[0m\u001b[0;34m,\u001b[0m \u001b[0mcls\u001b[0m\u001b[0;34m,\u001b[0m \u001b[0mdict_\u001b[0m\u001b[0;34m,\u001b[0m \u001b[0;32mNone\u001b[0m\u001b[0;34m,\u001b[0m \u001b[0;34m{\u001b[0m\u001b[0;34m}\u001b[0m\u001b[0;34m)\u001b[0m\u001b[0;34m\u001b[0m\u001b[0;34m\u001b[0m\u001b[0m\n\u001b[0m\u001b[1;32m    245\u001b[0m \u001b[0;34m\u001b[0m\u001b[0m\n\u001b[1;32m    246\u001b[0m \u001b[0;34m\u001b[0m\u001b[0m\n",
            "\u001b[0;32m/usr/local/lib/python3.11/dist-packages/sqlalchemy/orm/decl_base.py\u001b[0m in \u001b[0;36msetup_mapping\u001b[0;34m(cls, registry, cls_, dict_, table, mapper_kw)\u001b[0m\n\u001b[1;32m    323\u001b[0m             )\n\u001b[1;32m    324\u001b[0m         \u001b[0;32melse\u001b[0m\u001b[0;34m:\u001b[0m\u001b[0;34m\u001b[0m\u001b[0;34m\u001b[0m\u001b[0m\n\u001b[0;32m--> 325\u001b[0;31m             return _ClassScanMapperConfig(\n\u001b[0m\u001b[1;32m    326\u001b[0m                 \u001b[0mregistry\u001b[0m\u001b[0;34m,\u001b[0m \u001b[0mcls_\u001b[0m\u001b[0;34m,\u001b[0m \u001b[0mdict_\u001b[0m\u001b[0;34m,\u001b[0m \u001b[0mtable\u001b[0m\u001b[0;34m,\u001b[0m \u001b[0mmapper_kw\u001b[0m\u001b[0;34m\u001b[0m\u001b[0;34m\u001b[0m\u001b[0m\n\u001b[1;32m    327\u001b[0m             )\n",
            "\u001b[0;32m/usr/local/lib/python3.11/dist-packages/sqlalchemy/orm/decl_base.py\u001b[0m in \u001b[0;36m__init__\u001b[0;34m(self, registry, cls_, dict_, table, mapper_kw)\u001b[0m\n\u001b[1;32m    574\u001b[0m             \u001b[0mself\u001b[0m\u001b[0;34m.\u001b[0m\u001b[0m_extract_declared_columns\u001b[0m\u001b[0;34m(\u001b[0m\u001b[0;34m)\u001b[0m\u001b[0;34m\u001b[0m\u001b[0;34m\u001b[0m\u001b[0m\n\u001b[1;32m    575\u001b[0m \u001b[0;34m\u001b[0m\u001b[0m\n\u001b[0;32m--> 576\u001b[0;31m             \u001b[0mself\u001b[0m\u001b[0;34m.\u001b[0m\u001b[0m_setup_table\u001b[0m\u001b[0;34m(\u001b[0m\u001b[0mtable\u001b[0m\u001b[0;34m)\u001b[0m\u001b[0;34m\u001b[0m\u001b[0;34m\u001b[0m\u001b[0m\n\u001b[0m\u001b[1;32m    577\u001b[0m \u001b[0;34m\u001b[0m\u001b[0m\n\u001b[1;32m    578\u001b[0m             \u001b[0mself\u001b[0m\u001b[0;34m.\u001b[0m\u001b[0m_setup_inheriting_columns\u001b[0m\u001b[0;34m(\u001b[0m\u001b[0mmapper_kw\u001b[0m\u001b[0;34m)\u001b[0m\u001b[0;34m\u001b[0m\u001b[0;34m\u001b[0m\u001b[0m\n",
            "\u001b[0;32m/usr/local/lib/python3.11/dist-packages/sqlalchemy/orm/decl_base.py\u001b[0m in \u001b[0;36m_setup_table\u001b[0;34m(self, table)\u001b[0m\n\u001b[1;32m   1753\u001b[0m                 table = self.set_cls_attribute(\n\u001b[1;32m   1754\u001b[0m                     \u001b[0;34m\"__table__\"\u001b[0m\u001b[0;34m,\u001b[0m\u001b[0;34m\u001b[0m\u001b[0;34m\u001b[0m\u001b[0m\n\u001b[0;32m-> 1755\u001b[0;31m                     table_cls(\n\u001b[0m\u001b[1;32m   1756\u001b[0m                         \u001b[0mtablename\u001b[0m\u001b[0;34m,\u001b[0m\u001b[0;34m\u001b[0m\u001b[0;34m\u001b[0m\u001b[0m\n\u001b[1;32m   1757\u001b[0m                         \u001b[0mself\u001b[0m\u001b[0;34m.\u001b[0m\u001b[0m_metadata_for_cls\u001b[0m\u001b[0;34m(\u001b[0m\u001b[0mmanager\u001b[0m\u001b[0;34m)\u001b[0m\u001b[0;34m,\u001b[0m\u001b[0;34m\u001b[0m\u001b[0;34m\u001b[0m\u001b[0m\n",
            "\u001b[0;32m/usr/local/lib/python3.11/dist-packages/flask_sqlalchemy/model.py\u001b[0m in \u001b[0;36m__table_cls__\u001b[0;34m(cls, *args, **kwargs)\u001b[0m\n\u001b[1;32m    169\u001b[0m         \u001b[0;31m# applied to models by name.\u001b[0m\u001b[0;34m\u001b[0m\u001b[0;34m\u001b[0m\u001b[0m\n\u001b[1;32m    170\u001b[0m         \u001b[0;32mif\u001b[0m \u001b[0mkey\u001b[0m \u001b[0;32min\u001b[0m \u001b[0mcls\u001b[0m\u001b[0;34m.\u001b[0m\u001b[0mmetadata\u001b[0m\u001b[0;34m.\u001b[0m\u001b[0mtables\u001b[0m\u001b[0;34m:\u001b[0m\u001b[0;34m\u001b[0m\u001b[0;34m\u001b[0m\u001b[0m\n\u001b[0;32m--> 171\u001b[0;31m             \u001b[0;32mreturn\u001b[0m \u001b[0msa\u001b[0m\u001b[0;34m.\u001b[0m\u001b[0mTable\u001b[0m\u001b[0;34m(\u001b[0m\u001b[0;34m*\u001b[0m\u001b[0margs\u001b[0m\u001b[0;34m,\u001b[0m \u001b[0;34m**\u001b[0m\u001b[0mkwargs\u001b[0m\u001b[0;34m)\u001b[0m\u001b[0;34m\u001b[0m\u001b[0;34m\u001b[0m\u001b[0m\n\u001b[0m\u001b[1;32m    172\u001b[0m \u001b[0;34m\u001b[0m\u001b[0m\n\u001b[1;32m    173\u001b[0m         \u001b[0;31m# If a primary key is found, create a table for joined-table inheritance.\u001b[0m\u001b[0;34m\u001b[0m\u001b[0;34m\u001b[0m\u001b[0m\n",
            "\u001b[0;32m<string>\u001b[0m in \u001b[0;36m__new__\u001b[0;34m(cls, *args, **kw)\u001b[0m\n",
            "\u001b[0;32m/usr/local/lib/python3.11/dist-packages/sqlalchemy/util/deprecations.py\u001b[0m in \u001b[0;36mwarned\u001b[0;34m(fn, *args, **kwargs)\u001b[0m\n\u001b[1;32m    279\u001b[0m                         \u001b[0mstacklevel\u001b[0m\u001b[0;34m=\u001b[0m\u001b[0;36m3\u001b[0m\u001b[0;34m,\u001b[0m\u001b[0;34m\u001b[0m\u001b[0;34m\u001b[0m\u001b[0m\n\u001b[1;32m    280\u001b[0m                     )\n\u001b[0;32m--> 281\u001b[0;31m             \u001b[0;32mreturn\u001b[0m \u001b[0mfn\u001b[0m\u001b[0;34m(\u001b[0m\u001b[0;34m*\u001b[0m\u001b[0margs\u001b[0m\u001b[0;34m,\u001b[0m \u001b[0;34m**\u001b[0m\u001b[0mkwargs\u001b[0m\u001b[0;34m)\u001b[0m  \u001b[0;31m# type: ignore[no-any-return]\u001b[0m\u001b[0;34m\u001b[0m\u001b[0;34m\u001b[0m\u001b[0m\n\u001b[0m\u001b[1;32m    282\u001b[0m \u001b[0;34m\u001b[0m\u001b[0m\n\u001b[1;32m    283\u001b[0m         \u001b[0mdoc\u001b[0m \u001b[0;34m=\u001b[0m \u001b[0mfn\u001b[0m\u001b[0;34m.\u001b[0m\u001b[0m__doc__\u001b[0m \u001b[0;32mis\u001b[0m \u001b[0;32mnot\u001b[0m \u001b[0;32mNone\u001b[0m \u001b[0;32mand\u001b[0m \u001b[0mfn\u001b[0m\u001b[0;34m.\u001b[0m\u001b[0m__doc__\u001b[0m \u001b[0;32mor\u001b[0m \u001b[0;34m\"\"\u001b[0m\u001b[0;34m\u001b[0m\u001b[0;34m\u001b[0m\u001b[0m\n",
            "\u001b[0;32m/usr/local/lib/python3.11/dist-packages/sqlalchemy/sql/schema.py\u001b[0m in \u001b[0;36m__new__\u001b[0;34m(cls, *args, **kw)\u001b[0m\n\u001b[1;32m    427\u001b[0m         )\n\u001b[1;32m    428\u001b[0m         \u001b[0;32mdef\u001b[0m \u001b[0m__new__\u001b[0m\u001b[0;34m(\u001b[0m\u001b[0mcls\u001b[0m\u001b[0;34m,\u001b[0m \u001b[0;34m*\u001b[0m\u001b[0margs\u001b[0m\u001b[0;34m:\u001b[0m \u001b[0mAny\u001b[0m\u001b[0;34m,\u001b[0m \u001b[0;34m**\u001b[0m\u001b[0mkw\u001b[0m\u001b[0;34m:\u001b[0m \u001b[0mAny\u001b[0m\u001b[0;34m)\u001b[0m \u001b[0;34m->\u001b[0m \u001b[0mAny\u001b[0m\u001b[0;34m:\u001b[0m\u001b[0;34m\u001b[0m\u001b[0;34m\u001b[0m\u001b[0m\n\u001b[0;32m--> 429\u001b[0;31m             \u001b[0;32mreturn\u001b[0m \u001b[0mcls\u001b[0m\u001b[0;34m.\u001b[0m\u001b[0m_new\u001b[0m\u001b[0;34m(\u001b[0m\u001b[0;34m*\u001b[0m\u001b[0margs\u001b[0m\u001b[0;34m,\u001b[0m \u001b[0;34m**\u001b[0m\u001b[0mkw\u001b[0m\u001b[0;34m)\u001b[0m\u001b[0;34m\u001b[0m\u001b[0;34m\u001b[0m\u001b[0m\n\u001b[0m\u001b[1;32m    430\u001b[0m \u001b[0;34m\u001b[0m\u001b[0m\n\u001b[1;32m    431\u001b[0m     \u001b[0;34m@\u001b[0m\u001b[0mclassmethod\u001b[0m\u001b[0;34m\u001b[0m\u001b[0;34m\u001b[0m\u001b[0m\n",
            "\u001b[0;32m/usr/local/lib/python3.11/dist-packages/sqlalchemy/sql/schema.py\u001b[0m in \u001b[0;36m_new\u001b[0;34m(cls, *args, **kw)\u001b[0m\n\u001b[1;32m    459\u001b[0m         \u001b[0;32mif\u001b[0m \u001b[0mkey\u001b[0m \u001b[0;32min\u001b[0m \u001b[0mmetadata\u001b[0m\u001b[0;34m.\u001b[0m\u001b[0mtables\u001b[0m\u001b[0;34m:\u001b[0m\u001b[0;34m\u001b[0m\u001b[0;34m\u001b[0m\u001b[0m\n\u001b[1;32m    460\u001b[0m             \u001b[0;32mif\u001b[0m \u001b[0;32mnot\u001b[0m \u001b[0mkeep_existing\u001b[0m \u001b[0;32mand\u001b[0m \u001b[0;32mnot\u001b[0m \u001b[0mextend_existing\u001b[0m \u001b[0;32mand\u001b[0m \u001b[0mbool\u001b[0m\u001b[0;34m(\u001b[0m\u001b[0margs\u001b[0m\u001b[0;34m)\u001b[0m\u001b[0;34m:\u001b[0m\u001b[0;34m\u001b[0m\u001b[0;34m\u001b[0m\u001b[0m\n\u001b[0;32m--> 461\u001b[0;31m                 raise exc.InvalidRequestError(\n\u001b[0m\u001b[1;32m    462\u001b[0m                     \u001b[0;34mf\"Table '{key}' is already defined for this MetaData \"\u001b[0m\u001b[0;34m\u001b[0m\u001b[0;34m\u001b[0m\u001b[0m\n\u001b[1;32m    463\u001b[0m                     \u001b[0;34m\"instance.  Specify 'extend_existing=True' \"\u001b[0m\u001b[0;34m\u001b[0m\u001b[0;34m\u001b[0m\u001b[0m\n",
            "\u001b[0;31mInvalidRequestError\u001b[0m: Table 'user' is already defined for this MetaData instance.  Specify 'extend_existing=True' to redefine options and columns on an existing Table object."
          ]
        }
      ]
    },
    {
      "cell_type": "markdown",
      "source": [
        "\n",
        "🧱 4. Create the Database and Tables\n",
        "You can use the Python shell or a setup script"
      ],
      "metadata": {
        "id": "tHMQ0wzGe_mV"
      }
    },
    {
      "cell_type": "code",
      "source": [
        "with app.app_context():\n",
        "    db.create_all()  # Creates the tables based on the models\n"
      ],
      "metadata": {
        "id": "hKAOLmazfCuz"
      },
      "execution_count": 128,
      "outputs": []
    },
    {
      "cell_type": "markdown",
      "source": [
        "🔄 5. CRUD Operations\n",
        "➕ Add a User:\n"
      ],
      "metadata": {
        "id": "zHxzHILCfImF"
      }
    },
    {
      "cell_type": "code",
      "source": [
        "new_user = User(username='alice', email='alice@example.com')\n",
        "db.session.add(new_user)\n",
        "db.session.commit()\n"
      ],
      "metadata": {
        "id": "SqkH1XhTfKWo",
        "colab": {
          "base_uri": "https://localhost:8080/",
          "height": 391
        },
        "outputId": "ccc72666-b49a-4b9c-876d-8821f26236bc"
      },
      "execution_count": 27,
      "outputs": [
        {
          "output_type": "error",
          "ename": "RuntimeError",
          "evalue": "Working outside of application context.\n\nThis typically means that you attempted to use functionality that needed\nthe current application. To solve this, set up an application context\nwith app.app_context(). See the documentation for more information.",
          "traceback": [
            "\u001b[0;31m---------------------------------------------------------------------------\u001b[0m",
            "\u001b[0;31mRuntimeError\u001b[0m                              Traceback (most recent call last)",
            "\u001b[0;32m<ipython-input-27-661b9a802d20>\u001b[0m in \u001b[0;36m<cell line: 0>\u001b[0;34m()\u001b[0m\n\u001b[1;32m      1\u001b[0m \u001b[0mnew_user\u001b[0m \u001b[0;34m=\u001b[0m \u001b[0mUser\u001b[0m\u001b[0;34m(\u001b[0m\u001b[0musername\u001b[0m\u001b[0;34m=\u001b[0m\u001b[0;34m'alice'\u001b[0m\u001b[0;34m,\u001b[0m \u001b[0memail\u001b[0m\u001b[0;34m=\u001b[0m\u001b[0;34m'alice@example.com'\u001b[0m\u001b[0;34m)\u001b[0m\u001b[0;34m\u001b[0m\u001b[0;34m\u001b[0m\u001b[0m\n\u001b[0;32m----> 2\u001b[0;31m \u001b[0mdb\u001b[0m\u001b[0;34m.\u001b[0m\u001b[0msession\u001b[0m\u001b[0;34m.\u001b[0m\u001b[0madd\u001b[0m\u001b[0;34m(\u001b[0m\u001b[0mnew_user\u001b[0m\u001b[0;34m)\u001b[0m\u001b[0;34m\u001b[0m\u001b[0;34m\u001b[0m\u001b[0m\n\u001b[0m\u001b[1;32m      3\u001b[0m \u001b[0mdb\u001b[0m\u001b[0;34m.\u001b[0m\u001b[0msession\u001b[0m\u001b[0;34m.\u001b[0m\u001b[0mcommit\u001b[0m\u001b[0;34m(\u001b[0m\u001b[0;34m)\u001b[0m\u001b[0;34m\u001b[0m\u001b[0;34m\u001b[0m\u001b[0m\n",
            "\u001b[0;32m/usr/local/lib/python3.11/dist-packages/sqlalchemy/orm/scoping.py\u001b[0m in \u001b[0;36madd\u001b[0;34m(self, instance, _warn)\u001b[0m\n\u001b[1;32m    378\u001b[0m         \"\"\"  # noqa: E501\n\u001b[1;32m    379\u001b[0m \u001b[0;34m\u001b[0m\u001b[0m\n\u001b[0;32m--> 380\u001b[0;31m         \u001b[0;32mreturn\u001b[0m \u001b[0mself\u001b[0m\u001b[0;34m.\u001b[0m\u001b[0m_proxied\u001b[0m\u001b[0;34m.\u001b[0m\u001b[0madd\u001b[0m\u001b[0;34m(\u001b[0m\u001b[0minstance\u001b[0m\u001b[0;34m,\u001b[0m \u001b[0m_warn\u001b[0m\u001b[0;34m=\u001b[0m\u001b[0m_warn\u001b[0m\u001b[0;34m)\u001b[0m\u001b[0;34m\u001b[0m\u001b[0;34m\u001b[0m\u001b[0m\n\u001b[0m\u001b[1;32m    381\u001b[0m \u001b[0;34m\u001b[0m\u001b[0m\n\u001b[1;32m    382\u001b[0m     \u001b[0;32mdef\u001b[0m \u001b[0madd_all\u001b[0m\u001b[0;34m(\u001b[0m\u001b[0mself\u001b[0m\u001b[0;34m,\u001b[0m \u001b[0minstances\u001b[0m\u001b[0;34m:\u001b[0m \u001b[0mIterable\u001b[0m\u001b[0;34m[\u001b[0m\u001b[0mobject\u001b[0m\u001b[0;34m]\u001b[0m\u001b[0;34m)\u001b[0m \u001b[0;34m->\u001b[0m \u001b[0;32mNone\u001b[0m\u001b[0;34m:\u001b[0m\u001b[0;34m\u001b[0m\u001b[0;34m\u001b[0m\u001b[0m\n",
            "\u001b[0;32m/usr/local/lib/python3.11/dist-packages/sqlalchemy/orm/scoping.py\u001b[0m in \u001b[0;36m_proxied\u001b[0;34m(self)\u001b[0m\n\u001b[1;32m    195\u001b[0m     \u001b[0;34m@\u001b[0m\u001b[0mproperty\u001b[0m\u001b[0;34m\u001b[0m\u001b[0;34m\u001b[0m\u001b[0m\n\u001b[1;32m    196\u001b[0m     \u001b[0;32mdef\u001b[0m \u001b[0m_proxied\u001b[0m\u001b[0;34m(\u001b[0m\u001b[0mself\u001b[0m\u001b[0;34m)\u001b[0m \u001b[0;34m->\u001b[0m \u001b[0m_S\u001b[0m\u001b[0;34m:\u001b[0m\u001b[0;34m\u001b[0m\u001b[0;34m\u001b[0m\u001b[0m\n\u001b[0;32m--> 197\u001b[0;31m         \u001b[0;32mreturn\u001b[0m \u001b[0mself\u001b[0m\u001b[0;34m.\u001b[0m\u001b[0mregistry\u001b[0m\u001b[0;34m(\u001b[0m\u001b[0;34m)\u001b[0m\u001b[0;34m\u001b[0m\u001b[0;34m\u001b[0m\u001b[0m\n\u001b[0m\u001b[1;32m    198\u001b[0m \u001b[0;34m\u001b[0m\u001b[0m\n\u001b[1;32m    199\u001b[0m     \u001b[0;32mdef\u001b[0m \u001b[0m__call__\u001b[0m\u001b[0;34m(\u001b[0m\u001b[0mself\u001b[0m\u001b[0;34m,\u001b[0m \u001b[0;34m**\u001b[0m\u001b[0mkw\u001b[0m\u001b[0;34m:\u001b[0m \u001b[0mAny\u001b[0m\u001b[0;34m)\u001b[0m \u001b[0;34m->\u001b[0m \u001b[0m_S\u001b[0m\u001b[0;34m:\u001b[0m\u001b[0;34m\u001b[0m\u001b[0;34m\u001b[0m\u001b[0m\n",
            "\u001b[0;32m/usr/local/lib/python3.11/dist-packages/sqlalchemy/util/_collections.py\u001b[0m in \u001b[0;36m__call__\u001b[0;34m(self)\u001b[0m\n\u001b[1;32m    632\u001b[0m \u001b[0;34m\u001b[0m\u001b[0m\n\u001b[1;32m    633\u001b[0m     \u001b[0;32mdef\u001b[0m \u001b[0m__call__\u001b[0m\u001b[0;34m(\u001b[0m\u001b[0mself\u001b[0m\u001b[0;34m)\u001b[0m \u001b[0;34m->\u001b[0m \u001b[0m_T\u001b[0m\u001b[0;34m:\u001b[0m\u001b[0;34m\u001b[0m\u001b[0;34m\u001b[0m\u001b[0m\n\u001b[0;32m--> 634\u001b[0;31m         \u001b[0mkey\u001b[0m \u001b[0;34m=\u001b[0m \u001b[0mself\u001b[0m\u001b[0;34m.\u001b[0m\u001b[0mscopefunc\u001b[0m\u001b[0;34m(\u001b[0m\u001b[0;34m)\u001b[0m\u001b[0;34m\u001b[0m\u001b[0;34m\u001b[0m\u001b[0m\n\u001b[0m\u001b[1;32m    635\u001b[0m         \u001b[0;32mtry\u001b[0m\u001b[0;34m:\u001b[0m\u001b[0;34m\u001b[0m\u001b[0;34m\u001b[0m\u001b[0m\n\u001b[1;32m    636\u001b[0m             \u001b[0;32mreturn\u001b[0m \u001b[0mself\u001b[0m\u001b[0;34m.\u001b[0m\u001b[0mregistry\u001b[0m\u001b[0;34m[\u001b[0m\u001b[0mkey\u001b[0m\u001b[0;34m]\u001b[0m  \u001b[0;31m# type: ignore[no-any-return]\u001b[0m\u001b[0;34m\u001b[0m\u001b[0;34m\u001b[0m\u001b[0m\n",
            "\u001b[0;32m/usr/local/lib/python3.11/dist-packages/flask_sqlalchemy/session.py\u001b[0m in \u001b[0;36m_app_ctx_id\u001b[0;34m()\u001b[0m\n\u001b[1;32m    109\u001b[0m \u001b[0;32mdef\u001b[0m \u001b[0m_app_ctx_id\u001b[0m\u001b[0;34m(\u001b[0m\u001b[0;34m)\u001b[0m \u001b[0;34m->\u001b[0m \u001b[0mint\u001b[0m\u001b[0;34m:\u001b[0m\u001b[0;34m\u001b[0m\u001b[0;34m\u001b[0m\u001b[0m\n\u001b[1;32m    110\u001b[0m     \u001b[0;34m\"\"\"Get the id of the current Flask application context for the session scope.\"\"\"\u001b[0m\u001b[0;34m\u001b[0m\u001b[0;34m\u001b[0m\u001b[0m\n\u001b[0;32m--> 111\u001b[0;31m     \u001b[0;32mreturn\u001b[0m \u001b[0mid\u001b[0m\u001b[0;34m(\u001b[0m\u001b[0mapp_ctx\u001b[0m\u001b[0;34m.\u001b[0m\u001b[0m_get_current_object\u001b[0m\u001b[0;34m(\u001b[0m\u001b[0;34m)\u001b[0m\u001b[0;34m)\u001b[0m  \u001b[0;31m# type: ignore[attr-defined]\u001b[0m\u001b[0;34m\u001b[0m\u001b[0;34m\u001b[0m\u001b[0m\n\u001b[0m",
            "\u001b[0;32m/usr/local/lib/python3.11/dist-packages/werkzeug/local.py\u001b[0m in \u001b[0;36m_get_current_object\u001b[0;34m()\u001b[0m\n\u001b[1;32m    517\u001b[0m                     \u001b[0mobj\u001b[0m \u001b[0;34m=\u001b[0m \u001b[0mlocal\u001b[0m\u001b[0;34m.\u001b[0m\u001b[0mget\u001b[0m\u001b[0;34m(\u001b[0m\u001b[0;34m)\u001b[0m\u001b[0;34m\u001b[0m\u001b[0;34m\u001b[0m\u001b[0m\n\u001b[1;32m    518\u001b[0m                 \u001b[0;32mexcept\u001b[0m \u001b[0mLookupError\u001b[0m\u001b[0;34m:\u001b[0m\u001b[0;34m\u001b[0m\u001b[0;34m\u001b[0m\u001b[0m\n\u001b[0;32m--> 519\u001b[0;31m                     \u001b[0;32mraise\u001b[0m \u001b[0mRuntimeError\u001b[0m\u001b[0;34m(\u001b[0m\u001b[0munbound_message\u001b[0m\u001b[0;34m)\u001b[0m \u001b[0;32mfrom\u001b[0m \u001b[0;32mNone\u001b[0m\u001b[0;34m\u001b[0m\u001b[0;34m\u001b[0m\u001b[0m\n\u001b[0m\u001b[1;32m    520\u001b[0m \u001b[0;34m\u001b[0m\u001b[0m\n\u001b[1;32m    521\u001b[0m                 \u001b[0;32mreturn\u001b[0m \u001b[0mget_name\u001b[0m\u001b[0;34m(\u001b[0m\u001b[0mobj\u001b[0m\u001b[0;34m)\u001b[0m\u001b[0;34m\u001b[0m\u001b[0;34m\u001b[0m\u001b[0m\n",
            "\u001b[0;31mRuntimeError\u001b[0m: Working outside of application context.\n\nThis typically means that you attempted to use functionality that needed\nthe current application. To solve this, set up an application context\nwith app.app_context(). See the documentation for more information."
          ]
        }
      ]
    },
    {
      "cell_type": "markdown",
      "source": [
        "🔍 Query Users:\n"
      ],
      "metadata": {
        "id": "68fA44KEfNcq"
      }
    },
    {
      "cell_type": "code",
      "source": [
        "users = User.query.all()\n",
        "user = User.query.filter_by(username='alice').first()\n"
      ],
      "metadata": {
        "id": "UchftmzKfQc1",
        "colab": {
          "base_uri": "https://localhost:8080/",
          "height": 373
        },
        "outputId": "1f71717b-f792-49f7-b6de-8cdea52b8104"
      },
      "execution_count": 28,
      "outputs": [
        {
          "output_type": "error",
          "ename": "RuntimeError",
          "evalue": "Working outside of application context.\n\nThis typically means that you attempted to use functionality that needed\nthe current application. To solve this, set up an application context\nwith app.app_context(). See the documentation for more information.",
          "traceback": [
            "\u001b[0;31m---------------------------------------------------------------------------\u001b[0m",
            "\u001b[0;31mRuntimeError\u001b[0m                              Traceback (most recent call last)",
            "\u001b[0;32m<ipython-input-28-8c01c8250764>\u001b[0m in \u001b[0;36m<cell line: 0>\u001b[0;34m()\u001b[0m\n\u001b[0;32m----> 1\u001b[0;31m \u001b[0musers\u001b[0m \u001b[0;34m=\u001b[0m \u001b[0mUser\u001b[0m\u001b[0;34m.\u001b[0m\u001b[0mquery\u001b[0m\u001b[0;34m.\u001b[0m\u001b[0mall\u001b[0m\u001b[0;34m(\u001b[0m\u001b[0;34m)\u001b[0m\u001b[0;34m\u001b[0m\u001b[0;34m\u001b[0m\u001b[0m\n\u001b[0m\u001b[1;32m      2\u001b[0m \u001b[0muser\u001b[0m \u001b[0;34m=\u001b[0m \u001b[0mUser\u001b[0m\u001b[0;34m.\u001b[0m\u001b[0mquery\u001b[0m\u001b[0;34m.\u001b[0m\u001b[0mfilter_by\u001b[0m\u001b[0;34m(\u001b[0m\u001b[0musername\u001b[0m\u001b[0;34m=\u001b[0m\u001b[0;34m'alice'\u001b[0m\u001b[0;34m)\u001b[0m\u001b[0;34m.\u001b[0m\u001b[0mfirst\u001b[0m\u001b[0;34m(\u001b[0m\u001b[0;34m)\u001b[0m\u001b[0;34m\u001b[0m\u001b[0;34m\u001b[0m\u001b[0m\n",
            "\u001b[0;32m/usr/local/lib/python3.11/dist-packages/flask_sqlalchemy/model.py\u001b[0m in \u001b[0;36m__get__\u001b[0;34m(self, obj, cls)\u001b[0m\n\u001b[1;32m     21\u001b[0m     \u001b[0;32mdef\u001b[0m \u001b[0m__get__\u001b[0m\u001b[0;34m(\u001b[0m\u001b[0mself\u001b[0m\u001b[0;34m,\u001b[0m \u001b[0mobj\u001b[0m\u001b[0;34m:\u001b[0m \u001b[0mModel\u001b[0m \u001b[0;34m|\u001b[0m \u001b[0;32mNone\u001b[0m\u001b[0;34m,\u001b[0m \u001b[0mcls\u001b[0m\u001b[0;34m:\u001b[0m \u001b[0mtype\u001b[0m\u001b[0;34m[\u001b[0m\u001b[0mModel\u001b[0m\u001b[0;34m]\u001b[0m\u001b[0;34m)\u001b[0m \u001b[0;34m->\u001b[0m \u001b[0mQuery\u001b[0m\u001b[0;34m:\u001b[0m\u001b[0;34m\u001b[0m\u001b[0;34m\u001b[0m\u001b[0m\n\u001b[1;32m     22\u001b[0m         return cls.query_class(\n\u001b[0;32m---> 23\u001b[0;31m             \u001b[0mcls\u001b[0m\u001b[0;34m,\u001b[0m \u001b[0msession\u001b[0m\u001b[0;34m=\u001b[0m\u001b[0mcls\u001b[0m\u001b[0;34m.\u001b[0m\u001b[0m__fsa__\u001b[0m\u001b[0;34m.\u001b[0m\u001b[0msession\u001b[0m\u001b[0;34m(\u001b[0m\u001b[0;34m)\u001b[0m  \u001b[0;31m# type: ignore[arg-type]\u001b[0m\u001b[0;34m\u001b[0m\u001b[0;34m\u001b[0m\u001b[0m\n\u001b[0m\u001b[1;32m     24\u001b[0m         )\n\u001b[1;32m     25\u001b[0m \u001b[0;34m\u001b[0m\u001b[0m\n",
            "\u001b[0;32m/usr/local/lib/python3.11/dist-packages/sqlalchemy/orm/scoping.py\u001b[0m in \u001b[0;36m__call__\u001b[0;34m(self, **kw)\u001b[0m\n\u001b[1;32m    218\u001b[0m                 \u001b[0mself\u001b[0m\u001b[0;34m.\u001b[0m\u001b[0mregistry\u001b[0m\u001b[0;34m.\u001b[0m\u001b[0mset\u001b[0m\u001b[0;34m(\u001b[0m\u001b[0msess\u001b[0m\u001b[0;34m)\u001b[0m\u001b[0;34m\u001b[0m\u001b[0;34m\u001b[0m\u001b[0m\n\u001b[1;32m    219\u001b[0m         \u001b[0;32melse\u001b[0m\u001b[0;34m:\u001b[0m\u001b[0;34m\u001b[0m\u001b[0;34m\u001b[0m\u001b[0m\n\u001b[0;32m--> 220\u001b[0;31m             \u001b[0msess\u001b[0m \u001b[0;34m=\u001b[0m \u001b[0mself\u001b[0m\u001b[0;34m.\u001b[0m\u001b[0mregistry\u001b[0m\u001b[0;34m(\u001b[0m\u001b[0;34m)\u001b[0m\u001b[0;34m\u001b[0m\u001b[0;34m\u001b[0m\u001b[0m\n\u001b[0m\u001b[1;32m    221\u001b[0m         \u001b[0;32mif\u001b[0m \u001b[0;32mnot\u001b[0m \u001b[0mself\u001b[0m\u001b[0;34m.\u001b[0m\u001b[0m_support_async\u001b[0m \u001b[0;32mand\u001b[0m \u001b[0msess\u001b[0m\u001b[0;34m.\u001b[0m\u001b[0m_is_asyncio\u001b[0m\u001b[0;34m:\u001b[0m\u001b[0;34m\u001b[0m\u001b[0;34m\u001b[0m\u001b[0m\n\u001b[1;32m    222\u001b[0m             warn_deprecated(\n",
            "\u001b[0;32m/usr/local/lib/python3.11/dist-packages/sqlalchemy/util/_collections.py\u001b[0m in \u001b[0;36m__call__\u001b[0;34m(self)\u001b[0m\n\u001b[1;32m    632\u001b[0m \u001b[0;34m\u001b[0m\u001b[0m\n\u001b[1;32m    633\u001b[0m     \u001b[0;32mdef\u001b[0m \u001b[0m__call__\u001b[0m\u001b[0;34m(\u001b[0m\u001b[0mself\u001b[0m\u001b[0;34m)\u001b[0m \u001b[0;34m->\u001b[0m \u001b[0m_T\u001b[0m\u001b[0;34m:\u001b[0m\u001b[0;34m\u001b[0m\u001b[0;34m\u001b[0m\u001b[0m\n\u001b[0;32m--> 634\u001b[0;31m         \u001b[0mkey\u001b[0m \u001b[0;34m=\u001b[0m \u001b[0mself\u001b[0m\u001b[0;34m.\u001b[0m\u001b[0mscopefunc\u001b[0m\u001b[0;34m(\u001b[0m\u001b[0;34m)\u001b[0m\u001b[0;34m\u001b[0m\u001b[0;34m\u001b[0m\u001b[0m\n\u001b[0m\u001b[1;32m    635\u001b[0m         \u001b[0;32mtry\u001b[0m\u001b[0;34m:\u001b[0m\u001b[0;34m\u001b[0m\u001b[0;34m\u001b[0m\u001b[0m\n\u001b[1;32m    636\u001b[0m             \u001b[0;32mreturn\u001b[0m \u001b[0mself\u001b[0m\u001b[0;34m.\u001b[0m\u001b[0mregistry\u001b[0m\u001b[0;34m[\u001b[0m\u001b[0mkey\u001b[0m\u001b[0;34m]\u001b[0m  \u001b[0;31m# type: ignore[no-any-return]\u001b[0m\u001b[0;34m\u001b[0m\u001b[0;34m\u001b[0m\u001b[0m\n",
            "\u001b[0;32m/usr/local/lib/python3.11/dist-packages/flask_sqlalchemy/session.py\u001b[0m in \u001b[0;36m_app_ctx_id\u001b[0;34m()\u001b[0m\n\u001b[1;32m    109\u001b[0m \u001b[0;32mdef\u001b[0m \u001b[0m_app_ctx_id\u001b[0m\u001b[0;34m(\u001b[0m\u001b[0;34m)\u001b[0m \u001b[0;34m->\u001b[0m \u001b[0mint\u001b[0m\u001b[0;34m:\u001b[0m\u001b[0;34m\u001b[0m\u001b[0;34m\u001b[0m\u001b[0m\n\u001b[1;32m    110\u001b[0m     \u001b[0;34m\"\"\"Get the id of the current Flask application context for the session scope.\"\"\"\u001b[0m\u001b[0;34m\u001b[0m\u001b[0;34m\u001b[0m\u001b[0m\n\u001b[0;32m--> 111\u001b[0;31m     \u001b[0;32mreturn\u001b[0m \u001b[0mid\u001b[0m\u001b[0;34m(\u001b[0m\u001b[0mapp_ctx\u001b[0m\u001b[0;34m.\u001b[0m\u001b[0m_get_current_object\u001b[0m\u001b[0;34m(\u001b[0m\u001b[0;34m)\u001b[0m\u001b[0;34m)\u001b[0m  \u001b[0;31m# type: ignore[attr-defined]\u001b[0m\u001b[0;34m\u001b[0m\u001b[0;34m\u001b[0m\u001b[0m\n\u001b[0m",
            "\u001b[0;32m/usr/local/lib/python3.11/dist-packages/werkzeug/local.py\u001b[0m in \u001b[0;36m_get_current_object\u001b[0;34m()\u001b[0m\n\u001b[1;32m    517\u001b[0m                     \u001b[0mobj\u001b[0m \u001b[0;34m=\u001b[0m \u001b[0mlocal\u001b[0m\u001b[0;34m.\u001b[0m\u001b[0mget\u001b[0m\u001b[0;34m(\u001b[0m\u001b[0;34m)\u001b[0m\u001b[0;34m\u001b[0m\u001b[0;34m\u001b[0m\u001b[0m\n\u001b[1;32m    518\u001b[0m                 \u001b[0;32mexcept\u001b[0m \u001b[0mLookupError\u001b[0m\u001b[0;34m:\u001b[0m\u001b[0;34m\u001b[0m\u001b[0;34m\u001b[0m\u001b[0m\n\u001b[0;32m--> 519\u001b[0;31m                     \u001b[0;32mraise\u001b[0m \u001b[0mRuntimeError\u001b[0m\u001b[0;34m(\u001b[0m\u001b[0munbound_message\u001b[0m\u001b[0;34m)\u001b[0m \u001b[0;32mfrom\u001b[0m \u001b[0;32mNone\u001b[0m\u001b[0;34m\u001b[0m\u001b[0;34m\u001b[0m\u001b[0m\n\u001b[0m\u001b[1;32m    520\u001b[0m \u001b[0;34m\u001b[0m\u001b[0m\n\u001b[1;32m    521\u001b[0m                 \u001b[0;32mreturn\u001b[0m \u001b[0mget_name\u001b[0m\u001b[0;34m(\u001b[0m\u001b[0mobj\u001b[0m\u001b[0;34m)\u001b[0m\u001b[0;34m\u001b[0m\u001b[0;34m\u001b[0m\u001b[0m\n",
            "\u001b[0;31mRuntimeError\u001b[0m: Working outside of application context.\n\nThis typically means that you attempted to use functionality that needed\nthe current application. To solve this, set up an application context\nwith app.app_context(). See the documentation for more information."
          ]
        }
      ]
    },
    {
      "cell_type": "markdown",
      "source": [
        "✏️ Update:\n"
      ],
      "metadata": {
        "id": "hX02A7j0fS20"
      }
    },
    {
      "cell_type": "code",
      "source": [
        "user.email = 'newalice@example.com'\n",
        "db.session.commit()\n"
      ],
      "metadata": {
        "id": "qVkUCDm5fi63",
        "colab": {
          "base_uri": "https://localhost:8080/",
          "height": 158
        },
        "outputId": "3aeafae9-3ce4-4e99-9b44-8b0b5aba4a9c"
      },
      "execution_count": 29,
      "outputs": [
        {
          "output_type": "error",
          "ename": "NameError",
          "evalue": "name 'user' is not defined",
          "traceback": [
            "\u001b[0;31m---------------------------------------------------------------------------\u001b[0m",
            "\u001b[0;31mNameError\u001b[0m                                 Traceback (most recent call last)",
            "\u001b[0;32m<ipython-input-29-096dd3520d30>\u001b[0m in \u001b[0;36m<cell line: 0>\u001b[0;34m()\u001b[0m\n\u001b[0;32m----> 1\u001b[0;31m \u001b[0muser\u001b[0m\u001b[0;34m.\u001b[0m\u001b[0memail\u001b[0m \u001b[0;34m=\u001b[0m \u001b[0;34m'newalice@example.com'\u001b[0m\u001b[0;34m\u001b[0m\u001b[0;34m\u001b[0m\u001b[0m\n\u001b[0m\u001b[1;32m      2\u001b[0m \u001b[0mdb\u001b[0m\u001b[0;34m.\u001b[0m\u001b[0msession\u001b[0m\u001b[0;34m.\u001b[0m\u001b[0mcommit\u001b[0m\u001b[0;34m(\u001b[0m\u001b[0;34m)\u001b[0m\u001b[0;34m\u001b[0m\u001b[0;34m\u001b[0m\u001b[0m\n",
            "\u001b[0;31mNameError\u001b[0m: name 'user' is not defined"
          ]
        }
      ]
    },
    {
      "cell_type": "markdown",
      "source": [
        "❌ Delete:\n"
      ],
      "metadata": {
        "id": "YJD1oYY9fl6u"
      }
    },
    {
      "cell_type": "code",
      "source": [
        "db.session.delete(user)\n",
        "db.session.commit()\n"
      ],
      "metadata": {
        "id": "vbRQx3oafpRy",
        "colab": {
          "base_uri": "https://localhost:8080/",
          "height": 158
        },
        "outputId": "70afef5c-7e75-4356-941d-da7a31bfcebb"
      },
      "execution_count": 126,
      "outputs": [
        {
          "output_type": "error",
          "ename": "NameError",
          "evalue": "name 'user' is not defined",
          "traceback": [
            "\u001b[0;31m---------------------------------------------------------------------------\u001b[0m",
            "\u001b[0;31mNameError\u001b[0m                                 Traceback (most recent call last)",
            "\u001b[0;32m<ipython-input-126-ffe564cb430e>\u001b[0m in \u001b[0;36m<cell line: 0>\u001b[0;34m()\u001b[0m\n\u001b[0;32m----> 1\u001b[0;31m \u001b[0mdb\u001b[0m\u001b[0;34m.\u001b[0m\u001b[0msession\u001b[0m\u001b[0;34m.\u001b[0m\u001b[0mdelete\u001b[0m\u001b[0;34m(\u001b[0m\u001b[0muser\u001b[0m\u001b[0;34m)\u001b[0m\u001b[0;34m\u001b[0m\u001b[0;34m\u001b[0m\u001b[0m\n\u001b[0m\u001b[1;32m      2\u001b[0m \u001b[0mdb\u001b[0m\u001b[0;34m.\u001b[0m\u001b[0msession\u001b[0m\u001b[0;34m.\u001b[0m\u001b[0mcommit\u001b[0m\u001b[0;34m(\u001b[0m\u001b[0;34m)\u001b[0m\u001b[0;34m\u001b[0m\u001b[0;34m\u001b[0m\u001b[0m\n",
            "\u001b[0;31mNameError\u001b[0m: name 'user' is not defined"
          ]
        }
      ]
    },
    {
      "cell_type": "markdown",
      "source": [
        "🔗 Other Database Options\n",
        "If you don’t want an ORM:\n",
        "\n",
        "Use sqlite3 (built-in)\n",
        "\n",
        "Use psycopg2 for PostgreSQL manually\n",
        "\n",
        "Use PyMySQL for raw MySQL access\n",
        "\n",
        "But SQLAlchemy is highly recommended for most use cases.\n",
        "\n",
        "\n",
        "11) What is the role of Flask-SQLAlchemy?\n",
        "\n",
        "Ans:- Flask-SQLAlchemy is an extension for Flask that integrates SQLAlchemy (a powerful SQL toolkit and Object-Relational Mapper) into your Flask application in a simple and Pythonic way.\n",
        "\n",
        "🎯 Role of Flask-SQLAlchemy\n",
        "Flask-SQLAlchemy acts as a bridge between Flask and SQLAlchemy, making it easier to:\n",
        "\n",
        "Connect Flask to relational databases (like SQLite, PostgreSQL, MySQL).\n",
        "\n",
        "Define models (tables) using Python classes.\n",
        "\n",
        "Perform CRUD operations using object-oriented syntax instead of raw SQL.\n",
        "\n",
        "Manage database sessions and connections efficiently.\n",
        "\n",
        "Create and manage the database schema via Python code.\n",
        "\n",
        "🔧 Key Features\n",
        "Feature\tDescription\n",
        "ORM Integration\tUse Python classes to interact with tables.\n",
        "Connection Management\tHandles opening/closing DB connections.\n",
        "Declarative Syntax\tDefine models easily using class-based syntax.\n",
        "Simplified Configuration\tWorks seamlessly with Flask config.\n",
        "Context-Aware Sessions\tAutomatically manages sessions within Flask app context.\n",
        "\n",
        "🧱 Example Role in a Flask App\n"
      ],
      "metadata": {
        "id": "1CPFrCz5frXd"
      }
    },
    {
      "cell_type": "code",
      "source": [
        "from flask import Flask\n",
        "from flask_sqlalchemy import SQLAlchemy\n",
        "\n",
        "app = Flask(__name__)\n",
        "app.config['SQLALCHEMY_DATABASE_URI'] = 'sqlite:///example.db'\n",
        "\n",
        "# Flask-SQLAlchemy instance\n",
        "db = SQLAlchemy(app)\n",
        "\n",
        "# Model (represents a table)\n",
        "class User(db.Model):\n",
        "    id = db.Column(db.Integer, primary_key=True)\n",
        "    name = db.Column(db.String(80), nullable=False)\n"
      ],
      "metadata": {
        "id": "9yz9QgQDgO6m"
      },
      "execution_count": 125,
      "outputs": []
    },
    {
      "cell_type": "markdown",
      "source": [
        "With Flask-SQLAlchemy:\n",
        "\n",
        "User class automatically maps to a table.\n",
        "\n",
        "You can query using User.query.filter_by(name='Alice').\n",
        "\n",
        "No manual connection or SQL handling needed.\n",
        "\n",
        "12) What are Flask blueprints, and how are they useful?\n",
        "\n",
        "Ans:- Flask Blueprints are a way to organize and modularize a Flask application by grouping related routes, templates, static files, and other code into reusable components.\n",
        "\n",
        "🎯 What are Flask Blueprints?\n",
        "Think of blueprints as mini Flask apps or modules inside your main Flask app.\n",
        "\n",
        "They allow you to split your application into smaller, manageable parts.\n",
        "\n",
        "Each blueprint can have its own:\n",
        "\n",
        "Routes (endpoints)\n",
        "\n",
        "Templates\n",
        "\n",
        "Static files\n",
        "\n",
        "Error handlers\n",
        "\n",
        "Later, you register these blueprints on the main Flask app.\n",
        "\n",
        "🛠️ Why Are They Useful?\n",
        "Organization\n",
        "Helps keep your project structure clean, especially when your app grows big.\n",
        "\n",
        "Reusability\n",
        "Blueprints can be reused across different projects or apps.\n",
        "\n",
        "Collaboration\n",
        "Multiple developers can work on different blueprints independently.\n",
        "\n",
        "Separation of Concerns\n",
        "You can logically separate features, e.g., one blueprint for user management, another for blog posts.\n",
        "\n",
        "🔥 Example Usage\n",
        "Create a blueprint (users.py):\n"
      ],
      "metadata": {
        "id": "6Gx661wsgW3R"
      }
    },
    {
      "cell_type": "code",
      "source": [
        "from flask import Blueprint\n",
        "\n",
        "users_bp = Blueprint('users', __name__)\n",
        "\n",
        "@users_bp.route('/users')\n",
        "def list_users():\n",
        "    return \"List of users\"\n",
        "\n"
      ],
      "metadata": {
        "id": "kVcLXea5gyJo"
      },
      "execution_count": 124,
      "outputs": []
    },
    {
      "cell_type": "markdown",
      "source": [
        "Register blueprint in the main app (app.py):\n"
      ],
      "metadata": {
        "id": "CCMMvIv1gaiS"
      }
    },
    {
      "cell_type": "code",
      "source": [
        "from flask import Flask\n",
        "from users import users_bp  # Import the blueprint\n",
        "\n",
        "app = Flask(__name__)\n",
        "app.register_blueprint(users_bp)  # Register blueprint\n",
        "\n",
        "if __name__ == '__main__':\n",
        "    app.run(debug=True)\n"
      ],
      "metadata": {
        "id": "rOIH2vf5g8YS",
        "colab": {
          "base_uri": "https://localhost:8080/",
          "height": 383
        },
        "outputId": "6e3363d4-9e45-43b1-e5a1-303c6b4cc44e"
      },
      "execution_count": 123,
      "outputs": [
        {
          "output_type": "error",
          "ename": "ModuleNotFoundError",
          "evalue": "No module named 'users'",
          "traceback": [
            "\u001b[0;31m---------------------------------------------------------------------------\u001b[0m",
            "\u001b[0;31mModuleNotFoundError\u001b[0m                       Traceback (most recent call last)",
            "\u001b[0;32m<ipython-input-123-2abea38a6442>\u001b[0m in \u001b[0;36m<cell line: 0>\u001b[0;34m()\u001b[0m\n\u001b[1;32m      1\u001b[0m \u001b[0;32mfrom\u001b[0m \u001b[0mflask\u001b[0m \u001b[0;32mimport\u001b[0m \u001b[0mFlask\u001b[0m\u001b[0;34m\u001b[0m\u001b[0;34m\u001b[0m\u001b[0m\n\u001b[0;32m----> 2\u001b[0;31m \u001b[0;32mfrom\u001b[0m \u001b[0musers\u001b[0m \u001b[0;32mimport\u001b[0m \u001b[0musers_bp\u001b[0m  \u001b[0;31m# Import the blueprint\u001b[0m\u001b[0;34m\u001b[0m\u001b[0;34m\u001b[0m\u001b[0m\n\u001b[0m\u001b[1;32m      3\u001b[0m \u001b[0;34m\u001b[0m\u001b[0m\n\u001b[1;32m      4\u001b[0m \u001b[0mapp\u001b[0m \u001b[0;34m=\u001b[0m \u001b[0mFlask\u001b[0m\u001b[0;34m(\u001b[0m\u001b[0m__name__\u001b[0m\u001b[0;34m)\u001b[0m\u001b[0;34m\u001b[0m\u001b[0;34m\u001b[0m\u001b[0m\n\u001b[1;32m      5\u001b[0m \u001b[0mapp\u001b[0m\u001b[0;34m.\u001b[0m\u001b[0mregister_blueprint\u001b[0m\u001b[0;34m(\u001b[0m\u001b[0musers_bp\u001b[0m\u001b[0;34m)\u001b[0m  \u001b[0;31m# Register blueprint\u001b[0m\u001b[0;34m\u001b[0m\u001b[0;34m\u001b[0m\u001b[0m\n",
            "\u001b[0;31mModuleNotFoundError\u001b[0m: No module named 'users'",
            "",
            "\u001b[0;31m---------------------------------------------------------------------------\u001b[0;32m\nNOTE: If your import is failing due to a missing package, you can\nmanually install dependencies using either !pip or !apt.\n\nTo view examples of installing some common dependencies, click the\n\"Open Examples\" button below.\n\u001b[0;31m---------------------------------------------------------------------------\u001b[0m\n"
          ],
          "errorDetails": {
            "actions": [
              {
                "action": "open_url",
                "actionText": "Open Examples",
                "url": "/notebooks/snippets/importing_libraries.ipynb"
              }
            ]
          }
        }
      ]
    },
    {
      "cell_type": "markdown",
      "source": [
        "🚀 Advanced\n",
        "Blueprints can have URL prefixes"
      ],
      "metadata": {
        "id": "yjJiYYf0hAN4"
      }
    },
    {
      "cell_type": "code",
      "source": [
        "app.register_blueprint(users_bp, url_prefix='/api')\n"
      ],
      "metadata": {
        "id": "OZpRAttFjHXX",
        "colab": {
          "base_uri": "https://localhost:8080/",
          "height": 141
        },
        "outputId": "52b8c365-6a0b-494a-8e6a-ea7c348998cf"
      },
      "execution_count": 122,
      "outputs": [
        {
          "output_type": "error",
          "ename": "NameError",
          "evalue": "name 'users_bp' is not defined",
          "traceback": [
            "\u001b[0;31m---------------------------------------------------------------------------\u001b[0m",
            "\u001b[0;31mNameError\u001b[0m                                 Traceback (most recent call last)",
            "\u001b[0;32m<ipython-input-122-129d1be7150d>\u001b[0m in \u001b[0;36m<cell line: 0>\u001b[0;34m()\u001b[0m\n\u001b[0;32m----> 1\u001b[0;31m \u001b[0mapp\u001b[0m\u001b[0;34m.\u001b[0m\u001b[0mregister_blueprint\u001b[0m\u001b[0;34m(\u001b[0m\u001b[0musers_bp\u001b[0m\u001b[0;34m,\u001b[0m \u001b[0murl_prefix\u001b[0m\u001b[0;34m=\u001b[0m\u001b[0;34m'/api'\u001b[0m\u001b[0;34m)\u001b[0m\u001b[0;34m\u001b[0m\u001b[0;34m\u001b[0m\u001b[0m\n\u001b[0m",
            "\u001b[0;31mNameError\u001b[0m: name 'users_bp' is not defined"
          ]
        }
      ]
    },
    {
      "cell_type": "markdown",
      "source": [
        "13) What is the purpose of Flask's request object?\n",
        "\n",
        "Ans:- The Flask request object represents the incoming HTTP request sent by a client to your Flask application. It provides all the data and information about that request in an easy-to-access, Pythonic way.\n",
        "\n",
        "🎯 Purpose of Flask's request object:\n",
        "To access data sent by the client (browser, API client, etc.)\n",
        "\n",
        "To retrieve HTTP method, headers, form data, JSON payload, cookies, query parameters, and more\n",
        "\n",
        "To help you handle and process the details of the client’s request within your route functions\n",
        "\n",
        "🔍 What You Can Access via request:\n",
        "Attribute/Method\tDescription\n",
        "request.method\tHTTP method (GET, POST, PUT, etc.)\n",
        "request.args\tURL query parameters (for GET requests)\n",
        "request.form\tForm data submitted via POST\n",
        "request.json\tParsed JSON payload\n",
        "request.headers\tHTTP headers dictionary\n",
        "request.cookies\tCookies sent by the client\n",
        "request.data\tRaw request data as bytes\n",
        "request.files\tUploaded files\n",
        "request.path\tThe URL path\n",
        "request.url\tFull URL of the request\n",
        "\n",
        "🧠 Example Usage"
      ],
      "metadata": {
        "id": "e9TtkWUxjIno"
      }
    },
    {
      "cell_type": "code",
      "source": [
        "from flask import Flask, request\n",
        "\n",
        "app = Flask(__name__)\n",
        "\n",
        "@app.route('/submit', methods=['POST'])\n",
        "def submit():\n",
        "    name = request.form.get('name')      # Get form field 'name'\n",
        "    data = request.json                  # Get JSON payload (if any)\n",
        "    user_agent = request.headers.get('User-Agent')\n",
        "    return f\"Hello, {name}! Your user agent is {user_agent}.\"\n"
      ],
      "metadata": {
        "id": "RtNkR2pXjh0Z"
      },
      "execution_count": 121,
      "outputs": []
    },
    {
      "cell_type": "markdown",
      "source": [
        "14) How do you create a RESTful API endpoint using Flask?\n",
        "\n",
        "Ans:- Creating a RESTful API endpoint in Flask is straightforward! You define a route that responds to HTTP methods (GET, POST, etc.) and returns data, usually in JSON format.\n",
        "\n",
        "Step-by-step to create a simple RESTful API endpoint in Flask\n",
        "1. Set up Flask\n"
      ],
      "metadata": {
        "id": "lk_6gXevjiyw"
      }
    },
    {
      "cell_type": "code",
      "source": [
        "from flask import Flask, jsonify, request\n",
        "\n",
        "app = Flask(__name__)\n"
      ],
      "metadata": {
        "id": "wGGNuZ7cj8jr"
      },
      "execution_count": 120,
      "outputs": []
    },
    {
      "cell_type": "markdown",
      "source": [
        "2. Create an API endpoint\n",
        "Example: A simple endpoint to manage a list of users."
      ],
      "metadata": {
        "id": "g3mS2pRpj9u7"
      }
    },
    {
      "cell_type": "code",
      "source": [
        "users = [\n",
        "    {'id': 1, 'name': 'Alice'},\n",
        "    {'id': 2, 'name': 'Bob'}\n",
        "]\n",
        "\n",
        "@app.route('/api/users', methods=['GET'])\n",
        "def get_users():\n",
        "    return jsonify(users)\n"
      ],
      "metadata": {
        "id": "_LccrgxGkBN4",
        "colab": {
          "base_uri": "https://localhost:8080/",
          "height": 356
        },
        "outputId": "fdb6da38-41f1-402c-a07a-2eaa300ac1d8"
      },
      "execution_count": 119,
      "outputs": [
        {
          "output_type": "error",
          "ename": "AssertionError",
          "evalue": "View function mapping is overwriting an existing endpoint function: get_users",
          "traceback": [
            "\u001b[0;31m---------------------------------------------------------------------------\u001b[0m",
            "\u001b[0;31mAssertionError\u001b[0m                            Traceback (most recent call last)",
            "\u001b[0;32m<ipython-input-119-2dc0d0e24acc>\u001b[0m in \u001b[0;36m<cell line: 0>\u001b[0;34m()\u001b[0m\n\u001b[1;32m      4\u001b[0m ]\n\u001b[1;32m      5\u001b[0m \u001b[0;34m\u001b[0m\u001b[0m\n\u001b[0;32m----> 6\u001b[0;31m \u001b[0;34m@\u001b[0m\u001b[0mapp\u001b[0m\u001b[0;34m.\u001b[0m\u001b[0mroute\u001b[0m\u001b[0;34m(\u001b[0m\u001b[0;34m'/api/users'\u001b[0m\u001b[0;34m,\u001b[0m \u001b[0mmethods\u001b[0m\u001b[0;34m=\u001b[0m\u001b[0;34m[\u001b[0m\u001b[0;34m'GET'\u001b[0m\u001b[0;34m]\u001b[0m\u001b[0;34m)\u001b[0m\u001b[0;34m\u001b[0m\u001b[0;34m\u001b[0m\u001b[0m\n\u001b[0m\u001b[1;32m      7\u001b[0m \u001b[0;32mdef\u001b[0m \u001b[0mget_users\u001b[0m\u001b[0;34m(\u001b[0m\u001b[0;34m)\u001b[0m\u001b[0;34m:\u001b[0m\u001b[0;34m\u001b[0m\u001b[0;34m\u001b[0m\u001b[0m\n\u001b[1;32m      8\u001b[0m     \u001b[0;32mreturn\u001b[0m \u001b[0mjsonify\u001b[0m\u001b[0;34m(\u001b[0m\u001b[0musers\u001b[0m\u001b[0;34m)\u001b[0m\u001b[0;34m\u001b[0m\u001b[0;34m\u001b[0m\u001b[0m\n",
            "\u001b[0;32m/usr/local/lib/python3.11/dist-packages/flask/sansio/scaffold.py\u001b[0m in \u001b[0;36mdecorator\u001b[0;34m(f)\u001b[0m\n\u001b[1;32m    360\u001b[0m         \u001b[0;32mdef\u001b[0m \u001b[0mdecorator\u001b[0m\u001b[0;34m(\u001b[0m\u001b[0mf\u001b[0m\u001b[0;34m:\u001b[0m \u001b[0mT_route\u001b[0m\u001b[0;34m)\u001b[0m \u001b[0;34m->\u001b[0m \u001b[0mT_route\u001b[0m\u001b[0;34m:\u001b[0m\u001b[0;34m\u001b[0m\u001b[0;34m\u001b[0m\u001b[0m\n\u001b[1;32m    361\u001b[0m             \u001b[0mendpoint\u001b[0m \u001b[0;34m=\u001b[0m \u001b[0moptions\u001b[0m\u001b[0;34m.\u001b[0m\u001b[0mpop\u001b[0m\u001b[0;34m(\u001b[0m\u001b[0;34m\"endpoint\"\u001b[0m\u001b[0;34m,\u001b[0m \u001b[0;32mNone\u001b[0m\u001b[0;34m)\u001b[0m\u001b[0;34m\u001b[0m\u001b[0;34m\u001b[0m\u001b[0m\n\u001b[0;32m--> 362\u001b[0;31m             \u001b[0mself\u001b[0m\u001b[0;34m.\u001b[0m\u001b[0madd_url_rule\u001b[0m\u001b[0;34m(\u001b[0m\u001b[0mrule\u001b[0m\u001b[0;34m,\u001b[0m \u001b[0mendpoint\u001b[0m\u001b[0;34m,\u001b[0m \u001b[0mf\u001b[0m\u001b[0;34m,\u001b[0m \u001b[0;34m**\u001b[0m\u001b[0moptions\u001b[0m\u001b[0;34m)\u001b[0m\u001b[0;34m\u001b[0m\u001b[0;34m\u001b[0m\u001b[0m\n\u001b[0m\u001b[1;32m    363\u001b[0m             \u001b[0;32mreturn\u001b[0m \u001b[0mf\u001b[0m\u001b[0;34m\u001b[0m\u001b[0;34m\u001b[0m\u001b[0m\n\u001b[1;32m    364\u001b[0m \u001b[0;34m\u001b[0m\u001b[0m\n",
            "\u001b[0;32m/usr/local/lib/python3.11/dist-packages/flask/sansio/scaffold.py\u001b[0m in \u001b[0;36mwrapper_func\u001b[0;34m(self, *args, **kwargs)\u001b[0m\n\u001b[1;32m     45\u001b[0m     \u001b[0;32mdef\u001b[0m \u001b[0mwrapper_func\u001b[0m\u001b[0;34m(\u001b[0m\u001b[0mself\u001b[0m\u001b[0;34m:\u001b[0m \u001b[0mScaffold\u001b[0m\u001b[0;34m,\u001b[0m \u001b[0;34m*\u001b[0m\u001b[0margs\u001b[0m\u001b[0;34m:\u001b[0m \u001b[0mt\u001b[0m\u001b[0;34m.\u001b[0m\u001b[0mAny\u001b[0m\u001b[0;34m,\u001b[0m \u001b[0;34m**\u001b[0m\u001b[0mkwargs\u001b[0m\u001b[0;34m:\u001b[0m \u001b[0mt\u001b[0m\u001b[0;34m.\u001b[0m\u001b[0mAny\u001b[0m\u001b[0;34m)\u001b[0m \u001b[0;34m->\u001b[0m \u001b[0mt\u001b[0m\u001b[0;34m.\u001b[0m\u001b[0mAny\u001b[0m\u001b[0;34m:\u001b[0m\u001b[0;34m\u001b[0m\u001b[0;34m\u001b[0m\u001b[0m\n\u001b[1;32m     46\u001b[0m         \u001b[0mself\u001b[0m\u001b[0;34m.\u001b[0m\u001b[0m_check_setup_finished\u001b[0m\u001b[0;34m(\u001b[0m\u001b[0mf_name\u001b[0m\u001b[0;34m)\u001b[0m\u001b[0;34m\u001b[0m\u001b[0;34m\u001b[0m\u001b[0m\n\u001b[0;32m---> 47\u001b[0;31m         \u001b[0;32mreturn\u001b[0m \u001b[0mf\u001b[0m\u001b[0;34m(\u001b[0m\u001b[0mself\u001b[0m\u001b[0;34m,\u001b[0m \u001b[0;34m*\u001b[0m\u001b[0margs\u001b[0m\u001b[0;34m,\u001b[0m \u001b[0;34m**\u001b[0m\u001b[0mkwargs\u001b[0m\u001b[0;34m)\u001b[0m\u001b[0;34m\u001b[0m\u001b[0;34m\u001b[0m\u001b[0m\n\u001b[0m\u001b[1;32m     48\u001b[0m \u001b[0;34m\u001b[0m\u001b[0m\n\u001b[1;32m     49\u001b[0m     \u001b[0;32mreturn\u001b[0m \u001b[0mt\u001b[0m\u001b[0;34m.\u001b[0m\u001b[0mcast\u001b[0m\u001b[0;34m(\u001b[0m\u001b[0mF\u001b[0m\u001b[0;34m,\u001b[0m \u001b[0mupdate_wrapper\u001b[0m\u001b[0;34m(\u001b[0m\u001b[0mwrapper_func\u001b[0m\u001b[0;34m,\u001b[0m \u001b[0mf\u001b[0m\u001b[0;34m)\u001b[0m\u001b[0;34m)\u001b[0m\u001b[0;34m\u001b[0m\u001b[0;34m\u001b[0m\u001b[0m\n",
            "\u001b[0;32m/usr/local/lib/python3.11/dist-packages/flask/sansio/app.py\u001b[0m in \u001b[0;36madd_url_rule\u001b[0;34m(self, rule, endpoint, view_func, provide_automatic_options, **options)\u001b[0m\n\u001b[1;32m    655\u001b[0m             \u001b[0mold_func\u001b[0m \u001b[0;34m=\u001b[0m \u001b[0mself\u001b[0m\u001b[0;34m.\u001b[0m\u001b[0mview_functions\u001b[0m\u001b[0;34m.\u001b[0m\u001b[0mget\u001b[0m\u001b[0;34m(\u001b[0m\u001b[0mendpoint\u001b[0m\u001b[0;34m)\u001b[0m\u001b[0;34m\u001b[0m\u001b[0;34m\u001b[0m\u001b[0m\n\u001b[1;32m    656\u001b[0m             \u001b[0;32mif\u001b[0m \u001b[0mold_func\u001b[0m \u001b[0;32mis\u001b[0m \u001b[0;32mnot\u001b[0m \u001b[0;32mNone\u001b[0m \u001b[0;32mand\u001b[0m \u001b[0mold_func\u001b[0m \u001b[0;34m!=\u001b[0m \u001b[0mview_func\u001b[0m\u001b[0;34m:\u001b[0m\u001b[0;34m\u001b[0m\u001b[0;34m\u001b[0m\u001b[0m\n\u001b[0;32m--> 657\u001b[0;31m                 raise AssertionError(\n\u001b[0m\u001b[1;32m    658\u001b[0m                     \u001b[0;34m\"View function mapping is overwriting an existing\"\u001b[0m\u001b[0;34m\u001b[0m\u001b[0;34m\u001b[0m\u001b[0m\n\u001b[1;32m    659\u001b[0m                     \u001b[0;34mf\" endpoint function: {endpoint}\"\u001b[0m\u001b[0;34m\u001b[0m\u001b[0;34m\u001b[0m\u001b[0m\n",
            "\u001b[0;31mAssertionError\u001b[0m: View function mapping is overwriting an existing endpoint function: get_users"
          ]
        }
      ]
    },
    {
      "cell_type": "markdown",
      "source": [
        "@app.route('/api/users', methods=['GET']): defines the endpoint /api/users for GET requests.\n",
        "\n",
        "jsonify(users): sends the Python list as a JSON response.\n",
        "\n",
        "3. Add POST to create a new user"
      ],
      "metadata": {
        "id": "fO4QSnogkD6D"
      }
    },
    {
      "cell_type": "code",
      "source": [
        "@app.route('/api/users', methods=['POST'])\n",
        "def create_user():\n",
        "    new_user = request.get_json()  # Get JSON data from request body\n",
        "    users.append(new_user)         # Add the new user to the list\n",
        "    return jsonify(new_user), 201  # Return the new user with HTTP 201 Created\n"
      ],
      "metadata": {
        "id": "a5cbhtuhkJK0",
        "colab": {
          "base_uri": "https://localhost:8080/",
          "height": 356
        },
        "outputId": "48ca6ea5-7b29-4446-dfc2-45555e7b9657"
      },
      "execution_count": 118,
      "outputs": [
        {
          "output_type": "error",
          "ename": "AssertionError",
          "evalue": "View function mapping is overwriting an existing endpoint function: create_user",
          "traceback": [
            "\u001b[0;31m---------------------------------------------------------------------------\u001b[0m",
            "\u001b[0;31mAssertionError\u001b[0m                            Traceback (most recent call last)",
            "\u001b[0;32m<ipython-input-118-31b44d93b84c>\u001b[0m in \u001b[0;36m<cell line: 0>\u001b[0;34m()\u001b[0m\n\u001b[0;32m----> 1\u001b[0;31m \u001b[0;34m@\u001b[0m\u001b[0mapp\u001b[0m\u001b[0;34m.\u001b[0m\u001b[0mroute\u001b[0m\u001b[0;34m(\u001b[0m\u001b[0;34m'/api/users'\u001b[0m\u001b[0;34m,\u001b[0m \u001b[0mmethods\u001b[0m\u001b[0;34m=\u001b[0m\u001b[0;34m[\u001b[0m\u001b[0;34m'POST'\u001b[0m\u001b[0;34m]\u001b[0m\u001b[0;34m)\u001b[0m\u001b[0;34m\u001b[0m\u001b[0;34m\u001b[0m\u001b[0m\n\u001b[0m\u001b[1;32m      2\u001b[0m \u001b[0;32mdef\u001b[0m \u001b[0mcreate_user\u001b[0m\u001b[0;34m(\u001b[0m\u001b[0;34m)\u001b[0m\u001b[0;34m:\u001b[0m\u001b[0;34m\u001b[0m\u001b[0;34m\u001b[0m\u001b[0m\n\u001b[1;32m      3\u001b[0m     \u001b[0mnew_user\u001b[0m \u001b[0;34m=\u001b[0m \u001b[0mrequest\u001b[0m\u001b[0;34m.\u001b[0m\u001b[0mget_json\u001b[0m\u001b[0;34m(\u001b[0m\u001b[0;34m)\u001b[0m  \u001b[0;31m# Get JSON data from request body\u001b[0m\u001b[0;34m\u001b[0m\u001b[0;34m\u001b[0m\u001b[0m\n\u001b[1;32m      4\u001b[0m     \u001b[0musers\u001b[0m\u001b[0;34m.\u001b[0m\u001b[0mappend\u001b[0m\u001b[0;34m(\u001b[0m\u001b[0mnew_user\u001b[0m\u001b[0;34m)\u001b[0m         \u001b[0;31m# Add the new user to the list\u001b[0m\u001b[0;34m\u001b[0m\u001b[0;34m\u001b[0m\u001b[0m\n\u001b[1;32m      5\u001b[0m     \u001b[0;32mreturn\u001b[0m \u001b[0mjsonify\u001b[0m\u001b[0;34m(\u001b[0m\u001b[0mnew_user\u001b[0m\u001b[0;34m)\u001b[0m\u001b[0;34m,\u001b[0m \u001b[0;36m201\u001b[0m  \u001b[0;31m# Return the new user with HTTP 201 Created\u001b[0m\u001b[0;34m\u001b[0m\u001b[0;34m\u001b[0m\u001b[0m\n",
            "\u001b[0;32m/usr/local/lib/python3.11/dist-packages/flask/sansio/scaffold.py\u001b[0m in \u001b[0;36mdecorator\u001b[0;34m(f)\u001b[0m\n\u001b[1;32m    360\u001b[0m         \u001b[0;32mdef\u001b[0m \u001b[0mdecorator\u001b[0m\u001b[0;34m(\u001b[0m\u001b[0mf\u001b[0m\u001b[0;34m:\u001b[0m \u001b[0mT_route\u001b[0m\u001b[0;34m)\u001b[0m \u001b[0;34m->\u001b[0m \u001b[0mT_route\u001b[0m\u001b[0;34m:\u001b[0m\u001b[0;34m\u001b[0m\u001b[0;34m\u001b[0m\u001b[0m\n\u001b[1;32m    361\u001b[0m             \u001b[0mendpoint\u001b[0m \u001b[0;34m=\u001b[0m \u001b[0moptions\u001b[0m\u001b[0;34m.\u001b[0m\u001b[0mpop\u001b[0m\u001b[0;34m(\u001b[0m\u001b[0;34m\"endpoint\"\u001b[0m\u001b[0;34m,\u001b[0m \u001b[0;32mNone\u001b[0m\u001b[0;34m)\u001b[0m\u001b[0;34m\u001b[0m\u001b[0;34m\u001b[0m\u001b[0m\n\u001b[0;32m--> 362\u001b[0;31m             \u001b[0mself\u001b[0m\u001b[0;34m.\u001b[0m\u001b[0madd_url_rule\u001b[0m\u001b[0;34m(\u001b[0m\u001b[0mrule\u001b[0m\u001b[0;34m,\u001b[0m \u001b[0mendpoint\u001b[0m\u001b[0;34m,\u001b[0m \u001b[0mf\u001b[0m\u001b[0;34m,\u001b[0m \u001b[0;34m**\u001b[0m\u001b[0moptions\u001b[0m\u001b[0;34m)\u001b[0m\u001b[0;34m\u001b[0m\u001b[0;34m\u001b[0m\u001b[0m\n\u001b[0m\u001b[1;32m    363\u001b[0m             \u001b[0;32mreturn\u001b[0m \u001b[0mf\u001b[0m\u001b[0;34m\u001b[0m\u001b[0;34m\u001b[0m\u001b[0m\n\u001b[1;32m    364\u001b[0m \u001b[0;34m\u001b[0m\u001b[0m\n",
            "\u001b[0;32m/usr/local/lib/python3.11/dist-packages/flask/sansio/scaffold.py\u001b[0m in \u001b[0;36mwrapper_func\u001b[0;34m(self, *args, **kwargs)\u001b[0m\n\u001b[1;32m     45\u001b[0m     \u001b[0;32mdef\u001b[0m \u001b[0mwrapper_func\u001b[0m\u001b[0;34m(\u001b[0m\u001b[0mself\u001b[0m\u001b[0;34m:\u001b[0m \u001b[0mScaffold\u001b[0m\u001b[0;34m,\u001b[0m \u001b[0;34m*\u001b[0m\u001b[0margs\u001b[0m\u001b[0;34m:\u001b[0m \u001b[0mt\u001b[0m\u001b[0;34m.\u001b[0m\u001b[0mAny\u001b[0m\u001b[0;34m,\u001b[0m \u001b[0;34m**\u001b[0m\u001b[0mkwargs\u001b[0m\u001b[0;34m:\u001b[0m \u001b[0mt\u001b[0m\u001b[0;34m.\u001b[0m\u001b[0mAny\u001b[0m\u001b[0;34m)\u001b[0m \u001b[0;34m->\u001b[0m \u001b[0mt\u001b[0m\u001b[0;34m.\u001b[0m\u001b[0mAny\u001b[0m\u001b[0;34m:\u001b[0m\u001b[0;34m\u001b[0m\u001b[0;34m\u001b[0m\u001b[0m\n\u001b[1;32m     46\u001b[0m         \u001b[0mself\u001b[0m\u001b[0;34m.\u001b[0m\u001b[0m_check_setup_finished\u001b[0m\u001b[0;34m(\u001b[0m\u001b[0mf_name\u001b[0m\u001b[0;34m)\u001b[0m\u001b[0;34m\u001b[0m\u001b[0;34m\u001b[0m\u001b[0m\n\u001b[0;32m---> 47\u001b[0;31m         \u001b[0;32mreturn\u001b[0m \u001b[0mf\u001b[0m\u001b[0;34m(\u001b[0m\u001b[0mself\u001b[0m\u001b[0;34m,\u001b[0m \u001b[0;34m*\u001b[0m\u001b[0margs\u001b[0m\u001b[0;34m,\u001b[0m \u001b[0;34m**\u001b[0m\u001b[0mkwargs\u001b[0m\u001b[0;34m)\u001b[0m\u001b[0;34m\u001b[0m\u001b[0;34m\u001b[0m\u001b[0m\n\u001b[0m\u001b[1;32m     48\u001b[0m \u001b[0;34m\u001b[0m\u001b[0m\n\u001b[1;32m     49\u001b[0m     \u001b[0;32mreturn\u001b[0m \u001b[0mt\u001b[0m\u001b[0;34m.\u001b[0m\u001b[0mcast\u001b[0m\u001b[0;34m(\u001b[0m\u001b[0mF\u001b[0m\u001b[0;34m,\u001b[0m \u001b[0mupdate_wrapper\u001b[0m\u001b[0;34m(\u001b[0m\u001b[0mwrapper_func\u001b[0m\u001b[0;34m,\u001b[0m \u001b[0mf\u001b[0m\u001b[0;34m)\u001b[0m\u001b[0;34m)\u001b[0m\u001b[0;34m\u001b[0m\u001b[0;34m\u001b[0m\u001b[0m\n",
            "\u001b[0;32m/usr/local/lib/python3.11/dist-packages/flask/sansio/app.py\u001b[0m in \u001b[0;36madd_url_rule\u001b[0;34m(self, rule, endpoint, view_func, provide_automatic_options, **options)\u001b[0m\n\u001b[1;32m    655\u001b[0m             \u001b[0mold_func\u001b[0m \u001b[0;34m=\u001b[0m \u001b[0mself\u001b[0m\u001b[0;34m.\u001b[0m\u001b[0mview_functions\u001b[0m\u001b[0;34m.\u001b[0m\u001b[0mget\u001b[0m\u001b[0;34m(\u001b[0m\u001b[0mendpoint\u001b[0m\u001b[0;34m)\u001b[0m\u001b[0;34m\u001b[0m\u001b[0;34m\u001b[0m\u001b[0m\n\u001b[1;32m    656\u001b[0m             \u001b[0;32mif\u001b[0m \u001b[0mold_func\u001b[0m \u001b[0;32mis\u001b[0m \u001b[0;32mnot\u001b[0m \u001b[0;32mNone\u001b[0m \u001b[0;32mand\u001b[0m \u001b[0mold_func\u001b[0m \u001b[0;34m!=\u001b[0m \u001b[0mview_func\u001b[0m\u001b[0;34m:\u001b[0m\u001b[0;34m\u001b[0m\u001b[0;34m\u001b[0m\u001b[0m\n\u001b[0;32m--> 657\u001b[0;31m                 raise AssertionError(\n\u001b[0m\u001b[1;32m    658\u001b[0m                     \u001b[0;34m\"View function mapping is overwriting an existing\"\u001b[0m\u001b[0;34m\u001b[0m\u001b[0;34m\u001b[0m\u001b[0m\n\u001b[1;32m    659\u001b[0m                     \u001b[0;34mf\" endpoint function: {endpoint}\"\u001b[0m\u001b[0;34m\u001b[0m\u001b[0;34m\u001b[0m\u001b[0m\n",
            "\u001b[0;31mAssertionError\u001b[0m: View function mapping is overwriting an existing endpoint function: create_user"
          ]
        }
      ]
    },
    {
      "cell_type": "markdown",
      "source": [
        "4. Run the app"
      ],
      "metadata": {
        "id": "1LxBj-F0kK3T"
      }
    },
    {
      "cell_type": "code",
      "source": [
        "if __name__ == '__main__':\n",
        "    app.run(debug=True)\n"
      ],
      "metadata": {
        "colab": {
          "base_uri": "https://localhost:8080/"
        },
        "id": "_J3MwlRokNjz",
        "outputId": "19a5c970-db08-46eb-9039-d957003e633c"
      },
      "execution_count": 117,
      "outputs": [
        {
          "output_type": "stream",
          "name": "stdout",
          "text": [
            " * Serving Flask app '__main__'\n",
            " * Debug mode: on\n"
          ]
        },
        {
          "output_type": "stream",
          "name": "stderr",
          "text": [
            "INFO:werkzeug:\u001b[31m\u001b[1mWARNING: This is a development server. Do not use it in a production deployment. Use a production WSGI server instead.\u001b[0m\n",
            " * Running on http://127.0.0.1:5000\n",
            "INFO:werkzeug:\u001b[33mPress CTRL+C to quit\u001b[0m\n",
            "INFO:werkzeug: * Restarting with stat\n"
          ]
        }
      ]
    },
    {
      "cell_type": "markdown",
      "source": [
        "Full example:"
      ],
      "metadata": {
        "id": "HcgoOO4tkQil"
      }
    },
    {
      "cell_type": "code",
      "source": [
        "from flask import Flask, jsonify, request\n",
        "\n",
        "app = Flask(__name__)\n",
        "\n",
        "users = [\n",
        "    {'id': 1, 'name': 'Alice'},\n",
        "    {'id': 2, 'name': 'Bob'}\n",
        "]\n",
        "\n",
        "@app.route('/api/users', methods=['GET'])\n",
        "def get_users():\n",
        "    return jsonify(users)\n",
        "\n",
        "@app.route('/api/users', methods=['POST'])\n",
        "def create_user():\n",
        "    new_user = request.get_json()\n",
        "    users.append(new_user)\n",
        "    return jsonify(new_user), 201\n",
        "\n",
        "if __name__ == '__main__':\n",
        "    app.run(debug=True)\n"
      ],
      "metadata": {
        "id": "Af9sSrjakUQ8",
        "colab": {
          "base_uri": "https://localhost:8080/"
        },
        "outputId": "6dc8328c-ee90-4298-cb48-6eb2173c95c0"
      },
      "execution_count": 116,
      "outputs": [
        {
          "output_type": "stream",
          "name": "stdout",
          "text": [
            " * Serving Flask app '__main__'\n",
            " * Debug mode: on\n"
          ]
        },
        {
          "output_type": "stream",
          "name": "stderr",
          "text": [
            "INFO:werkzeug:\u001b[31m\u001b[1mWARNING: This is a development server. Do not use it in a production deployment. Use a production WSGI server instead.\u001b[0m\n",
            " * Running on http://127.0.0.1:5000\n",
            "INFO:werkzeug:\u001b[33mPress CTRL+C to quit\u001b[0m\n",
            "INFO:werkzeug: * Restarting with stat\n"
          ]
        }
      ]
    },
    {
      "cell_type": "markdown",
      "source": [
        "Testing the API\n",
        "GET /api/users — fetch all users.\n",
        "\n",
        "POST /api/users — add a new user by sending JSON like:"
      ],
      "metadata": {
        "id": "YhVxZFsIlR53"
      }
    },
    {
      "cell_type": "code",
      "source": [
        "{\n",
        "  \"id\": 3,\n",
        "  \"name\": \"Charlie\"\n",
        "}\n"
      ],
      "metadata": {
        "id": "fTZFSIMenE7l",
        "colab": {
          "base_uri": "https://localhost:8080/"
        },
        "outputId": "170d1886-d167-4367-8fce-6de350f51c07"
      },
      "execution_count": 115,
      "outputs": [
        {
          "output_type": "execute_result",
          "data": {
            "text/plain": [
              "{'id': 3, 'name': 'Charlie'}"
            ]
          },
          "metadata": {},
          "execution_count": 115
        }
      ]
    },
    {
      "cell_type": "markdown",
      "source": [
        "15) What is the purpose of Flask's jsonify() function?\n",
        "\n",
        "Ans:- The jsonify() function in Flask is used to convert Python data structures into JSON format and return them as a proper HTTP response with the correct content type.\n",
        "\n",
        "🎯 Purpose of jsonify():\n",
        "Serializes Python data (like dicts or lists) into a JSON response.\n",
        "\n",
        "Automatically sets the Content-Type header to application/json.\n",
        "\n",
        "Ensures the response is well-formed and standards-compliant for REST APIs.\n",
        "\n",
        "✅ Example"
      ],
      "metadata": {
        "id": "-6NOBWo9nGGo"
      }
    },
    {
      "cell_type": "code",
      "source": [
        "from flask import Flask, jsonify\n",
        "\n",
        "app = Flask(__name__)\n",
        "\n",
        "@app.route('/api/data')\n",
        "def get_data():\n",
        "    data = {'name': 'Alice', 'age': 30}\n",
        "    return jsonify(data)\n"
      ],
      "metadata": {
        "id": "blOonBZhnru4"
      },
      "execution_count": 114,
      "outputs": []
    },
    {
      "cell_type": "markdown",
      "source": [
        "What it does:\n",
        "\n",
        "Converts the data dictionary to JSON.\n",
        "\n",
        "Returns it with a 200 OK status and Content-Type: application/json.\n",
        "\n",
        "📌 Why not just return json.dumps()?"
      ],
      "metadata": {
        "id": "GiCC2lyDnuyJ"
      }
    },
    {
      "cell_type": "code",
      "source": [
        "# Not recommended (manual)\n",
        "import json\n",
        "return json.dumps(data), 200, {'Content-Type': 'application/json'}\n"
      ],
      "metadata": {
        "id": "bVOEDrMlnzgY",
        "colab": {
          "base_uri": "https://localhost:8080/",
          "height": 106
        },
        "outputId": "827a2d4d-d7ab-440a-baf3-e66b5e82c5d6"
      },
      "execution_count": 113,
      "outputs": [
        {
          "output_type": "error",
          "ename": "SyntaxError",
          "evalue": "'return' outside function (<ipython-input-113-ccb1b282cd3e>, line 3)",
          "traceback": [
            "\u001b[0;36m  File \u001b[0;32m\"<ipython-input-113-ccb1b282cd3e>\"\u001b[0;36m, line \u001b[0;32m3\u001b[0m\n\u001b[0;31m    return json.dumps(data), 200, {'Content-Type': 'application/json'}\u001b[0m\n\u001b[0m    ^\u001b[0m\n\u001b[0;31mSyntaxError\u001b[0m\u001b[0;31m:\u001b[0m 'return' outside function\n"
          ]
        }
      ]
    },
    {
      "cell_type": "markdown",
      "source": [
        "You can do this, but it's more error-prone.\n",
        "\n",
        "jsonify() handles edge cases and headers for you.\n",
        "\n",
        "🧠 Also Supports Multiple Args:"
      ],
      "metadata": {
        "id": "LklIxDN-n0aI"
      }
    },
    {
      "cell_type": "code",
      "source": [
        "return jsonify(name='Alice', age=30)\n"
      ],
      "metadata": {
        "id": "JOMTv9epn5B8",
        "colab": {
          "base_uri": "https://localhost:8080/",
          "height": 106
        },
        "outputId": "44f5ed9d-65c9-4f23-ac47-c818e3e4d6b7"
      },
      "execution_count": 112,
      "outputs": [
        {
          "output_type": "error",
          "ename": "SyntaxError",
          "evalue": "'return' outside function (<ipython-input-112-fcaff30c892e>, line 1)",
          "traceback": [
            "\u001b[0;36m  File \u001b[0;32m\"<ipython-input-112-fcaff30c892e>\"\u001b[0;36m, line \u001b[0;32m1\u001b[0m\n\u001b[0;31m    return jsonify(name='Alice', age=30)\u001b[0m\n\u001b[0m    ^\u001b[0m\n\u001b[0;31mSyntaxError\u001b[0m\u001b[0;31m:\u001b[0m 'return' outside function\n"
          ]
        }
      ]
    },
    {
      "cell_type": "markdown",
      "source": [
        "16) Explain Flask’s url_for() function?\n",
        "\n",
        "Ans:- The url_for() function in Flask is used to dynamically generate URLs for your application’s routes based on the function name of the view, rather than hardcoding the URL paths.\n",
        "\n",
        "🎯 Why url_for() is Important:\n",
        "Avoids hardcoding URLs, making your app more maintainable.\n",
        "\n",
        "Automatically handles changes in route paths.\n",
        "\n",
        "Supports URL building with arguments for dynamic routes.\n",
        "\n",
        "Works seamlessly with templates and redirects.\n",
        "\n",
        "✅ Basic Example"
      ],
      "metadata": {
        "id": "wmEUE2c7n6T_"
      }
    },
    {
      "cell_type": "code",
      "source": [
        "from flask import Flask, url_for\n",
        "\n",
        "app = Flask(__name__)\n",
        "\n",
        "@app.route('/about')\n",
        "def about():\n",
        "    return 'About Page'\n",
        "\n",
        "@app.route('/')\n",
        "def home():\n",
        "    # Generates: '/about'\n",
        "    return f'The about page is at {url_for(\"about\")}'\n"
      ],
      "metadata": {
        "id": "igxB37q2oOhm"
      },
      "execution_count": 111,
      "outputs": []
    },
    {
      "cell_type": "markdown",
      "source": [
        "🧩 Example with Dynamic Routes\n"
      ],
      "metadata": {
        "id": "e1uf6WtloPuf"
      }
    },
    {
      "cell_type": "code",
      "source": [
        "@app.route('/user/<username>')\n",
        "def profile(username):\n",
        "    return f'User: {username}'\n",
        "\n",
        "@app.route('/')\n",
        "def index():\n",
        "    # Generates: '/user/john'\n",
        "    return url_for('profile', username='john')\n"
      ],
      "metadata": {
        "id": "Zz5rGh8goTZd"
      },
      "execution_count": 110,
      "outputs": []
    },
    {
      "cell_type": "markdown",
      "source": [
        "🧪 Common Use Cases\n",
        "Use Case\tExample\n",
        "Generate internal URL\turl_for('home')\n",
        "Redirects\tredirect(url_for('dashboard'))\n",
        "HTML templates\t<a href=\"{{ url_for('login') }}\">\n",
        "With query strings\turl_for('search', q='flask') → /search?q=flask\n",
        "\n",
        "\n",
        "17) How does Flask handle static files (CSS, JavaScript, etc.)?\n",
        "\n",
        "Ans:- Flask handles static files (like CSS, JavaScript, images, fonts, etc.) through a built-in mechanism that automatically serves them from a default static/ folder in your project directory.\n",
        "\n",
        "📁 Default Folder Structure\n"
      ],
      "metadata": {
        "id": "h_2TZjmioVz1"
      }
    },
    {
      "cell_type": "code",
      "source": [
        "your_project/\n",
        "├── app.py\n",
        "├── static/\n",
        "│   ├── style.css\n",
        "│   └── script.js\n",
        "└── templates/\n",
        "    └── index.html\n"
      ],
      "metadata": {
        "id": "wwHd-AF8o5ZK",
        "colab": {
          "base_uri": "https://localhost:8080/",
          "height": 106
        },
        "outputId": "a206378e-1f66-4769-d5e3-987f2056e940"
      },
      "execution_count": 109,
      "outputs": [
        {
          "output_type": "error",
          "ename": "SyntaxError",
          "evalue": "invalid character '├' (U+251C) (<ipython-input-109-57b65df16928>, line 2)",
          "traceback": [
            "\u001b[0;36m  File \u001b[0;32m\"<ipython-input-109-57b65df16928>\"\u001b[0;36m, line \u001b[0;32m2\u001b[0m\n\u001b[0;31m    ├── app.py\u001b[0m\n\u001b[0m    ^\u001b[0m\n\u001b[0;31mSyntaxError\u001b[0m\u001b[0;31m:\u001b[0m invalid character '├' (U+251C)\n"
          ]
        }
      ]
    },
    {
      "cell_type": "markdown",
      "source": [
        "static/ – for CSS, JS, images, etc.\n",
        "\n",
        "templates/ – for HTML templates\n",
        "\n",
        "⚙️ How Flask Serves Static Files\n",
        "By default, Flask maps the /static URL path to the static/ folder.\n",
        "\n",
        "🔗 Example:\n",
        "A file placed at:"
      ],
      "metadata": {
        "id": "gMGYRADFo6VK"
      }
    },
    {
      "cell_type": "code",
      "source": [
        "static/style.css\n"
      ],
      "metadata": {
        "id": "R5I6QwfXo_ET",
        "colab": {
          "base_uri": "https://localhost:8080/",
          "height": 141
        },
        "outputId": "eef2709a-8ada-4f0a-be68-762046cfbf30"
      },
      "execution_count": 108,
      "outputs": [
        {
          "output_type": "error",
          "ename": "NameError",
          "evalue": "name 'static' is not defined",
          "traceback": [
            "\u001b[0;31m---------------------------------------------------------------------------\u001b[0m",
            "\u001b[0;31mNameError\u001b[0m                                 Traceback (most recent call last)",
            "\u001b[0;32m<ipython-input-108-70e53886b3e3>\u001b[0m in \u001b[0;36m<cell line: 0>\u001b[0;34m()\u001b[0m\n\u001b[0;32m----> 1\u001b[0;31m \u001b[0mstatic\u001b[0m\u001b[0;34m/\u001b[0m\u001b[0mstyle\u001b[0m\u001b[0;34m.\u001b[0m\u001b[0mcss\u001b[0m\u001b[0;34m\u001b[0m\u001b[0;34m\u001b[0m\u001b[0m\n\u001b[0m",
            "\u001b[0;31mNameError\u001b[0m: name 'static' is not defined"
          ]
        }
      ]
    },
    {
      "cell_type": "markdown",
      "source": [
        "✅ Using url_for() to Link Static Files in Templates\n",
        "Flask provides the url_for() function to correctly reference static files in your HTML templates.\n",
        "\n",
        "Example in a template (templates/index.html):"
      ],
      "metadata": {
        "id": "iHRHSES6pBhv"
      }
    },
    {
      "cell_type": "code",
      "source": [
        "<!doctype html>\n",
        "<html>\n",
        "<head>\n",
        "  <link rel=\"stylesheet\" href=\"{{ url_for('static', filename='style.css') }}\">\n",
        "</head>\n",
        "<body>\n",
        "  <script src=\"{{ url_for('static', filename='script.js') }}\"></script>\n",
        "</body>\n",
        "</html>\n"
      ],
      "metadata": {
        "id": "RwboAujZpEE0",
        "colab": {
          "base_uri": "https://localhost:8080/",
          "height": 106
        },
        "outputId": "a3fd044f-10b5-4af8-e40e-a4a53bd26369"
      },
      "execution_count": 107,
      "outputs": [
        {
          "output_type": "error",
          "ename": "SyntaxError",
          "evalue": "invalid syntax (<ipython-input-107-22b1591a1beb>, line 1)",
          "traceback": [
            "\u001b[0;36m  File \u001b[0;32m\"<ipython-input-107-22b1591a1beb>\"\u001b[0;36m, line \u001b[0;32m1\u001b[0m\n\u001b[0;31m    <!doctype html>\u001b[0m\n\u001b[0m    ^\u001b[0m\n\u001b[0;31mSyntaxError\u001b[0m\u001b[0;31m:\u001b[0m invalid syntax\n"
          ]
        }
      ]
    },
    {
      "cell_type": "markdown",
      "source": [
        "🚫 Important Notes\n",
        "Don’t serve static files with Flask in production—use a web server like Nginx or Apache instead.\n",
        "\n",
        "You can change the default static folder when creating the app:"
      ],
      "metadata": {
        "id": "D0cJexFPpFMA"
      }
    },
    {
      "cell_type": "code",
      "source": [
        "app = Flask(__name__, static_folder='assets')\n"
      ],
      "metadata": {
        "id": "Kwe2L0VVrTEY"
      },
      "execution_count": 106,
      "outputs": []
    },
    {
      "cell_type": "markdown",
      "source": [
        " 18) What is an API specification, and how does it help in building a Flask API?\n",
        "\n",
        " Ans:- An API specification is a detailed, structured description of how an API behaves—what endpoints it exposes, what data it expects, what it returns, and how it handles errors.\n",
        "\n",
        "📘 What Is an API Specification?\n",
        "An API specification defines:\n",
        "\n",
        "Element\tDescription\n",
        "Endpoints\tAvailable URLs (e.g. /users, /login)\n",
        "Methods\tHTTP verbs used (GET, POST, PUT, DELETE, etc.)\n",
        "Request Structure\tExpected parameters, headers, body format\n",
        "Responses\tPossible status codes, response body schemas\n",
        "Error Handling\tStandard error messages or formats\n",
        "Authentication\tIf/how users are authenticated (e.g. JWT, API keys)\n",
        "\n",
        "🔧 Examples of API Specification Formats\n",
        "OpenAPI (formerly Swagger) – most popular, used to generate docs, client code, and validate input/output.\n",
        "\n",
        "RAML – RESTful API Modeling Language.\n",
        "\n",
        "API Blueprint – Markdown-style API description.\n",
        "\n",
        "Postman Collections – machine-readable request/response setup for testing.\n",
        "\n",
        "🚀 Why It’s Useful in Flask API Development\n",
        "Benefit\tDescription\n",
        "✅ Clear Design Blueprint\tHelps you and your team understand what to build.\n",
        "✅ Consistency\tEnsures all endpoints follow the same conventions.\n",
        "✅ Auto-generated Docs\tTools like Swagger UI create live docs from the spec.\n",
        "✅ Mocking and Testing\tLets frontend teams test against mock APIs.\n",
        "✅ Client Code Generation\tAuto-generate client SDKs in Python, JS, etc.\n",
        "✅ Validation Support\tValidate requests/responses against the spec.\n",
        "\n",
        "🛠️ Flask + OpenAPI Example (Using flask-restx)\n"
      ],
      "metadata": {
        "id": "-aUJQaBprU5V"
      }
    },
    {
      "cell_type": "code",
      "source": [
        "pip install flask-restx\n"
      ],
      "metadata": {
        "id": "4Nntr55KrlES",
        "colab": {
          "base_uri": "https://localhost:8080/"
        },
        "outputId": "f3cfdc81-afab-41b9-e812-b87667bf825a"
      },
      "execution_count": 105,
      "outputs": [
        {
          "output_type": "stream",
          "name": "stdout",
          "text": [
            "Collecting flask-restx\n",
            "  Downloading flask_restx-1.3.0-py2.py3-none-any.whl.metadata (9.3 kB)\n",
            "Requirement already satisfied: aniso8601>=0.82 in /usr/local/lib/python3.11/dist-packages (from flask-restx) (10.0.1)\n",
            "Requirement already satisfied: jsonschema in /usr/local/lib/python3.11/dist-packages (from flask-restx) (4.24.0)\n",
            "Requirement already satisfied: Flask!=2.0.0,>=0.8 in /usr/local/lib/python3.11/dist-packages (from flask-restx) (3.1.1)\n",
            "Requirement already satisfied: werkzeug!=2.0.0 in /usr/local/lib/python3.11/dist-packages (from flask-restx) (3.1.3)\n",
            "Requirement already satisfied: pytz in /usr/local/lib/python3.11/dist-packages (from flask-restx) (2025.2)\n",
            "Requirement already satisfied: importlib-resources in /usr/local/lib/python3.11/dist-packages (from flask-restx) (6.5.2)\n",
            "Requirement already satisfied: blinker>=1.9.0 in /usr/local/lib/python3.11/dist-packages (from Flask!=2.0.0,>=0.8->flask-restx) (1.9.0)\n",
            "Requirement already satisfied: click>=8.1.3 in /usr/local/lib/python3.11/dist-packages (from Flask!=2.0.0,>=0.8->flask-restx) (8.2.1)\n",
            "Requirement already satisfied: itsdangerous>=2.2.0 in /usr/local/lib/python3.11/dist-packages (from Flask!=2.0.0,>=0.8->flask-restx) (2.2.0)\n",
            "Requirement already satisfied: jinja2>=3.1.2 in /usr/local/lib/python3.11/dist-packages (from Flask!=2.0.0,>=0.8->flask-restx) (3.1.6)\n",
            "Requirement already satisfied: markupsafe>=2.1.1 in /usr/local/lib/python3.11/dist-packages (from Flask!=2.0.0,>=0.8->flask-restx) (3.0.2)\n",
            "Requirement already satisfied: attrs>=22.2.0 in /usr/local/lib/python3.11/dist-packages (from jsonschema->flask-restx) (25.3.0)\n",
            "Requirement already satisfied: jsonschema-specifications>=2023.03.6 in /usr/local/lib/python3.11/dist-packages (from jsonschema->flask-restx) (2025.4.1)\n",
            "Requirement already satisfied: referencing>=0.28.4 in /usr/local/lib/python3.11/dist-packages (from jsonschema->flask-restx) (0.36.2)\n",
            "Requirement already satisfied: rpds-py>=0.7.1 in /usr/local/lib/python3.11/dist-packages (from jsonschema->flask-restx) (0.25.1)\n",
            "Requirement already satisfied: typing-extensions>=4.4.0 in /usr/local/lib/python3.11/dist-packages (from referencing>=0.28.4->jsonschema->flask-restx) (4.14.0)\n",
            "Downloading flask_restx-1.3.0-py2.py3-none-any.whl (2.8 MB)\n",
            "\u001b[2K   \u001b[90m━━━━━━━━━━━━━━━━━━━━━━━━━━━━━━━━━━━━━━━━\u001b[0m \u001b[32m2.8/2.8 MB\u001b[0m \u001b[31m23.3 MB/s\u001b[0m eta \u001b[36m0:00:00\u001b[0m\n",
            "\u001b[?25hInstalling collected packages: flask-restx\n",
            "Successfully installed flask-restx-1.3.0\n"
          ]
        }
      ]
    },
    {
      "cell_type": "code",
      "source": [
        "from flask import Flask\n",
        "from flask_restx import Api, Resource\n",
        "\n",
        "app = Flask(__name__)\n",
        "api = Api(app)\n",
        "\n",
        "@api.route('/hello')\n",
        "class HelloResource(Resource):\n",
        "    def get(self):\n",
        "        \"\"\"Returns a greeting\"\"\"\n",
        "        return {\"message\": \"Hello, world!\"}\n"
      ],
      "metadata": {
        "id": "QUywEIDZrnsF",
        "colab": {
          "base_uri": "https://localhost:8080/",
          "height": 383
        },
        "outputId": "edce1631-2f27-499c-e68c-4104794f858b"
      },
      "execution_count": 104,
      "outputs": [
        {
          "output_type": "error",
          "ename": "ModuleNotFoundError",
          "evalue": "No module named 'flask_restx'",
          "traceback": [
            "\u001b[0;31m---------------------------------------------------------------------------\u001b[0m",
            "\u001b[0;31mModuleNotFoundError\u001b[0m                       Traceback (most recent call last)",
            "\u001b[0;32m<ipython-input-104-f887acb395a4>\u001b[0m in \u001b[0;36m<cell line: 0>\u001b[0;34m()\u001b[0m\n\u001b[1;32m      1\u001b[0m \u001b[0;32mfrom\u001b[0m \u001b[0mflask\u001b[0m \u001b[0;32mimport\u001b[0m \u001b[0mFlask\u001b[0m\u001b[0;34m\u001b[0m\u001b[0;34m\u001b[0m\u001b[0m\n\u001b[0;32m----> 2\u001b[0;31m \u001b[0;32mfrom\u001b[0m \u001b[0mflask_restx\u001b[0m \u001b[0;32mimport\u001b[0m \u001b[0mApi\u001b[0m\u001b[0;34m,\u001b[0m \u001b[0mResource\u001b[0m\u001b[0;34m\u001b[0m\u001b[0;34m\u001b[0m\u001b[0m\n\u001b[0m\u001b[1;32m      3\u001b[0m \u001b[0;34m\u001b[0m\u001b[0m\n\u001b[1;32m      4\u001b[0m \u001b[0mapp\u001b[0m \u001b[0;34m=\u001b[0m \u001b[0mFlask\u001b[0m\u001b[0;34m(\u001b[0m\u001b[0m__name__\u001b[0m\u001b[0;34m)\u001b[0m\u001b[0;34m\u001b[0m\u001b[0;34m\u001b[0m\u001b[0m\n\u001b[1;32m      5\u001b[0m \u001b[0mapi\u001b[0m \u001b[0;34m=\u001b[0m \u001b[0mApi\u001b[0m\u001b[0;34m(\u001b[0m\u001b[0mapp\u001b[0m\u001b[0;34m)\u001b[0m\u001b[0;34m\u001b[0m\u001b[0;34m\u001b[0m\u001b[0m\n",
            "\u001b[0;31mModuleNotFoundError\u001b[0m: No module named 'flask_restx'",
            "",
            "\u001b[0;31m---------------------------------------------------------------------------\u001b[0;32m\nNOTE: If your import is failing due to a missing package, you can\nmanually install dependencies using either !pip or !apt.\n\nTo view examples of installing some common dependencies, click the\n\"Open Examples\" button below.\n\u001b[0;31m---------------------------------------------------------------------------\u001b[0m\n"
          ],
          "errorDetails": {
            "actions": [
              {
                "action": "open_url",
                "actionText": "Open Examples",
                "url": "/notebooks/snippets/importing_libraries.ipynb"
              }
            ]
          }
        }
      ]
    },
    {
      "cell_type": "markdown",
      "source": [
        "19)  What are HTTP status codes, and why are they important in a Flask API?\n",
        "\n",
        "Ans:- HTTP status codes are 3-digit numbers returned by a server in response to an HTTP request. They indicate whether a specific request was successful, failed, or requires further action.\n",
        "\n",
        "🎯 Why Are HTTP Status Codes Important in a Flask API?\n",
        "In a Flask API, status codes:\n",
        "\n",
        "✅ Help clients understand the outcome of their request.\n",
        "\n",
        "✅ Enable error handling and appropriate response behavior.\n",
        "\n",
        "✅ Improve debugging and interoperability between client and server.\n",
        "\n",
        "✅ Make your API RESTful and standard-compliant.\n",
        "\n",
        "📘 Common HTTP Status Codes (with Flask usage)\n",
        "Code\tMeaning\tWhen to Use\n",
        "200 OK\tRequest succeeded\tGET request returns data\n",
        "201 Created\tResource successfully created\tAfter a successful POST\n",
        "204 No Content\tSuccess, no content returned\tSuccessful DELETE or update without body\n",
        "400 Bad Request\tClient sent invalid data\tMissing fields, wrong format\n",
        "401 Unauthorized\tAuth required or failed\tUser not logged in or token invalid\n",
        "403 Forbidden\tAuthenticated but not allowed\tUser lacks permission\n",
        "404 Not Found\tResource doesn't exist\tInvalid URL or missing item\n",
        "409 Conflict\tResource conflict\tDuplicate username, email, etc.\n",
        "500 Internal Server Error\tServer crash/bug\tUnexpected errors in code\n",
        "\n",
        "✅ Using Status Codes in Flask\n",
        "You can return status codes like this:\n",
        "\n"
      ],
      "metadata": {
        "id": "LpvJmsckrsVp"
      }
    },
    {
      "cell_type": "code",
      "source": [
        "from flask import Flask, jsonify\n",
        "\n",
        "app = Flask(__name__)\n",
        "\n",
        "@app.route('/item/<int:id>')\n",
        "def get_item(id):\n",
        "    if id != 1:\n",
        "        return jsonify({'error': 'Item not found'}), 404\n",
        "    return jsonify({'id': 1, 'name': 'Item One'}), 200\n"
      ],
      "metadata": {
        "id": "SnEvGxxKr_eI"
      },
      "execution_count": 103,
      "outputs": []
    },
    {
      "cell_type": "code",
      "source": [
        "from flask import make_response, jsonify\n",
        "\n",
        "response = make_response(jsonify({'error': 'Bad input'}), 400)\n"
      ],
      "metadata": {
        "id": "xRB3XKcjsF6_",
        "colab": {
          "base_uri": "https://localhost:8080/",
          "height": 391
        },
        "outputId": "8b89c67f-f03d-492f-9e96-ccb94604c795"
      },
      "execution_count": 102,
      "outputs": [
        {
          "output_type": "error",
          "ename": "RuntimeError",
          "evalue": "Working outside of application context.\n\nThis typically means that you attempted to use functionality that needed\nthe current application. To solve this, set up an application context\nwith app.app_context(). See the documentation for more information.",
          "traceback": [
            "\u001b[0;31m---------------------------------------------------------------------------\u001b[0m",
            "\u001b[0;31mRuntimeError\u001b[0m                              Traceback (most recent call last)",
            "\u001b[0;32m<ipython-input-102-cdaf02c9ae02>\u001b[0m in \u001b[0;36m<cell line: 0>\u001b[0;34m()\u001b[0m\n\u001b[1;32m      1\u001b[0m \u001b[0;32mfrom\u001b[0m \u001b[0mflask\u001b[0m \u001b[0;32mimport\u001b[0m \u001b[0mmake_response\u001b[0m\u001b[0;34m,\u001b[0m \u001b[0mjsonify\u001b[0m\u001b[0;34m\u001b[0m\u001b[0;34m\u001b[0m\u001b[0m\n\u001b[1;32m      2\u001b[0m \u001b[0;34m\u001b[0m\u001b[0m\n\u001b[0;32m----> 3\u001b[0;31m \u001b[0mresponse\u001b[0m \u001b[0;34m=\u001b[0m \u001b[0mmake_response\u001b[0m\u001b[0;34m(\u001b[0m\u001b[0mjsonify\u001b[0m\u001b[0;34m(\u001b[0m\u001b[0;34m{\u001b[0m\u001b[0;34m'error'\u001b[0m\u001b[0;34m:\u001b[0m \u001b[0;34m'Bad input'\u001b[0m\u001b[0;34m}\u001b[0m\u001b[0;34m)\u001b[0m\u001b[0;34m,\u001b[0m \u001b[0;36m400\u001b[0m\u001b[0;34m)\u001b[0m\u001b[0;34m\u001b[0m\u001b[0;34m\u001b[0m\u001b[0m\n\u001b[0m",
            "\u001b[0;32m/usr/local/lib/python3.11/dist-packages/flask/json/__init__.py\u001b[0m in \u001b[0;36mjsonify\u001b[0;34m(*args, **kwargs)\u001b[0m\n\u001b[1;32m    168\u001b[0m     \u001b[0;34m.\u001b[0m\u001b[0;34m.\u001b[0m \u001b[0mversionadded\u001b[0m\u001b[0;34m:\u001b[0m\u001b[0;34m:\u001b[0m \u001b[0;36m0.2\u001b[0m\u001b[0;34m\u001b[0m\u001b[0;34m\u001b[0m\u001b[0m\n\u001b[1;32m    169\u001b[0m     \"\"\"\n\u001b[0;32m--> 170\u001b[0;31m     \u001b[0;32mreturn\u001b[0m \u001b[0mcurrent_app\u001b[0m\u001b[0;34m.\u001b[0m\u001b[0mjson\u001b[0m\u001b[0;34m.\u001b[0m\u001b[0mresponse\u001b[0m\u001b[0;34m(\u001b[0m\u001b[0;34m*\u001b[0m\u001b[0margs\u001b[0m\u001b[0;34m,\u001b[0m \u001b[0;34m**\u001b[0m\u001b[0mkwargs\u001b[0m\u001b[0;34m)\u001b[0m  \u001b[0;31m# type: ignore[return-value]\u001b[0m\u001b[0;34m\u001b[0m\u001b[0;34m\u001b[0m\u001b[0m\n\u001b[0m",
            "\u001b[0;32m/usr/local/lib/python3.11/dist-packages/werkzeug/local.py\u001b[0m in \u001b[0;36m__get__\u001b[0;34m(self, instance, owner)\u001b[0m\n\u001b[1;32m    316\u001b[0m \u001b[0;34m\u001b[0m\u001b[0m\n\u001b[1;32m    317\u001b[0m         \u001b[0;32mtry\u001b[0m\u001b[0;34m:\u001b[0m\u001b[0;34m\u001b[0m\u001b[0;34m\u001b[0m\u001b[0m\n\u001b[0;32m--> 318\u001b[0;31m             \u001b[0mobj\u001b[0m \u001b[0;34m=\u001b[0m \u001b[0minstance\u001b[0m\u001b[0;34m.\u001b[0m\u001b[0m_get_current_object\u001b[0m\u001b[0;34m(\u001b[0m\u001b[0;34m)\u001b[0m\u001b[0;34m\u001b[0m\u001b[0;34m\u001b[0m\u001b[0m\n\u001b[0m\u001b[1;32m    319\u001b[0m         \u001b[0;32mexcept\u001b[0m \u001b[0mRuntimeError\u001b[0m\u001b[0;34m:\u001b[0m\u001b[0;34m\u001b[0m\u001b[0;34m\u001b[0m\u001b[0m\n\u001b[1;32m    320\u001b[0m             \u001b[0;32mif\u001b[0m \u001b[0mself\u001b[0m\u001b[0;34m.\u001b[0m\u001b[0mfallback\u001b[0m \u001b[0;32mis\u001b[0m \u001b[0;32mNone\u001b[0m\u001b[0;34m:\u001b[0m\u001b[0;34m\u001b[0m\u001b[0;34m\u001b[0m\u001b[0m\n",
            "\u001b[0;32m/usr/local/lib/python3.11/dist-packages/werkzeug/local.py\u001b[0m in \u001b[0;36m_get_current_object\u001b[0;34m()\u001b[0m\n\u001b[1;32m    517\u001b[0m                     \u001b[0mobj\u001b[0m \u001b[0;34m=\u001b[0m \u001b[0mlocal\u001b[0m\u001b[0;34m.\u001b[0m\u001b[0mget\u001b[0m\u001b[0;34m(\u001b[0m\u001b[0;34m)\u001b[0m\u001b[0;34m\u001b[0m\u001b[0;34m\u001b[0m\u001b[0m\n\u001b[1;32m    518\u001b[0m                 \u001b[0;32mexcept\u001b[0m \u001b[0mLookupError\u001b[0m\u001b[0;34m:\u001b[0m\u001b[0;34m\u001b[0m\u001b[0;34m\u001b[0m\u001b[0m\n\u001b[0;32m--> 519\u001b[0;31m                     \u001b[0;32mraise\u001b[0m \u001b[0mRuntimeError\u001b[0m\u001b[0;34m(\u001b[0m\u001b[0munbound_message\u001b[0m\u001b[0;34m)\u001b[0m \u001b[0;32mfrom\u001b[0m \u001b[0;32mNone\u001b[0m\u001b[0;34m\u001b[0m\u001b[0;34m\u001b[0m\u001b[0m\n\u001b[0m\u001b[1;32m    520\u001b[0m \u001b[0;34m\u001b[0m\u001b[0m\n\u001b[1;32m    521\u001b[0m                 \u001b[0;32mreturn\u001b[0m \u001b[0mget_name\u001b[0m\u001b[0;34m(\u001b[0m\u001b[0mobj\u001b[0m\u001b[0;34m)\u001b[0m\u001b[0;34m\u001b[0m\u001b[0;34m\u001b[0m\u001b[0m\n",
            "\u001b[0;31mRuntimeError\u001b[0m: Working outside of application context.\n\nThis typically means that you attempted to use functionality that needed\nthe current application. To solve this, set up an application context\nwith app.app_context(). See the documentation for more information."
          ]
        }
      ]
    },
    {
      "cell_type": "markdown",
      "source": [
        "20)  How do you handle POST requests in Flask?\n",
        "\n",
        "Ans:- To handle POST requests in Flask, you define a route that accepts the POST method and use Flask's request object to access the data sent by the client—such as form data or JSON.\n",
        "\n",
        "✅ Step-by-Step: Handling a POST Request\n",
        "1. Import Required Modules"
      ],
      "metadata": {
        "id": "Ggh5tve7sHRD"
      }
    },
    {
      "cell_type": "code",
      "source": [
        "from flask import Flask, request, jsonify\n"
      ],
      "metadata": {
        "id": "vT5nv9jssdq2"
      },
      "execution_count": 101,
      "outputs": []
    },
    {
      "cell_type": "markdown",
      "source": [
        "2. Create a Flask App and Define a Route\n"
      ],
      "metadata": {
        "id": "IG3nwdZ3seb3"
      }
    },
    {
      "cell_type": "code",
      "source": [
        "app = Flask(__name__)\n",
        "\n",
        "@app.route('/submit', methods=['POST'])\n",
        "def submit_data():\n",
        "    data = request.get_json()  # Get JSON from the request body\n",
        "    name = data.get('name')\n",
        "    return jsonify({'message': f'Hello, {name}!'}), 201\n"
      ],
      "metadata": {
        "id": "QylNZjycshVz"
      },
      "execution_count": 100,
      "outputs": []
    },
    {
      "cell_type": "markdown",
      "source": [
        "🔁 Sending POST Data Types\n",
        "Data Type\tHow to Access in Flask\tExample Client\n",
        "JSON\trequest.get_json()\tREST clients, JavaScript\n",
        "Form data\trequest.form.get('field')\tHTML forms\n",
        "Query strings\trequest.args.get('field')\tIn URL like /submit?name=Alice\n",
        "\n",
        "🔢 Example: Handling Form Data"
      ],
      "metadata": {
        "id": "Xb9Dr2t1sjZ7"
      }
    },
    {
      "cell_type": "code",
      "source": [
        "@app.route('/form', methods=['POST'])\n",
        "def handle_form():\n",
        "    username = request.form.get('username')\n",
        "    return jsonify({'username': username}), 200\n"
      ],
      "metadata": {
        "id": "hnCCtpEqsn3Z"
      },
      "execution_count": 99,
      "outputs": []
    },
    {
      "cell_type": "markdown",
      "source": [
        "To test this, you could submit a form with application/x-www-form-urlencoded data.\n",
        "\n",
        "🛡️ Validating POST Data"
      ],
      "metadata": {
        "id": "OZbzVy5Jsouy"
      }
    },
    {
      "cell_type": "code",
      "source": [
        "@app.route('/api/user', methods=['POST'])\n",
        "def create_user():\n",
        "    data = request.get_json()\n",
        "    if not data or 'username' not in data:\n",
        "        return jsonify({'error': 'Missing username'}), 400\n",
        "    return jsonify({'user': data['username']}), 201\n"
      ],
      "metadata": {
        "id": "A3bDrbVEtBuD"
      },
      "execution_count": 98,
      "outputs": []
    },
    {
      "cell_type": "markdown",
      "source": [
        "🧪 Testing with curl\n"
      ],
      "metadata": {
        "id": "9kYPtdlOtC5u"
      }
    },
    {
      "cell_type": "code",
      "source": [
        "curl -X POST http://localhost:5000/submit -H \"Content-Type: application/json\" -d '{\"name\": \"Alice\"}'\n"
      ],
      "metadata": {
        "id": "FyxD9JhCtFuC",
        "colab": {
          "base_uri": "https://localhost:8080/",
          "height": 106
        },
        "outputId": "b2c897c5-b3ef-4488-c3f1-944fcd5abac1"
      },
      "execution_count": 97,
      "outputs": [
        {
          "output_type": "error",
          "ename": "SyntaxError",
          "evalue": "invalid syntax (<ipython-input-97-85b09fe5742b>, line 1)",
          "traceback": [
            "\u001b[0;36m  File \u001b[0;32m\"<ipython-input-97-85b09fe5742b>\"\u001b[0;36m, line \u001b[0;32m1\u001b[0m\n\u001b[0;31m    curl -X POST http://localhost:5000/submit -H \"Content-Type: application/json\" -d '{\"name\": \"Alice\"}'\u001b[0m\n\u001b[0m            ^\u001b[0m\n\u001b[0;31mSyntaxError\u001b[0m\u001b[0;31m:\u001b[0m invalid syntax\n"
          ]
        }
      ]
    },
    {
      "cell_type": "markdown",
      "source": [
        "21)  How would you secure a Flask API?\n",
        "\n",
        "Ans:- Securing a Flask API involves implementing authentication, authorization, input validation, and other best practices to protect your app and its data from malicious use or accidental misuse.\n",
        "\n",
        "Here’s a practical breakdown of how to secure a Flask API:\n",
        "\n",
        "🔐 1. Use Authentication\n",
        "To verify who is making the request.\n",
        "\n",
        "✅ Common methods:\n",
        "API keys – Simple token in headers\n",
        "\n",
        "JWT (JSON Web Tokens) – Popular for stateless authentication\n",
        "\n",
        "OAuth2 – For third-party integrations\n",
        "\n",
        "Example: Simple token check"
      ],
      "metadata": {
        "id": "8BeMZxowtJTF"
      }
    },
    {
      "cell_type": "code",
      "source": [
        "from flask import request, abort\n",
        "\n",
        "@app.before_request\n",
        "def check_auth():\n",
        "    token = request.headers.get('Authorization')\n",
        "    if token != 'Bearer mysecrettoken':\n",
        "        abort(401)  # Unauthorized\n"
      ],
      "metadata": {
        "id": "6Zxrm2emtrK6"
      },
      "execution_count": 96,
      "outputs": []
    },
    {
      "cell_type": "markdown",
      "source": [
        "🚫 2. Use Authorization\n",
        "To control what an authenticated user is allowed to do.\n",
        "\n",
        "Restrict access based on roles (admin, user, etc.)\n",
        "\n",
        "Check permissions before sensitive actions\n",
        "\n",
        "🧼 3. Validate Input Data\n",
        "Never trust incoming data.\n",
        "\n",
        "Use:\n",
        "request.get_json() with checks\n",
        "\n",
        "Libraries like Marshmallow, Pydantic, or Cerberus"
      ],
      "metadata": {
        "id": "gnW3zraktr7d"
      }
    },
    {
      "cell_type": "code",
      "source": [
        "data = request.get_json()\n",
        "if 'email' not in data or '@' not in data['email']:\n",
        "    return jsonify({'error': 'Invalid email'}), 400\n"
      ],
      "metadata": {
        "id": "TI6m8mD1txmH",
        "colab": {
          "base_uri": "https://localhost:8080/",
          "height": 391
        },
        "outputId": "6de02660-51e9-4239-953e-5c1699d618e1"
      },
      "execution_count": 95,
      "outputs": [
        {
          "output_type": "error",
          "ename": "RuntimeError",
          "evalue": "Working outside of request context.\n\nThis typically means that you attempted to use functionality that needed\nan active HTTP request. Consult the documentation on testing for\ninformation about how to avoid this problem.",
          "traceback": [
            "\u001b[0;31m---------------------------------------------------------------------------\u001b[0m",
            "\u001b[0;31mRuntimeError\u001b[0m                              Traceback (most recent call last)",
            "\u001b[0;32m<ipython-input-95-5ee94e6fb11c>\u001b[0m in \u001b[0;36m<cell line: 0>\u001b[0;34m()\u001b[0m\n\u001b[0;32m----> 1\u001b[0;31m \u001b[0mdata\u001b[0m \u001b[0;34m=\u001b[0m \u001b[0mrequest\u001b[0m\u001b[0;34m.\u001b[0m\u001b[0mget_json\u001b[0m\u001b[0;34m(\u001b[0m\u001b[0;34m)\u001b[0m\u001b[0;34m\u001b[0m\u001b[0;34m\u001b[0m\u001b[0m\n\u001b[0m\u001b[1;32m      2\u001b[0m \u001b[0;32mif\u001b[0m \u001b[0;34m'email'\u001b[0m \u001b[0;32mnot\u001b[0m \u001b[0;32min\u001b[0m \u001b[0mdata\u001b[0m \u001b[0;32mor\u001b[0m \u001b[0;34m'@'\u001b[0m \u001b[0;32mnot\u001b[0m \u001b[0;32min\u001b[0m \u001b[0mdata\u001b[0m\u001b[0;34m[\u001b[0m\u001b[0;34m'email'\u001b[0m\u001b[0;34m]\u001b[0m\u001b[0;34m:\u001b[0m\u001b[0;34m\u001b[0m\u001b[0;34m\u001b[0m\u001b[0m\n\u001b[1;32m      3\u001b[0m     \u001b[0;32mreturn\u001b[0m \u001b[0mjsonify\u001b[0m\u001b[0;34m(\u001b[0m\u001b[0;34m{\u001b[0m\u001b[0;34m'error'\u001b[0m\u001b[0;34m:\u001b[0m \u001b[0;34m'Invalid email'\u001b[0m\u001b[0;34m}\u001b[0m\u001b[0;34m)\u001b[0m\u001b[0;34m,\u001b[0m \u001b[0;36m400\u001b[0m\u001b[0;34m\u001b[0m\u001b[0;34m\u001b[0m\u001b[0m\n",
            "\u001b[0;32m/usr/local/lib/python3.11/dist-packages/werkzeug/local.py\u001b[0m in \u001b[0;36m__get__\u001b[0;34m(self, instance, owner)\u001b[0m\n\u001b[1;32m    316\u001b[0m \u001b[0;34m\u001b[0m\u001b[0m\n\u001b[1;32m    317\u001b[0m         \u001b[0;32mtry\u001b[0m\u001b[0;34m:\u001b[0m\u001b[0;34m\u001b[0m\u001b[0;34m\u001b[0m\u001b[0m\n\u001b[0;32m--> 318\u001b[0;31m             \u001b[0mobj\u001b[0m \u001b[0;34m=\u001b[0m \u001b[0minstance\u001b[0m\u001b[0;34m.\u001b[0m\u001b[0m_get_current_object\u001b[0m\u001b[0;34m(\u001b[0m\u001b[0;34m)\u001b[0m\u001b[0;34m\u001b[0m\u001b[0;34m\u001b[0m\u001b[0m\n\u001b[0m\u001b[1;32m    319\u001b[0m         \u001b[0;32mexcept\u001b[0m \u001b[0mRuntimeError\u001b[0m\u001b[0;34m:\u001b[0m\u001b[0;34m\u001b[0m\u001b[0;34m\u001b[0m\u001b[0m\n\u001b[1;32m    320\u001b[0m             \u001b[0;32mif\u001b[0m \u001b[0mself\u001b[0m\u001b[0;34m.\u001b[0m\u001b[0mfallback\u001b[0m \u001b[0;32mis\u001b[0m \u001b[0;32mNone\u001b[0m\u001b[0;34m:\u001b[0m\u001b[0;34m\u001b[0m\u001b[0;34m\u001b[0m\u001b[0m\n",
            "\u001b[0;32m/usr/local/lib/python3.11/dist-packages/werkzeug/local.py\u001b[0m in \u001b[0;36m_get_current_object\u001b[0;34m()\u001b[0m\n\u001b[1;32m    517\u001b[0m                     \u001b[0mobj\u001b[0m \u001b[0;34m=\u001b[0m \u001b[0mlocal\u001b[0m\u001b[0;34m.\u001b[0m\u001b[0mget\u001b[0m\u001b[0;34m(\u001b[0m\u001b[0;34m)\u001b[0m\u001b[0;34m\u001b[0m\u001b[0;34m\u001b[0m\u001b[0m\n\u001b[1;32m    518\u001b[0m                 \u001b[0;32mexcept\u001b[0m \u001b[0mLookupError\u001b[0m\u001b[0;34m:\u001b[0m\u001b[0;34m\u001b[0m\u001b[0;34m\u001b[0m\u001b[0m\n\u001b[0;32m--> 519\u001b[0;31m                     \u001b[0;32mraise\u001b[0m \u001b[0mRuntimeError\u001b[0m\u001b[0;34m(\u001b[0m\u001b[0munbound_message\u001b[0m\u001b[0;34m)\u001b[0m \u001b[0;32mfrom\u001b[0m \u001b[0;32mNone\u001b[0m\u001b[0;34m\u001b[0m\u001b[0;34m\u001b[0m\u001b[0m\n\u001b[0m\u001b[1;32m    520\u001b[0m \u001b[0;34m\u001b[0m\u001b[0m\n\u001b[1;32m    521\u001b[0m                 \u001b[0;32mreturn\u001b[0m \u001b[0mget_name\u001b[0m\u001b[0;34m(\u001b[0m\u001b[0mobj\u001b[0m\u001b[0;34m)\u001b[0m\u001b[0;34m\u001b[0m\u001b[0;34m\u001b[0m\u001b[0m\n",
            "\u001b[0;31mRuntimeError\u001b[0m: Working outside of request context.\n\nThis typically means that you attempted to use functionality that needed\nan active HTTP request. Consult the documentation on testing for\ninformation about how to avoid this problem."
          ]
        }
      ]
    },
    {
      "cell_type": "markdown",
      "source": [
        "🧱 4. Use HTTPS in Production\n",
        "Always deploy with HTTPS (not HTTP) using a WSGI server like Gunicorn behind Nginx, and use an SSL certificate (e.g., via Let's Encrypt).\n",
        "\n",
        "🚫 5. Protect Against Common Web Vulnerabilities\n",
        "Threat\tMitigation\n",
        "SQL Injection\tUse an ORM like SQLAlchemy (never raw SQL)\n",
        "Cross-Site Scripting\tSanitize inputs and use escape() in templates\n",
        "Cross-Site Request Forgery (CSRF)\tUse CSRF tokens for form-based endpoints\n",
        "Rate Limiting\tUse Flask extensions like Flask-Limiter\n",
        "\n",
        "🧰 6. Use Flask Security Tools\n",
        "Tool/Extension\tPurpose\n",
        "Flask-JWT-Extended\tJWT authentication\n",
        "Flask-Login\tSession-based login handling\n",
        "Flask-Limiter\tRate limiting per IP or user\n",
        "Flask-Talisman\tSet secure headers like Content Security Policy\n",
        "\n",
        "🧪 7. Test and Monitor\n",
        "Write unit and security tests\n",
        "\n",
        "Log requests, especially failed or suspicious ones\n",
        "\n",
        "Use tools like Postman, OWASP ZAP, or Burp Suite to scan your API\n",
        "\n",
        "🧾 Summary\n",
        "Strategy\tWhat It Protects Against\n",
        "Authentication\tUnauthorized access\n",
        "Authorization\tPrivilege misuse\n",
        "Input validation\tInjection attacks, crashes\n",
        "HTTPS\tMan-in-the-middle attacks\n",
        "Rate limiting\tAbuse and brute force attempts\n",
        "Secure headers\tVarious web-based attacks\n",
        "\n",
        "22)  What is the significance of the Flask-RESTful extension?\n",
        "\n",
        "Ans:- The Flask-RESTful extension simplifies the process of building RESTful APIs with Flask by providing tools and structure for handling resources, routing, and request parsing.\n",
        "\n",
        "🎯 Significance of Flask-RESTful\n",
        "Benefit\tDescription\n",
        "✅ Resource-Based Design\tEncourages you to build APIs around \"resources\" (classes), not just functions\n",
        "✅ Cleaner Code\tKeeps routes and logic organized with class-based views\n",
        "✅ Request Parsing\tBuilt-in tools to validate and parse incoming request data (reqparse)\n",
        "✅ Automatic Routing\tUses add_resource() to register routes, reducing manual routing\n",
        "✅ Error Handling Support\tEasily customize HTTP error responses\n",
        "\n",
        "🧱 Basic Example Using Flask-RESTful\n"
      ],
      "metadata": {
        "id": "3yg-8t4Nt2QB"
      }
    },
    {
      "cell_type": "code",
      "source": [
        "pip install flask-restful\n"
      ],
      "metadata": {
        "id": "6forPz7buYpG",
        "colab": {
          "base_uri": "https://localhost:8080/"
        },
        "outputId": "e7002ed4-7dc5-4eb5-f2ef-253183de5122"
      },
      "execution_count": 94,
      "outputs": [
        {
          "output_type": "stream",
          "name": "stdout",
          "text": [
            "Collecting flask-restful\n",
            "  Downloading Flask_RESTful-0.3.10-py2.py3-none-any.whl.metadata (1.0 kB)\n",
            "Collecting aniso8601>=0.82 (from flask-restful)\n",
            "  Downloading aniso8601-10.0.1-py2.py3-none-any.whl.metadata (23 kB)\n",
            "Requirement already satisfied: Flask>=0.8 in /usr/local/lib/python3.11/dist-packages (from flask-restful) (3.1.1)\n",
            "Requirement already satisfied: six>=1.3.0 in /usr/local/lib/python3.11/dist-packages (from flask-restful) (1.17.0)\n",
            "Requirement already satisfied: pytz in /usr/local/lib/python3.11/dist-packages (from flask-restful) (2025.2)\n",
            "Requirement already satisfied: blinker>=1.9.0 in /usr/local/lib/python3.11/dist-packages (from Flask>=0.8->flask-restful) (1.9.0)\n",
            "Requirement already satisfied: click>=8.1.3 in /usr/local/lib/python3.11/dist-packages (from Flask>=0.8->flask-restful) (8.2.1)\n",
            "Requirement already satisfied: itsdangerous>=2.2.0 in /usr/local/lib/python3.11/dist-packages (from Flask>=0.8->flask-restful) (2.2.0)\n",
            "Requirement already satisfied: jinja2>=3.1.2 in /usr/local/lib/python3.11/dist-packages (from Flask>=0.8->flask-restful) (3.1.6)\n",
            "Requirement already satisfied: markupsafe>=2.1.1 in /usr/local/lib/python3.11/dist-packages (from Flask>=0.8->flask-restful) (3.0.2)\n",
            "Requirement already satisfied: werkzeug>=3.1.0 in /usr/local/lib/python3.11/dist-packages (from Flask>=0.8->flask-restful) (3.1.3)\n",
            "Downloading Flask_RESTful-0.3.10-py2.py3-none-any.whl (26 kB)\n",
            "Downloading aniso8601-10.0.1-py2.py3-none-any.whl (52 kB)\n",
            "\u001b[2K   \u001b[90m━━━━━━━━━━━━━━━━━━━━━━━━━━━━━━━━━━━━━━━━\u001b[0m \u001b[32m52.8/52.8 kB\u001b[0m \u001b[31m3.9 MB/s\u001b[0m eta \u001b[36m0:00:00\u001b[0m\n",
            "\u001b[?25hInstalling collected packages: aniso8601, flask-restful\n",
            "Successfully installed aniso8601-10.0.1 flask-restful-0.3.10\n"
          ]
        }
      ]
    },
    {
      "cell_type": "code",
      "source": [
        "from flask import Flask\n",
        "from flask_restful import Api, Resource\n",
        "\n",
        "app = Flask(__name__)\n",
        "api = Api(app)\n",
        "\n",
        "class Hello(Resource):\n",
        "    def get(self):\n",
        "        return {\"message\": \"Hello, world!\"}\n",
        "\n",
        "api.add_resource(Hello, '/hello')\n",
        "\n",
        "if __name__ == '__main__':\n",
        "    app.run(debug=True)\n"
      ],
      "metadata": {
        "id": "DZ0v10jmug1W",
        "colab": {
          "base_uri": "https://localhost:8080/",
          "height": 383
        },
        "outputId": "5ea130e0-5978-43ff-d180-62d6841cee9f"
      },
      "execution_count": 93,
      "outputs": [
        {
          "output_type": "error",
          "ename": "ModuleNotFoundError",
          "evalue": "No module named 'flask_restful'",
          "traceback": [
            "\u001b[0;31m---------------------------------------------------------------------------\u001b[0m",
            "\u001b[0;31mModuleNotFoundError\u001b[0m                       Traceback (most recent call last)",
            "\u001b[0;32m<ipython-input-93-c623837107ff>\u001b[0m in \u001b[0;36m<cell line: 0>\u001b[0;34m()\u001b[0m\n\u001b[1;32m      1\u001b[0m \u001b[0;32mfrom\u001b[0m \u001b[0mflask\u001b[0m \u001b[0;32mimport\u001b[0m \u001b[0mFlask\u001b[0m\u001b[0;34m\u001b[0m\u001b[0;34m\u001b[0m\u001b[0m\n\u001b[0;32m----> 2\u001b[0;31m \u001b[0;32mfrom\u001b[0m \u001b[0mflask_restful\u001b[0m \u001b[0;32mimport\u001b[0m \u001b[0mApi\u001b[0m\u001b[0;34m,\u001b[0m \u001b[0mResource\u001b[0m\u001b[0;34m\u001b[0m\u001b[0;34m\u001b[0m\u001b[0m\n\u001b[0m\u001b[1;32m      3\u001b[0m \u001b[0;34m\u001b[0m\u001b[0m\n\u001b[1;32m      4\u001b[0m \u001b[0mapp\u001b[0m \u001b[0;34m=\u001b[0m \u001b[0mFlask\u001b[0m\u001b[0;34m(\u001b[0m\u001b[0m__name__\u001b[0m\u001b[0;34m)\u001b[0m\u001b[0;34m\u001b[0m\u001b[0;34m\u001b[0m\u001b[0m\n\u001b[1;32m      5\u001b[0m \u001b[0mapi\u001b[0m \u001b[0;34m=\u001b[0m \u001b[0mApi\u001b[0m\u001b[0;34m(\u001b[0m\u001b[0mapp\u001b[0m\u001b[0;34m)\u001b[0m\u001b[0;34m\u001b[0m\u001b[0;34m\u001b[0m\u001b[0m\n",
            "\u001b[0;31mModuleNotFoundError\u001b[0m: No module named 'flask_restful'",
            "",
            "\u001b[0;31m---------------------------------------------------------------------------\u001b[0;32m\nNOTE: If your import is failing due to a missing package, you can\nmanually install dependencies using either !pip or !apt.\n\nTo view examples of installing some common dependencies, click the\n\"Open Examples\" button below.\n\u001b[0;31m---------------------------------------------------------------------------\u001b[0m\n"
          ],
          "errorDetails": {
            "actions": [
              {
                "action": "open_url",
                "actionText": "Open Examples",
                "url": "/notebooks/snippets/importing_libraries.ipynb"
              }
            ]
          }
        }
      ]
    },
    {
      "cell_type": "markdown",
      "source": [
        "/hello now returns a JSON response: {\"message\": \"Hello, world!\"}\n",
        "\n",
        "The class Hello is treated as a REST resource\n",
        "\n",
        "🔍 Using reqparse for Input Validation"
      ],
      "metadata": {
        "id": "qAI5oEKbuasV"
      }
    },
    {
      "cell_type": "code",
      "source": [
        "from flask_restful import reqparse\n",
        "\n",
        "parser = reqparse.RequestParser()\n",
        "parser.add_argument('name', type=str, required=True, help='Name cannot be blank')\n",
        "\n",
        "class Greet(Resource):\n",
        "    def post(self):\n",
        "        args = parser.parse_args()\n",
        "        return {\"message\": f\"Hello, {args['name']}!\"}\n"
      ],
      "metadata": {
        "id": "Fw69SojBul9y",
        "colab": {
          "base_uri": "https://localhost:8080/",
          "height": 383
        },
        "outputId": "5ad7ab8e-9a1e-4b55-f93d-9180aa744482"
      },
      "execution_count": 92,
      "outputs": [
        {
          "output_type": "error",
          "ename": "ModuleNotFoundError",
          "evalue": "No module named 'flask_restful'",
          "traceback": [
            "\u001b[0;31m---------------------------------------------------------------------------\u001b[0m",
            "\u001b[0;31mModuleNotFoundError\u001b[0m                       Traceback (most recent call last)",
            "\u001b[0;32m<ipython-input-92-3521623bcdea>\u001b[0m in \u001b[0;36m<cell line: 0>\u001b[0;34m()\u001b[0m\n\u001b[0;32m----> 1\u001b[0;31m \u001b[0;32mfrom\u001b[0m \u001b[0mflask_restful\u001b[0m \u001b[0;32mimport\u001b[0m \u001b[0mreqparse\u001b[0m\u001b[0;34m\u001b[0m\u001b[0;34m\u001b[0m\u001b[0m\n\u001b[0m\u001b[1;32m      2\u001b[0m \u001b[0;34m\u001b[0m\u001b[0m\n\u001b[1;32m      3\u001b[0m \u001b[0mparser\u001b[0m \u001b[0;34m=\u001b[0m \u001b[0mreqparse\u001b[0m\u001b[0;34m.\u001b[0m\u001b[0mRequestParser\u001b[0m\u001b[0;34m(\u001b[0m\u001b[0;34m)\u001b[0m\u001b[0;34m\u001b[0m\u001b[0;34m\u001b[0m\u001b[0m\n\u001b[1;32m      4\u001b[0m \u001b[0mparser\u001b[0m\u001b[0;34m.\u001b[0m\u001b[0madd_argument\u001b[0m\u001b[0;34m(\u001b[0m\u001b[0;34m'name'\u001b[0m\u001b[0;34m,\u001b[0m \u001b[0mtype\u001b[0m\u001b[0;34m=\u001b[0m\u001b[0mstr\u001b[0m\u001b[0;34m,\u001b[0m \u001b[0mrequired\u001b[0m\u001b[0;34m=\u001b[0m\u001b[0;32mTrue\u001b[0m\u001b[0;34m,\u001b[0m \u001b[0mhelp\u001b[0m\u001b[0;34m=\u001b[0m\u001b[0;34m'Name cannot be blank'\u001b[0m\u001b[0;34m)\u001b[0m\u001b[0;34m\u001b[0m\u001b[0;34m\u001b[0m\u001b[0m\n\u001b[1;32m      5\u001b[0m \u001b[0;34m\u001b[0m\u001b[0m\n",
            "\u001b[0;31mModuleNotFoundError\u001b[0m: No module named 'flask_restful'",
            "",
            "\u001b[0;31m---------------------------------------------------------------------------\u001b[0;32m\nNOTE: If your import is failing due to a missing package, you can\nmanually install dependencies using either !pip or !apt.\n\nTo view examples of installing some common dependencies, click the\n\"Open Examples\" button below.\n\u001b[0;31m---------------------------------------------------------------------------\u001b[0m\n"
          ],
          "errorDetails": {
            "actions": [
              {
                "action": "open_url",
                "actionText": "Open Examples",
                "url": "/notebooks/snippets/importing_libraries.ipynb"
              }
            ]
          }
        }
      ]
    },
    {
      "cell_type": "markdown",
      "source": [
        "23)  What is the role of Flask’s session object?\n",
        "\n",
        "Ans:- The Flask session object is used to store data across requests for a specific client—like user login state, preferences, or temporary data. It behaves like a Python dictionary but is stored securely on the client side using cryptographic signing.\n",
        "\n",
        "🎯 Purpose of Flask's session Object\n",
        "Role\tDescription\n",
        "✅ Persist user data\tKeeps data like user ID, role, or theme between requests\n",
        "✅ Maintain login state\tUsed for simple authentication systems\n",
        "✅ Secure client-side storage\tData is stored in the browser via cookies, but signed to prevent tampering\n",
        "\n",
        "🔐 How It Works\n",
        "Flask stores session data in a cookie on the client.\n",
        "\n",
        "Data is signed with a secret key to prevent modification.\n",
        "\n",
        "It is not encrypted, so don't store sensitive info like passwords.\n",
        "\n",
        "🧱 Example Usage"
      ],
      "metadata": {
        "id": "bCfY0XJuuodK"
      }
    },
    {
      "cell_type": "code",
      "source": [
        "from flask import Flask, session, redirect, url_for, request\n",
        "\n",
        "app = Flask(__name__)\n",
        "app.secret_key = 'supersecretkey'  # Required to use sessions\n",
        "\n",
        "@app.route('/login', methods=['POST'])\n",
        "def login():\n",
        "    session['username'] = request.form['username']\n",
        "    return redirect(url_for('profile'))\n",
        "\n",
        "@app.route('/profile')\n",
        "def profile():\n",
        "    username = session.get('username')\n",
        "    return f'Welcome, {username}' if username else 'You are not logged in.'\n"
      ],
      "metadata": {
        "id": "GCFMbTjcu7h8"
      },
      "execution_count": 90,
      "outputs": []
    },
    {
      "cell_type": "markdown",
      "source": [
        "📦 Common session Operations\n",
        "Operation\tExample\n",
        "Set session data\tsession['key'] = value\n",
        "Get session data\tsession.get('key')\n",
        "Remove a key\tsession.pop('key', None)\n",
        "Clear entire session\tsession.clear()\n",
        "\n",
        "🛡️ Security Tips\n",
        "Always set a strong secret_key in production.\n",
        "\n",
        "Use HTTPS to protect cookies during transmission.\n",
        "\n",
        "Avoid storing sensitive or large data in sessions."
      ],
      "metadata": {
        "id": "cIo_YmtCu_Bq"
      }
    },
    {
      "cell_type": "markdown",
      "source": [
        "1) How do you create a basic Flask application?\n",
        "\n",
        "Ans:- Creating a basic Flask application is simple and only takes a few lines of code. Here's a step-by-step guide:\n",
        "\n",
        "✅ Step 1: Install Flask\n",
        "First, install Flask using pip (if it's not already installed):"
      ],
      "metadata": {
        "id": "wHdBsAx4vFdt"
      }
    },
    {
      "cell_type": "code",
      "source": [
        "pip install flask\n"
      ],
      "metadata": {
        "id": "ErrIwor0u8Zo",
        "colab": {
          "base_uri": "https://localhost:8080/"
        },
        "outputId": "ac16dfda-7dd2-4bc8-f31a-c84dee371168"
      },
      "execution_count": 89,
      "outputs": [
        {
          "output_type": "stream",
          "name": "stdout",
          "text": [
            "Requirement already satisfied: flask in /usr/local/lib/python3.11/dist-packages (3.1.1)\n",
            "Requirement already satisfied: blinker>=1.9.0 in /usr/local/lib/python3.11/dist-packages (from flask) (1.9.0)\n",
            "Requirement already satisfied: click>=8.1.3 in /usr/local/lib/python3.11/dist-packages (from flask) (8.2.1)\n",
            "Requirement already satisfied: itsdangerous>=2.2.0 in /usr/local/lib/python3.11/dist-packages (from flask) (2.2.0)\n",
            "Requirement already satisfied: jinja2>=3.1.2 in /usr/local/lib/python3.11/dist-packages (from flask) (3.1.6)\n",
            "Requirement already satisfied: markupsafe>=2.1.1 in /usr/local/lib/python3.11/dist-packages (from flask) (3.0.2)\n",
            "Requirement already satisfied: werkzeug>=3.1.0 in /usr/local/lib/python3.11/dist-packages (from flask) (3.1.3)\n"
          ]
        }
      ]
    },
    {
      "cell_type": "markdown",
      "source": [
        "✅ Step 2: Create the Application File\n",
        "Create a Python file, e.g., app.py."
      ],
      "metadata": {
        "id": "X68bj3tivXAA"
      }
    },
    {
      "cell_type": "code",
      "source": [
        "from flask import Flask\n",
        "\n",
        "app = Flask(__name__)  # Create the Flask app\n",
        "\n",
        "@app.route('/')         # Define a route for the home page\n",
        "def home():\n",
        "    return \"Hello, Flask!\"  # Return a response\n",
        "\n",
        "if __name__ == '__main__':\n",
        "    app.run(debug=True)  # Start the server in debug mode\n"
      ],
      "metadata": {
        "id": "nXFCg8KEvZqD",
        "colab": {
          "base_uri": "https://localhost:8080/"
        },
        "outputId": "68e15f34-7206-440f-ee50-547d64323908"
      },
      "execution_count": 88,
      "outputs": [
        {
          "output_type": "stream",
          "name": "stdout",
          "text": [
            " * Serving Flask app '__main__'\n",
            " * Debug mode: on\n"
          ]
        },
        {
          "output_type": "stream",
          "name": "stderr",
          "text": [
            "INFO:werkzeug:\u001b[31m\u001b[1mWARNING: This is a development server. Do not use it in a production deployment. Use a production WSGI server instead.\u001b[0m\n",
            " * Running on http://127.0.0.1:5000\n",
            "INFO:werkzeug:\u001b[33mPress CTRL+C to quit\u001b[0m\n",
            "INFO:werkzeug: * Restarting with stat\n"
          ]
        }
      ]
    },
    {
      "cell_type": "markdown",
      "source": [
        "✅ Step 3: Run the App\n",
        "In the terminal, run:"
      ],
      "metadata": {
        "id": "FLWa6LeZvbOw"
      }
    },
    {
      "cell_type": "code",
      "source": [
        "python app.py\n"
      ],
      "metadata": {
        "id": "hXi6y9CGvdf0",
        "colab": {
          "base_uri": "https://localhost:8080/",
          "height": 106
        },
        "outputId": "ffdc69fe-d9e8-4096-c3fb-efacf2acf153"
      },
      "execution_count": 87,
      "outputs": [
        {
          "output_type": "error",
          "ename": "SyntaxError",
          "evalue": "invalid syntax (<ipython-input-87-b851947b46d7>, line 1)",
          "traceback": [
            "\u001b[0;36m  File \u001b[0;32m\"<ipython-input-87-b851947b46d7>\"\u001b[0;36m, line \u001b[0;32m1\u001b[0m\n\u001b[0;31m    python app.py\u001b[0m\n\u001b[0m           ^\u001b[0m\n\u001b[0;31mSyntaxError\u001b[0m\u001b[0;31m:\u001b[0m invalid syntax\n"
          ]
        }
      ]
    },
    {
      "cell_type": "markdown",
      "source": [
        "You’ll see output like:\n"
      ],
      "metadata": {
        "id": "GCZhtzkSvfRY"
      }
    },
    {
      "cell_type": "code",
      "source": [
        " * Running on http://127.0.0.1:5000/\n"
      ],
      "metadata": {
        "id": "iN6FVrakvh7o",
        "colab": {
          "base_uri": "https://localhost:8080/",
          "height": 106
        },
        "outputId": "45809286-6075-4413-d004-14648bc5ac65"
      },
      "execution_count": 86,
      "outputs": [
        {
          "output_type": "error",
          "ename": "SyntaxError",
          "evalue": "invalid syntax (<ipython-input-86-4f39b3c8f40e>, line 1)",
          "traceback": [
            "\u001b[0;36m  File \u001b[0;32m\"<ipython-input-86-4f39b3c8f40e>\"\u001b[0;36m, line \u001b[0;32m1\u001b[0m\n\u001b[0;31m    * Running on http://127.0.0.1:5000/\u001b[0m\n\u001b[0m              ^\u001b[0m\n\u001b[0;31mSyntaxError\u001b[0m\u001b[0;31m:\u001b[0m invalid syntax\n"
          ]
        }
      ]
    },
    {
      "cell_type": "markdown",
      "source": [
        "Open your browser and go to http://127.0.0.1:5000/ — you’ll see \"Hello, Flask!\".\n",
        "\n",
        "🧠 What Each Part Does\n",
        "Code\tPurpose\n",
        "Flask(__name__)\tCreates the app instance\n",
        "@app.route('/')\tBinds the '/' URL to the home() view\n",
        "app.run(debug=True)\tRuns the app with debug mode enabled\n",
        "\n",
        "\n",
        "2) How do you serve static files like images or CSS in Flask?\n",
        "\n",
        "Ans:- In Flask, static files like images, CSS, JavaScript, and fonts are served from a special folder named static by default. Flask automatically makes files in this folder accessible via the /static URL path.\n",
        "\n",
        "How to Serve Static Files in Flask\n",
        "1. Create a static folder\n",
        "In your project directory, create a folder named static. Place your CSS, images, JS files, etc., inside this folder."
      ],
      "metadata": {
        "id": "EODgi_GYvje7"
      }
    },
    {
      "cell_type": "code",
      "source": [
        "your_project/\n",
        "├── app.py\n",
        "├── static/\n",
        "│   ├── style.css\n",
        "│   ├── logo.png\n",
        "│   └── script.js\n",
        "└── templates/\n",
        "    └── index.html\n"
      ],
      "metadata": {
        "id": "UV2_bQqWv_nD",
        "colab": {
          "base_uri": "https://localhost:8080/",
          "height": 106
        },
        "outputId": "ab94a202-3529-4980-e58d-d66f6fc1f022"
      },
      "execution_count": 85,
      "outputs": [
        {
          "output_type": "error",
          "ename": "SyntaxError",
          "evalue": "invalid character '├' (U+251C) (<ipython-input-85-62173f0d2785>, line 2)",
          "traceback": [
            "\u001b[0;36m  File \u001b[0;32m\"<ipython-input-85-62173f0d2785>\"\u001b[0;36m, line \u001b[0;32m2\u001b[0m\n\u001b[0;31m    ├── app.py\u001b[0m\n\u001b[0m    ^\u001b[0m\n\u001b[0;31mSyntaxError\u001b[0m\u001b[0;31m:\u001b[0m invalid character '├' (U+251C)\n"
          ]
        }
      ]
    },
    {
      "cell_type": "markdown",
      "source": [
        "2. Access static files via /static/filename\n",
        "For example, if you have static/style.css, it can be accessed at"
      ],
      "metadata": {
        "id": "7e4Q2OpGwFEN"
      }
    },
    {
      "cell_type": "code",
      "source": [
        "http://localhost:5000/static/style.css\n"
      ],
      "metadata": {
        "id": "jxxNx2kMwHid",
        "colab": {
          "base_uri": "https://localhost:8080/",
          "height": 106
        },
        "outputId": "b25cefe9-7e89-4ba6-8996-239404d31487"
      },
      "execution_count": 84,
      "outputs": [
        {
          "output_type": "error",
          "ename": "SyntaxError",
          "evalue": "invalid syntax (<ipython-input-84-4600cabcbc20>, line 1)",
          "traceback": [
            "\u001b[0;36m  File \u001b[0;32m\"<ipython-input-84-4600cabcbc20>\"\u001b[0;36m, line \u001b[0;32m1\u001b[0m\n\u001b[0;31m    http://localhost:5000/static/style.css\u001b[0m\n\u001b[0m         ^\u001b[0m\n\u001b[0;31mSyntaxError\u001b[0m\u001b[0;31m:\u001b[0m invalid syntax\n"
          ]
        }
      ]
    },
    {
      "cell_type": "markdown",
      "source": [
        "3. Link static files in templates using url_for\n",
        "Use Flask's url_for function inside templates to generate URLs to static files:"
      ],
      "metadata": {
        "id": "xVU7-g9RwKWt"
      }
    },
    {
      "cell_type": "code",
      "source": [
        "<!-- templates/index.html -->\n",
        "<!DOCTYPE html>\n",
        "<html>\n",
        "<head>\n",
        "  <link rel=\"stylesheet\" href=\"{{ url_for('static', filename='style.css') }}\">\n",
        "</head>\n",
        "<body>\n",
        "  <img src=\"{{ url_for('static', filename='logo.png') }}\" alt=\"Logo\">\n",
        "  <script src=\"{{ url_for('static', filename='script.js') }}\"></script>\n",
        "</body>\n",
        "</html>\n"
      ],
      "metadata": {
        "id": "v7MlciKcwLSn",
        "colab": {
          "base_uri": "https://localhost:8080/",
          "height": 106
        },
        "outputId": "10e01b99-e1ed-4173-aaa0-4809365fb715"
      },
      "execution_count": 83,
      "outputs": [
        {
          "output_type": "error",
          "ename": "SyntaxError",
          "evalue": "invalid syntax (<ipython-input-83-d60792b90315>, line 1)",
          "traceback": [
            "\u001b[0;36m  File \u001b[0;32m\"<ipython-input-83-d60792b90315>\"\u001b[0;36m, line \u001b[0;32m1\u001b[0m\n\u001b[0;31m    <!-- templates/index.html -->\u001b[0m\n\u001b[0m    ^\u001b[0m\n\u001b[0;31mSyntaxError\u001b[0m\u001b[0;31m:\u001b[0m invalid syntax\n"
          ]
        }
      ]
    },
    {
      "cell_type": "markdown",
      "source": [
        "Example Flask app to serve static files\n"
      ],
      "metadata": {
        "id": "mNVJgrlmwP6n"
      }
    },
    {
      "cell_type": "code",
      "source": [
        "from flask import Flask, render_template\n",
        "\n",
        "app = Flask(__name__)\n",
        "\n",
        "@app.route('/')\n",
        "def home():\n",
        "    return render_template('index.html')  # index.html references static files\n",
        "\n",
        "if __name__ == '__main__':\n",
        "    app.run(debug=True)\n"
      ],
      "metadata": {
        "id": "-f17NmJGwTVK",
        "colab": {
          "base_uri": "https://localhost:8080/"
        },
        "outputId": "908474da-6b37-48e3-b4c4-7d77271db65f"
      },
      "execution_count": 81,
      "outputs": [
        {
          "output_type": "stream",
          "name": "stdout",
          "text": [
            " * Serving Flask app '__main__'\n",
            " * Debug mode: on\n"
          ]
        },
        {
          "output_type": "stream",
          "name": "stderr",
          "text": [
            "INFO:werkzeug:\u001b[31m\u001b[1mWARNING: This is a development server. Do not use it in a production deployment. Use a production WSGI server instead.\u001b[0m\n",
            " * Running on http://127.0.0.1:5000\n",
            "INFO:werkzeug:\u001b[33mPress CTRL+C to quit\u001b[0m\n",
            "INFO:werkzeug: * Restarting with stat\n"
          ]
        }
      ]
    },
    {
      "cell_type": "markdown",
      "source": [
        "3)  How do you define different routes with different HTTP methods in Flask?\n",
        "\n",
        "Ans:- In Flask, you can define routes that respond to different HTTP methods (like GET, POST, PUT, DELETE) by specifying the methods argument in the @app.route() decorator.\n",
        "\n",
        "How to Define Routes with Specific HTTP Methods"
      ],
      "metadata": {
        "id": "VueMpivewXO9"
      }
    },
    {
      "cell_type": "code",
      "source": [
        "from flask import Flask, request\n",
        "\n",
        "app = Flask(__name__)\n",
        "\n",
        "@app.route('/example', methods=['GET'])\n",
        "def get_example():\n",
        "    return \"This handles GET requests\"\n",
        "\n",
        "@app.route('/example', methods=['POST'])\n",
        "def post_example():\n",
        "    data = request.get_json()\n",
        "    return {\"you sent\": data}, 201\n",
        "\n",
        "# Or combine methods in one route handler\n",
        "@app.route('/multi', methods=['GET', 'POST'])\n",
        "def multi_method():\n",
        "    if request.method == 'POST':\n",
        "        data = request.get_json()\n",
        "        return {\"message\": \"Received POST\", \"data\": data}\n",
        "    else:\n",
        "        return \"This is a GET request\"\n"
      ],
      "metadata": {
        "id": "eh8VAMMZwura"
      },
      "execution_count": 80,
      "outputs": []
    },
    {
      "cell_type": "markdown",
      "source": [
        "Key Points\n",
        "By default, @app.route() only handles GET requests.\n",
        "\n",
        "Use methods=[...] to specify which HTTP methods a route accepts.\n",
        "\n",
        "You can have separate route functions for the same URL but different methods, or handle multiple methods in one function by checking request.method.\n",
        "\n",
        "3)  How do you render HTML templates in Flask?\n",
        "\n",
        "Ans:- ChatGPT said:\n",
        "In Flask, you render HTML templates using the Jinja2 template engine, which is integrated by default. Templates allow you to separate your Python code from HTML and dynamically generate HTML pages.\n",
        "\n",
        "How to Render HTML Templates in Flask\n",
        "1. Create a templates folder\n",
        "In your project directory, create a folder called templates. Flask looks here by default for template files.\n",
        "\n",
        "Example structure:"
      ],
      "metadata": {
        "id": "PMSchOTTwvuO"
      }
    },
    {
      "cell_type": "code",
      "source": [
        "your_project/\n",
        "├── app.py\n",
        "└── templates/\n",
        "    └── index.html\n"
      ],
      "metadata": {
        "id": "OFYsRlc0xCD4",
        "colab": {
          "base_uri": "https://localhost:8080/",
          "height": 106
        },
        "outputId": "c53aeaba-3ed7-42c8-e455-11ed79545279"
      },
      "execution_count": 79,
      "outputs": [
        {
          "output_type": "error",
          "ename": "SyntaxError",
          "evalue": "invalid character '├' (U+251C) (<ipython-input-79-6689eb7996ae>, line 2)",
          "traceback": [
            "\u001b[0;36m  File \u001b[0;32m\"<ipython-input-79-6689eb7996ae>\"\u001b[0;36m, line \u001b[0;32m2\u001b[0m\n\u001b[0;31m    ├── app.py\u001b[0m\n\u001b[0m    ^\u001b[0m\n\u001b[0;31mSyntaxError\u001b[0m\u001b[0;31m:\u001b[0m invalid character '├' (U+251C)\n"
          ]
        }
      ]
    },
    {
      "cell_type": "markdown",
      "source": [
        "2. Create an HTML file\n",
        "templates/index.html:"
      ],
      "metadata": {
        "id": "AwpAwt3jxDAg"
      }
    },
    {
      "cell_type": "code",
      "source": [
        "<!DOCTYPE html>\n",
        "<html>\n",
        "<head>\n",
        "  <title>My Flask App</title>\n",
        "</head>\n",
        "<body>\n",
        "  <h1>Hello, {{ name }}!</h1>\n",
        "</body>\n",
        "</html>\n"
      ],
      "metadata": {
        "id": "d88sSFl2xGCT",
        "colab": {
          "base_uri": "https://localhost:8080/",
          "height": 106
        },
        "outputId": "af59b9b9-f8dd-4d2c-c353-6b51ce3c854f"
      },
      "execution_count": 78,
      "outputs": [
        {
          "output_type": "error",
          "ename": "SyntaxError",
          "evalue": "invalid syntax (<ipython-input-78-355ca96528c9>, line 1)",
          "traceback": [
            "\u001b[0;36m  File \u001b[0;32m\"<ipython-input-78-355ca96528c9>\"\u001b[0;36m, line \u001b[0;32m1\u001b[0m\n\u001b[0;31m    <!DOCTYPE html>\u001b[0m\n\u001b[0m    ^\u001b[0m\n\u001b[0;31mSyntaxError\u001b[0m\u001b[0;31m:\u001b[0m invalid syntax\n"
          ]
        }
      ]
    },
    {
      "cell_type": "markdown",
      "source": [
        "3. Use render_template in your Flask app"
      ],
      "metadata": {
        "id": "REmZD_G-xJL8"
      }
    },
    {
      "cell_type": "code",
      "source": [
        "from flask import Flask, render_template\n",
        "\n",
        "app = Flask(__name__)\n",
        "\n",
        "@app.route('/')\n",
        "def home():\n",
        "    return render_template('index.html', name=\"Alice\")\n",
        "\n",
        "if __name__ == '__main__':\n",
        "    app.run(debug=True)\n"
      ],
      "metadata": {
        "id": "1ojGZqwexLf_",
        "colab": {
          "base_uri": "https://localhost:8080/"
        },
        "outputId": "02583cb3-fb36-4d8e-eedf-d4642a695ca2"
      },
      "execution_count": 77,
      "outputs": [
        {
          "output_type": "stream",
          "name": "stdout",
          "text": [
            " * Serving Flask app '__main__'\n",
            " * Debug mode: on\n"
          ]
        },
        {
          "output_type": "stream",
          "name": "stderr",
          "text": [
            "INFO:werkzeug:\u001b[31m\u001b[1mWARNING: This is a development server. Do not use it in a production deployment. Use a production WSGI server instead.\u001b[0m\n",
            " * Running on http://127.0.0.1:5000\n",
            "INFO:werkzeug:\u001b[33mPress CTRL+C to quit\u001b[0m\n",
            "INFO:werkzeug: * Restarting with stat\n"
          ]
        }
      ]
    },
    {
      "cell_type": "markdown",
      "source": [
        "The name=\"Alice\" part passes the variable name into the template.\n",
        "\n",
        "Inside index.html, {{ name }} is replaced with \"Alice\".\n",
        "\n",
        "5) How can you generate URLs for routes in Flask using url_for?\n",
        "\n",
        "Ans:- In Flask, you use the url_for() function to dynamically generate URLs for your routes based on their function names. This is much better than hardcoding URLs, especially when routes change or have variable parts.\n",
        "\n",
        "How url_for() Works\n",
        "Takes the endpoint name (usually the view function name).\n",
        "\n",
        "Accepts arguments for variable parts in the URL.\n",
        "\n",
        "Returns the absolute URL path for that route.\n",
        "\n",
        "\n",
        "basic example ❎\n"
      ],
      "metadata": {
        "id": "OpsFH2GpxN17"
      }
    },
    {
      "cell_type": "code",
      "source": [
        "from flask import Flask, url_for\n",
        "\n",
        "app = Flask(__name__)\n",
        "\n",
        "@app.route('/')\n",
        "def home():\n",
        "    return 'Home Page'\n",
        "\n",
        "@app.route('/user/<username>')\n",
        "def profile(username):\n",
        "    return f\"User: {username}\"\n",
        "\n",
        "with app.test_request_context():\n",
        "    print(url_for('home'))                 # Output: '/'\n",
        "    print(url_for('profile', username='bob'))  # Output: '/user/bob'\n"
      ],
      "metadata": {
        "id": "Lmk5WLh5xkYj",
        "colab": {
          "base_uri": "https://localhost:8080/"
        },
        "outputId": "cb07c405-a24c-460b-d1e5-b6d8a030507d"
      },
      "execution_count": 76,
      "outputs": [
        {
          "output_type": "stream",
          "name": "stdout",
          "text": [
            "/\n",
            "/user/bob\n"
          ]
        }
      ]
    },
    {
      "cell_type": "markdown",
      "source": [
        "Typical Usage in Templates\n",
        "In your HTML templates, you generate URLs like this:\n"
      ],
      "metadata": {
        "id": "JHM7DOjIxlX_"
      }
    },
    {
      "cell_type": "code",
      "source": [
        "<a href=\"{{ url_for('profile', username='alice') }}\">Alice's Profile</a>\n"
      ],
      "metadata": {
        "id": "WCPIQMmfxoXf",
        "colab": {
          "base_uri": "https://localhost:8080/",
          "height": 106
        },
        "outputId": "883bd6ae-59f4-471b-fdbe-89122e1d4991"
      },
      "execution_count": 75,
      "outputs": [
        {
          "output_type": "error",
          "ename": "SyntaxError",
          "evalue": "unterminated string literal (detected at line 1) (<ipython-input-75-f4393fd17f0f>, line 1)",
          "traceback": [
            "\u001b[0;36m  File \u001b[0;32m\"<ipython-input-75-f4393fd17f0f>\"\u001b[0;36m, line \u001b[0;32m1\u001b[0m\n\u001b[0;31m    <a href=\"{{ url_for('profile', username='alice') }}\">Alice's Profile</a>\u001b[0m\n\u001b[0m                                                              ^\u001b[0m\n\u001b[0;31mSyntaxError\u001b[0m\u001b[0;31m:\u001b[0m unterminated string literal (detected at line 1)\n"
          ]
        }
      ]
    },
    {
      "cell_type": "markdown",
      "source": [
        "Why Use url_for()?\n",
        "Benefit\tExplanation\n",
        "Avoid hardcoding URLs\tSafer when routes change\n",
        "Automatically handles URL building\tIncluding query strings and parameters\n",
        "Supports URL generation for static files\tUse url_for('static', filename='style.css')\n",
        "\n",
        "Example with Static Files"
      ],
      "metadata": {
        "id": "yS0vMh77xqDO"
      }
    },
    {
      "cell_type": "code",
      "source": [
        "url_for('static', filename='style.css')  # -> '/static/style.css'\n"
      ],
      "metadata": {
        "id": "yAdPu3M1xtYl",
        "colab": {
          "base_uri": "https://localhost:8080/",
          "height": 356
        },
        "outputId": "58aff9f5-9297-4939-fbfc-83da77b07091"
      },
      "execution_count": 74,
      "outputs": [
        {
          "output_type": "error",
          "ename": "RuntimeError",
          "evalue": "Working outside of application context.\n\nThis typically means that you attempted to use functionality that needed\nthe current application. To solve this, set up an application context\nwith app.app_context(). See the documentation for more information.",
          "traceback": [
            "\u001b[0;31m---------------------------------------------------------------------------\u001b[0m",
            "\u001b[0;31mRuntimeError\u001b[0m                              Traceback (most recent call last)",
            "\u001b[0;32m<ipython-input-74-3b2f6e720e5f>\u001b[0m in \u001b[0;36m<cell line: 0>\u001b[0;34m()\u001b[0m\n\u001b[0;32m----> 1\u001b[0;31m \u001b[0murl_for\u001b[0m\u001b[0;34m(\u001b[0m\u001b[0;34m'static'\u001b[0m\u001b[0;34m,\u001b[0m \u001b[0mfilename\u001b[0m\u001b[0;34m=\u001b[0m\u001b[0;34m'style.css'\u001b[0m\u001b[0;34m)\u001b[0m  \u001b[0;31m# -> '/static/style.css'\u001b[0m\u001b[0;34m\u001b[0m\u001b[0;34m\u001b[0m\u001b[0m\n\u001b[0m",
            "\u001b[0;32m/usr/local/lib/python3.11/dist-packages/flask/helpers.py\u001b[0m in \u001b[0;36murl_for\u001b[0;34m(endpoint, _anchor, _method, _scheme, _external, **values)\u001b[0m\n\u001b[1;32m    230\u001b[0m        \u001b[0mCalls\u001b[0m\u001b[0;31m \u001b[0m\u001b[0;31m`\u001b[0m\u001b[0;31m`\u001b[0m\u001b[0mapp\u001b[0m\u001b[0;34m.\u001b[0m\u001b[0mhandle_url_build_error\u001b[0m\u001b[0;31m`\u001b[0m\u001b[0;31m`\u001b[0m \u001b[0mon\u001b[0m \u001b[0mbuild\u001b[0m \u001b[0merrors\u001b[0m\u001b[0;34m.\u001b[0m\u001b[0;34m\u001b[0m\u001b[0;34m\u001b[0m\u001b[0m\n\u001b[1;32m    231\u001b[0m     \"\"\"\n\u001b[0;32m--> 232\u001b[0;31m     return current_app.url_for(\n\u001b[0m\u001b[1;32m    233\u001b[0m         \u001b[0mendpoint\u001b[0m\u001b[0;34m,\u001b[0m\u001b[0;34m\u001b[0m\u001b[0;34m\u001b[0m\u001b[0m\n\u001b[1;32m    234\u001b[0m         \u001b[0m_anchor\u001b[0m\u001b[0;34m=\u001b[0m\u001b[0m_anchor\u001b[0m\u001b[0;34m,\u001b[0m\u001b[0;34m\u001b[0m\u001b[0;34m\u001b[0m\u001b[0m\n",
            "\u001b[0;32m/usr/local/lib/python3.11/dist-packages/werkzeug/local.py\u001b[0m in \u001b[0;36m__get__\u001b[0;34m(self, instance, owner)\u001b[0m\n\u001b[1;32m    316\u001b[0m \u001b[0;34m\u001b[0m\u001b[0m\n\u001b[1;32m    317\u001b[0m         \u001b[0;32mtry\u001b[0m\u001b[0;34m:\u001b[0m\u001b[0;34m\u001b[0m\u001b[0;34m\u001b[0m\u001b[0m\n\u001b[0;32m--> 318\u001b[0;31m             \u001b[0mobj\u001b[0m \u001b[0;34m=\u001b[0m \u001b[0minstance\u001b[0m\u001b[0;34m.\u001b[0m\u001b[0m_get_current_object\u001b[0m\u001b[0;34m(\u001b[0m\u001b[0;34m)\u001b[0m\u001b[0;34m\u001b[0m\u001b[0;34m\u001b[0m\u001b[0m\n\u001b[0m\u001b[1;32m    319\u001b[0m         \u001b[0;32mexcept\u001b[0m \u001b[0mRuntimeError\u001b[0m\u001b[0;34m:\u001b[0m\u001b[0;34m\u001b[0m\u001b[0;34m\u001b[0m\u001b[0m\n\u001b[1;32m    320\u001b[0m             \u001b[0;32mif\u001b[0m \u001b[0mself\u001b[0m\u001b[0;34m.\u001b[0m\u001b[0mfallback\u001b[0m \u001b[0;32mis\u001b[0m \u001b[0;32mNone\u001b[0m\u001b[0;34m:\u001b[0m\u001b[0;34m\u001b[0m\u001b[0;34m\u001b[0m\u001b[0m\n",
            "\u001b[0;32m/usr/local/lib/python3.11/dist-packages/werkzeug/local.py\u001b[0m in \u001b[0;36m_get_current_object\u001b[0;34m()\u001b[0m\n\u001b[1;32m    517\u001b[0m                     \u001b[0mobj\u001b[0m \u001b[0;34m=\u001b[0m \u001b[0mlocal\u001b[0m\u001b[0;34m.\u001b[0m\u001b[0mget\u001b[0m\u001b[0;34m(\u001b[0m\u001b[0;34m)\u001b[0m\u001b[0;34m\u001b[0m\u001b[0;34m\u001b[0m\u001b[0m\n\u001b[1;32m    518\u001b[0m                 \u001b[0;32mexcept\u001b[0m \u001b[0mLookupError\u001b[0m\u001b[0;34m:\u001b[0m\u001b[0;34m\u001b[0m\u001b[0;34m\u001b[0m\u001b[0m\n\u001b[0;32m--> 519\u001b[0;31m                     \u001b[0;32mraise\u001b[0m \u001b[0mRuntimeError\u001b[0m\u001b[0;34m(\u001b[0m\u001b[0munbound_message\u001b[0m\u001b[0;34m)\u001b[0m \u001b[0;32mfrom\u001b[0m \u001b[0;32mNone\u001b[0m\u001b[0;34m\u001b[0m\u001b[0;34m\u001b[0m\u001b[0m\n\u001b[0m\u001b[1;32m    520\u001b[0m \u001b[0;34m\u001b[0m\u001b[0m\n\u001b[1;32m    521\u001b[0m                 \u001b[0;32mreturn\u001b[0m \u001b[0mget_name\u001b[0m\u001b[0;34m(\u001b[0m\u001b[0mobj\u001b[0m\u001b[0;34m)\u001b[0m\u001b[0;34m\u001b[0m\u001b[0;34m\u001b[0m\u001b[0m\n",
            "\u001b[0;31mRuntimeError\u001b[0m: Working outside of application context.\n\nThis typically means that you attempted to use functionality that needed\nthe current application. To solve this, set up an application context\nwith app.app_context(). See the documentation for more information."
          ]
        }
      ]
    },
    {
      "cell_type": "markdown",
      "source": [
        "6)  How do you handle forms in Flask?\n",
        "\n",
        "Ans:- ChatGPT said:\n",
        "Handling forms in Flask involves receiving data submitted by users (usually via POST requests), processing it, validating it, and then responding accordingly.\n",
        "\n",
        "Here’s a basic guide on how to handle forms in Flask:\n",
        "\n",
        "1. Create an HTML form\n",
        "Put your form inside a template (templates/form.html)"
      ],
      "metadata": {
        "id": "U7siJPXixxGV"
      }
    },
    {
      "cell_type": "code",
      "source": [
        "<!DOCTYPE html>\n",
        "<html>\n",
        "<head><title>Sample Form</title></head>\n",
        "<body>\n",
        "  <form method=\"POST\" action=\"/submit\">\n",
        "    <label for=\"username\">Username:</label>\n",
        "    <input type=\"text\" name=\"username\" id=\"username\" required>\n",
        "\n",
        "    <input type=\"submit\" value=\"Submit\">\n",
        "  </form>\n",
        "</body>\n",
        "</html>\n"
      ],
      "metadata": {
        "id": "K7Tw9U9myjyt",
        "colab": {
          "base_uri": "https://localhost:8080/",
          "height": 106
        },
        "outputId": "a33bced1-df20-4b5a-9fa4-a1ac86e9319d"
      },
      "execution_count": 73,
      "outputs": [
        {
          "output_type": "error",
          "ename": "SyntaxError",
          "evalue": "invalid syntax (<ipython-input-73-e4747b49b6a7>, line 1)",
          "traceback": [
            "\u001b[0;36m  File \u001b[0;32m\"<ipython-input-73-e4747b49b6a7>\"\u001b[0;36m, line \u001b[0;32m1\u001b[0m\n\u001b[0;31m    <!DOCTYPE html>\u001b[0m\n\u001b[0m    ^\u001b[0m\n\u001b[0;31mSyntaxError\u001b[0m\u001b[0;31m:\u001b[0m invalid syntax\n"
          ]
        }
      ]
    },
    {
      "cell_type": "markdown",
      "source": [
        "2. Define routes in Flask to display and handle the form\n"
      ],
      "metadata": {
        "id": "8qjTP-p3ymFP"
      }
    },
    {
      "cell_type": "code",
      "source": [
        "from flask import Flask, request, render_template\n",
        "\n",
        "app = Flask(__name__)\n",
        "\n",
        "@app.route('/form')\n",
        "def form():\n",
        "    return render_template('form.html')\n",
        "\n",
        "@app.route('/submit', methods=['POST'])\n",
        "def submit():\n",
        "    username = request.form.get('username')  # Get form field data\n",
        "    return f\"Hello, {username}!\"\n"
      ],
      "metadata": {
        "id": "lU-lrUGKyn2Y"
      },
      "execution_count": 72,
      "outputs": []
    },
    {
      "cell_type": "markdown",
      "source": [
        "3. How it works\n",
        "The user visits /form and sees the HTML form.\n",
        "\n",
        "On submitting, the form sends a POST request to /submit.\n",
        "\n",
        "Flask gets the form data via request.form.\n",
        "\n",
        "The server processes the data and responds.\n",
        "\n",
        "Optional: Using Flask-WTF for form handling and validation\n",
        "For more complex forms and validation, you can use Flask-WTF, which integrates WTForms with Flask."
      ],
      "metadata": {
        "id": "YpWwtQbPytSf"
      }
    },
    {
      "cell_type": "code",
      "source": [
        "pip install flask-wtf\n"
      ],
      "metadata": {
        "id": "QlCficCGywwY",
        "colab": {
          "base_uri": "https://localhost:8080/"
        },
        "outputId": "6fbc1882-1bfb-4d9d-e1bb-c7f072b30710"
      },
      "execution_count": 71,
      "outputs": [
        {
          "output_type": "stream",
          "name": "stdout",
          "text": [
            "Requirement already satisfied: flask-wtf in /usr/local/lib/python3.11/dist-packages (1.2.2)\n",
            "Requirement already satisfied: flask in /usr/local/lib/python3.11/dist-packages (from flask-wtf) (3.1.1)\n",
            "Requirement already satisfied: itsdangerous in /usr/local/lib/python3.11/dist-packages (from flask-wtf) (2.2.0)\n",
            "Requirement already satisfied: wtforms in /usr/local/lib/python3.11/dist-packages (from flask-wtf) (3.2.1)\n",
            "Requirement already satisfied: blinker>=1.9.0 in /usr/local/lib/python3.11/dist-packages (from flask->flask-wtf) (1.9.0)\n",
            "Requirement already satisfied: click>=8.1.3 in /usr/local/lib/python3.11/dist-packages (from flask->flask-wtf) (8.2.1)\n",
            "Requirement already satisfied: jinja2>=3.1.2 in /usr/local/lib/python3.11/dist-packages (from flask->flask-wtf) (3.1.6)\n",
            "Requirement already satisfied: markupsafe>=2.1.1 in /usr/local/lib/python3.11/dist-packages (from flask->flask-wtf) (3.0.2)\n",
            "Requirement already satisfied: werkzeug>=3.1.0 in /usr/local/lib/python3.11/dist-packages (from flask->flask-wtf) (3.1.3)\n",
            "\u001b[31mERROR: Operation cancelled by user\u001b[0m\u001b[31m\n",
            "\u001b[0m"
          ]
        }
      ]
    },
    {
      "cell_type": "markdown",
      "source": [
        "Example:\n"
      ],
      "metadata": {
        "id": "SM4oENcty03r"
      }
    },
    {
      "cell_type": "code",
      "source": [
        "from flask_wtf import FlaskForm\n",
        "from wtforms import StringField, SubmitField\n",
        "from wtforms.validators import DataRequired\n",
        "\n",
        "class NameForm(FlaskForm):\n",
        "    name = StringField('Name', validators=[DataRequired()])\n",
        "    submit = SubmitField('Submit')\n"
      ],
      "metadata": {
        "id": "on_CjTgly2Vh"
      },
      "execution_count": 70,
      "outputs": []
    },
    {
      "cell_type": "markdown",
      "source": [
        "7)  How can you validate form data in Flask?\n",
        "\n",
        "Ans:- Validating form data in Flask can be done in a few ways, depending on how complex your forms are and how strict you want validation to be.\n",
        "\n",
        "1. Manual Validation\n",
        "You can manually check the data from request.form in your route handler:"
      ],
      "metadata": {
        "id": "Aplpq79d0Ovw"
      }
    },
    {
      "cell_type": "code",
      "source": [
        "from flask import Flask, request, render_template, flash, redirect, url_for\n",
        "\n",
        "app = Flask(__name__)\n",
        "app.secret_key = 'secretkey'  # Needed for flashing messages\n",
        "\n",
        "@app.route('/submit', methods=['GET', 'POST'])\n",
        "def submit():\n",
        "    if request.method == 'POST':\n",
        "        username = request.form.get('username', '').strip()\n",
        "        if not username:\n",
        "            flash('Username is required!', 'error')\n",
        "            return redirect(url_for('submit'))\n",
        "        if len(username) < 3:\n",
        "            flash('Username must be at least 3 characters long.', 'error')\n",
        "            return redirect(url_for('submit'))\n",
        "        return f\"Hello, {username}!\"\n",
        "    return render_template('form.html')\n"
      ],
      "metadata": {
        "id": "CB0VEyJ50agZ"
      },
      "execution_count": 69,
      "outputs": []
    },
    {
      "cell_type": "markdown",
      "source": [
        "Pros: Simple for small forms\n",
        "Cons: Gets tedious for complex validation logic\n",
        "\n",
        "2. Using Flask-WTF and WTForms\n",
        "For more robust validation, Flask-WTF (built on WTForms) is the go-to solution. It provides built-in validators and integrates nicely with Flask.\n",
        "\n",
        "Install Flask-WTF"
      ],
      "metadata": {
        "id": "C2CRp55R0bxN"
      }
    },
    {
      "cell_type": "code",
      "source": [
        "pip install flask-wtf\n"
      ],
      "metadata": {
        "id": "IwFuetl10fXK",
        "colab": {
          "base_uri": "https://localhost:8080/"
        },
        "outputId": "99e59d36-8367-44fc-a4e0-67cde430c6f6"
      },
      "execution_count": 68,
      "outputs": [
        {
          "output_type": "stream",
          "name": "stdout",
          "text": [
            "Collecting flask-wtf\n",
            "  Downloading flask_wtf-1.2.2-py3-none-any.whl.metadata (3.4 kB)\n",
            "Requirement already satisfied: flask in /usr/local/lib/python3.11/dist-packages (from flask-wtf) (3.1.1)\n",
            "Requirement already satisfied: itsdangerous in /usr/local/lib/python3.11/dist-packages (from flask-wtf) (2.2.0)\n",
            "Collecting wtforms (from flask-wtf)\n",
            "  Downloading wtforms-3.2.1-py3-none-any.whl.metadata (5.3 kB)\n",
            "Requirement already satisfied: blinker>=1.9.0 in /usr/local/lib/python3.11/dist-packages (from flask->flask-wtf) (1.9.0)\n",
            "Requirement already satisfied: click>=8.1.3 in /usr/local/lib/python3.11/dist-packages (from flask->flask-wtf) (8.2.1)\n",
            "Requirement already satisfied: jinja2>=3.1.2 in /usr/local/lib/python3.11/dist-packages (from flask->flask-wtf) (3.1.6)\n",
            "Requirement already satisfied: markupsafe>=2.1.1 in /usr/local/lib/python3.11/dist-packages (from flask->flask-wtf) (3.0.2)\n",
            "Requirement already satisfied: werkzeug>=3.1.0 in /usr/local/lib/python3.11/dist-packages (from flask->flask-wtf) (3.1.3)\n",
            "Downloading flask_wtf-1.2.2-py3-none-any.whl (12 kB)\n",
            "Downloading wtforms-3.2.1-py3-none-any.whl (152 kB)\n",
            "\u001b[2K   \u001b[90m━━━━━━━━━━━━━━━━━━━━━━━━━━━━━━━━━━━━━━━━\u001b[0m \u001b[32m152.5/152.5 kB\u001b[0m \u001b[31m3.5 MB/s\u001b[0m eta \u001b[36m0:00:00\u001b[0m\n",
            "\u001b[?25hInstalling collected packages: wtforms, flask-wtf\n",
            "Successfully installed flask-wtf-1.2.2 wtforms-3.2.1\n"
          ]
        }
      ]
    },
    {
      "cell_type": "markdown",
      "source": [
        "Example with validation:"
      ],
      "metadata": {
        "id": "HQ27Tx7C0lL0"
      }
    },
    {
      "cell_type": "code",
      "source": [
        "from flask import Flask, render_template, redirect, url_for\n",
        "from flask_wtf import FlaskForm\n",
        "from wtforms import StringField, SubmitField\n",
        "from wtforms.validators import DataRequired, Length\n",
        "\n",
        "app = Flask(__name__)\n",
        "app.secret_key = 'secretkey'\n",
        "\n",
        "class UserForm(FlaskForm):\n",
        "    username = StringField('Username', validators=[DataRequired(), Length(min=3)])\n",
        "    submit = SubmitField('Submit')\n",
        "\n",
        "@app.route('/submit', methods=['GET', 'POST'])\n",
        "def submit():\n",
        "    form = UserForm()\n",
        "    if form.validate_on_submit():\n",
        "        username = form.username.data\n",
        "        return f\"Hello, {username}!\"\n",
        "    return render_template('form.html', form=form)\n"
      ],
      "metadata": {
        "id": "tsVDVoNx0hxT",
        "colab": {
          "base_uri": "https://localhost:8080/",
          "height": 383
        },
        "outputId": "c986d8bf-22fd-4b11-9cd8-de581d874006"
      },
      "execution_count": 67,
      "outputs": [
        {
          "output_type": "error",
          "ename": "ModuleNotFoundError",
          "evalue": "No module named 'flask_wtf'",
          "traceback": [
            "\u001b[0;31m---------------------------------------------------------------------------\u001b[0m",
            "\u001b[0;31mModuleNotFoundError\u001b[0m                       Traceback (most recent call last)",
            "\u001b[0;32m<ipython-input-67-9d4264851560>\u001b[0m in \u001b[0;36m<cell line: 0>\u001b[0;34m()\u001b[0m\n\u001b[1;32m      1\u001b[0m \u001b[0;32mfrom\u001b[0m \u001b[0mflask\u001b[0m \u001b[0;32mimport\u001b[0m \u001b[0mFlask\u001b[0m\u001b[0;34m,\u001b[0m \u001b[0mrender_template\u001b[0m\u001b[0;34m,\u001b[0m \u001b[0mredirect\u001b[0m\u001b[0;34m,\u001b[0m \u001b[0murl_for\u001b[0m\u001b[0;34m\u001b[0m\u001b[0;34m\u001b[0m\u001b[0m\n\u001b[0;32m----> 2\u001b[0;31m \u001b[0;32mfrom\u001b[0m \u001b[0mflask_wtf\u001b[0m \u001b[0;32mimport\u001b[0m \u001b[0mFlaskForm\u001b[0m\u001b[0;34m\u001b[0m\u001b[0;34m\u001b[0m\u001b[0m\n\u001b[0m\u001b[1;32m      3\u001b[0m \u001b[0;32mfrom\u001b[0m \u001b[0mwtforms\u001b[0m \u001b[0;32mimport\u001b[0m \u001b[0mStringField\u001b[0m\u001b[0;34m,\u001b[0m \u001b[0mSubmitField\u001b[0m\u001b[0;34m\u001b[0m\u001b[0;34m\u001b[0m\u001b[0m\n\u001b[1;32m      4\u001b[0m \u001b[0;32mfrom\u001b[0m \u001b[0mwtforms\u001b[0m\u001b[0;34m.\u001b[0m\u001b[0mvalidators\u001b[0m \u001b[0;32mimport\u001b[0m \u001b[0mDataRequired\u001b[0m\u001b[0;34m,\u001b[0m \u001b[0mLength\u001b[0m\u001b[0;34m\u001b[0m\u001b[0;34m\u001b[0m\u001b[0m\n\u001b[1;32m      5\u001b[0m \u001b[0;34m\u001b[0m\u001b[0m\n",
            "\u001b[0;31mModuleNotFoundError\u001b[0m: No module named 'flask_wtf'",
            "",
            "\u001b[0;31m---------------------------------------------------------------------------\u001b[0;32m\nNOTE: If your import is failing due to a missing package, you can\nmanually install dependencies using either !pip or !apt.\n\nTo view examples of installing some common dependencies, click the\n\"Open Examples\" button below.\n\u001b[0;31m---------------------------------------------------------------------------\u001b[0m\n"
          ],
          "errorDetails": {
            "actions": [
              {
                "action": "open_url",
                "actionText": "Open Examples",
                "url": "/notebooks/snippets/importing_libraries.ipynb"
              }
            ]
          }
        }
      ]
    },
    {
      "cell_type": "markdown",
      "source": [
        "In your templates/form.html:"
      ],
      "metadata": {
        "id": "8SaB4gGH0o6t"
      }
    },
    {
      "cell_type": "code",
      "source": [
        "<form method=\"POST\" action=\"\">\n",
        "  {{ form.hidden_tag() }}\n",
        "  {{ form.username.label }} {{ form.username(size=20) }}\n",
        "  {% for error in form.username.errors %}\n",
        "    <span style=\"color: red;\">{{ error }}</span>\n",
        "  {% endfor %}\n",
        "  {{ form.submit() }}\n",
        "</form>\n"
      ],
      "metadata": {
        "id": "wdpN5rOP0slJ",
        "colab": {
          "base_uri": "https://localhost:8080/",
          "height": 106
        },
        "outputId": "f47916e0-6fd8-4e1c-b965-c3d72d8c1a76"
      },
      "execution_count": 66,
      "outputs": [
        {
          "output_type": "error",
          "ename": "SyntaxError",
          "evalue": "invalid syntax (<ipython-input-66-0e762d46a6ad>, line 1)",
          "traceback": [
            "\u001b[0;36m  File \u001b[0;32m\"<ipython-input-66-0e762d46a6ad>\"\u001b[0;36m, line \u001b[0;32m1\u001b[0m\n\u001b[0;31m    <form method=\"POST\" action=\"\">\u001b[0m\n\u001b[0m    ^\u001b[0m\n\u001b[0;31mSyntaxError\u001b[0m\u001b[0;31m:\u001b[0m invalid syntax\n"
          ]
        }
      ]
    },
    {
      "cell_type": "markdown",
      "source": [
        "Why use Flask-WTF?\n",
        "Benefit\tDescription\n",
        "Built-in validators\tDataRequired, Length, Email, etc.\n",
        "CSRF protection\tAutomatically handled\n",
        "Cleaner and reusable forms\tDefine forms as Python classes\n",
        "Easy error handling\tErrors available in templates\n",
        "\n"
      ],
      "metadata": {
        "id": "EK0sVBd40x0W"
      }
    },
    {
      "cell_type": "markdown",
      "source": [
        "8) How do you manage sessions in Flask?\n",
        "\n",
        "Ans:- In Flask, you manage sessions using the built-in session object, which allows you to store data across multiple requests for the same user. It's commonly used for things like login state, shopping carts, or user preferences.\n",
        "\n",
        "🔑 How Flask Sessions Work\n",
        "Flask stores session data client-side in a securely signed cookie.\n",
        "\n",
        "The session behaves like a Python dictionary.\n",
        "\n",
        "Flask uses a secret_key to sign the session data and prevent tampering.\n",
        "\n",
        "✅ Step-by-Step: Managing Sessions in Flask\n",
        "1. Set the secret_key\n",
        "This key is required to encrypt and sign session cookies."
      ],
      "metadata": {
        "id": "5BuLca3hy30V"
      }
    },
    {
      "cell_type": "code",
      "source": [
        "from flask import Flask, session\n",
        "\n",
        "app = Flask(__name__)\n",
        "app.secret_key = 'your-secret-key'  # Keep this secure in production\n"
      ],
      "metadata": {
        "id": "eqcvoBcd04kA"
      },
      "execution_count": 65,
      "outputs": []
    },
    {
      "cell_type": "markdown",
      "source": [
        "2. Storing Data in the Session"
      ],
      "metadata": {
        "id": "7R_Wv5Y808Jg"
      }
    },
    {
      "cell_type": "code",
      "source": [
        "@app.route('/login')\n",
        "def login():\n",
        "    session['username'] = 'alice'\n",
        "    return 'Logged in as alice'\n"
      ],
      "metadata": {
        "id": "-yiZla2S09la"
      },
      "execution_count": 64,
      "outputs": []
    },
    {
      "cell_type": "markdown",
      "source": [
        "3. Accessing Session Data\n"
      ],
      "metadata": {
        "id": "JX53yteu1A2l"
      }
    },
    {
      "cell_type": "code",
      "source": [
        "@app.route('/profile')\n",
        "def profile():\n",
        "    username = session.get('username')\n",
        "    return f'Hello, {username}' if username else 'You are not logged in'\n"
      ],
      "metadata": {
        "id": "2VmQ7-0d1GyN"
      },
      "execution_count": 63,
      "outputs": []
    },
    {
      "cell_type": "markdown",
      "source": [
        "4. Removing Data from the Session\n"
      ],
      "metadata": {
        "id": "3WhJUd5M1Fim"
      }
    },
    {
      "cell_type": "code",
      "source": [
        "@app.route('/logout')\n",
        "def logout():\n",
        "    session.pop('username', None)  # Remove username if it exists\n",
        "    return 'Logged out'\n"
      ],
      "metadata": {
        "id": "obPl4LiU1MEY"
      },
      "execution_count": 62,
      "outputs": []
    },
    {
      "cell_type": "markdown",
      "source": [
        "5. Clearing the Entire Session\n"
      ],
      "metadata": {
        "id": "_-mfth_K1Ov3"
      }
    },
    {
      "cell_type": "code",
      "source": [
        "@app.route('/clear')\n",
        "def clear():\n",
        "    session.clear()\n",
        "    return 'Session cleared'\n"
      ],
      "metadata": {
        "id": "dbMx4ojr1U9M"
      },
      "execution_count": 61,
      "outputs": []
    },
    {
      "cell_type": "markdown",
      "source": [
        "🛡️ Best Practices\n",
        "Tip\tWhy It Matters\n",
        "Set a strong secret_key\tPrevents tampering with session data\n",
        "Avoid storing sensitive info\tData is stored client-side\n",
        "Use HTTPS in production\tEncrypts the cookie in transit\n",
        "\n",
        "9) How do you redirect to a different route in Flask?\n",
        "\n",
        "Ans:- In Flask, you redirect to a different route using the redirect() function, often combined with url_for() to dynamically generate the target URL.\n",
        "\n",
        "✅ Basic Redirect Example"
      ],
      "metadata": {
        "id": "tc4LmHUJ1ZIg"
      }
    },
    {
      "cell_type": "code",
      "source": [
        "from flask import Flask, redirect, url_for\n",
        "\n",
        "app = Flask(__name__)\n",
        "\n",
        "@app.route('/')\n",
        "def home():\n",
        "    return 'Home Page'\n",
        "\n",
        "@app.route('/go-to-home')\n",
        "def go_home():\n",
        "    return redirect(url_for('home'))  # Redirect to the 'home' route\n"
      ],
      "metadata": {
        "id": "KesFiNmN4Ma6"
      },
      "execution_count": 60,
      "outputs": []
    },
    {
      "cell_type": "markdown",
      "source": [
        "Visiting /go-to-home will redirect the user to /.\n",
        "\n",
        "url_for('home') returns '/' because it's the endpoint name.\n",
        "\n",
        "🔁 Redirect with Query Parameters\n",
        "You can pass arguments to url_for():"
      ],
      "metadata": {
        "id": "6SZZvPtA4NmK"
      }
    },
    {
      "cell_type": "code",
      "source": [
        "@app.route('/user/<username>')\n",
        "def user_profile(username):\n",
        "    return f\"User: {username}\"\n",
        "\n",
        "@app.route('/redirect-user')\n",
        "def redirect_user():\n",
        "    return redirect(url_for('user_profile', username='alice'))\n"
      ],
      "metadata": {
        "id": "xLQIDXY14RfM"
      },
      "execution_count": 59,
      "outputs": []
    },
    {
      "cell_type": "markdown",
      "source": [
        "This would redirect to /user/alice.\n",
        "\n",
        "🔄 Redirect to an External URL"
      ],
      "metadata": {
        "id": "4oP0SHEd4vAY"
      }
    },
    {
      "cell_type": "code",
      "source": [
        "@app.route('/external')\n",
        "def external():\n",
        "    return redirect('https://example.com')\n"
      ],
      "metadata": {
        "id": "XejZOpGU4ujo"
      },
      "execution_count": 58,
      "outputs": []
    },
    {
      "cell_type": "markdown",
      "source": [
        "🔐 Use with Login or Forms\n",
        "Redirects are commonly used after:\n",
        "\n",
        "Successful login\n",
        "\n",
        "Form submissions\n",
        "\n",
        "Access denial or authentication"
      ],
      "metadata": {
        "id": "jWlb_17_4x6X"
      }
    },
    {
      "cell_type": "code",
      "source": [
        "@app.route('/login', methods=['POST'])\n",
        "def login():\n",
        "    # (validate login here)\n",
        "    return redirect(url_for('dashboard'))\n"
      ],
      "metadata": {
        "id": "NqvbGHwk40sB"
      },
      "execution_count": 57,
      "outputs": []
    },
    {
      "cell_type": "markdown",
      "source": [
        "10) How do you handle errors in Flask (e.g., 404)\n",
        "\n",
        "Ans:- In Flask, you handle errors like 404 (Not Found) or 500 (Internal Server Error) using custom error handlers with the @app.errorhandler() decorator.\n",
        "\n",
        "This allows you to show friendly messages, custom pages, or structured JSON responses when something goes wrong.\n",
        "\n",
        "✅ Basic Example: Handle 404 Error"
      ],
      "metadata": {
        "id": "o2uRAzKM42yB"
      }
    },
    {
      "cell_type": "code",
      "source": [
        "from flask import Flask, render_template\n",
        "\n",
        "app = Flask(__name__)\n",
        "\n",
        "@app.errorhandler(404)\n",
        "def page_not_found(error):\n",
        "    return render_template('404.html'), 404\n"
      ],
      "metadata": {
        "id": "ZycDB7ct5Din"
      },
      "execution_count": 56,
      "outputs": []
    },
    {
      "cell_type": "markdown",
      "source": [
        "When a route is not found, Flask will return the custom 404.html page.\n",
        "\n",
        "The second value (404) sets the HTTP status code of the response.\n",
        "\n",
        "✅ Handle Other Common Errors"
      ],
      "metadata": {
        "id": "QjJjgfMo5Ey_"
      }
    },
    {
      "cell_type": "code",
      "source": [
        "@app.errorhandler(500)\n",
        "def internal_error(error):\n",
        "    return \"An internal server error occurred.\", 500\n",
        "\n",
        "@app.errorhandler(403)\n",
        "def forbidden(error):\n",
        "    return \"Access forbidden.\", 403\n"
      ],
      "metadata": {
        "id": "pKd4wG635HNK"
      },
      "execution_count": 55,
      "outputs": []
    },
    {
      "cell_type": "markdown",
      "source": [
        "🧪 Returning JSON for APIs\n",
        "For APIs, return structured JSON instead of HTML"
      ],
      "metadata": {
        "id": "zJHUifiV5JZ9"
      }
    },
    {
      "cell_type": "code",
      "source": [
        "from flask import jsonify\n",
        "\n",
        "@app.errorhandler(404)\n",
        "def api_not_found(error):\n",
        "    return jsonify({'error': 'Not found'}), 404\n"
      ],
      "metadata": {
        "id": "lLnuO6R_5Ln4"
      },
      "execution_count": 54,
      "outputs": []
    },
    {
      "cell_type": "markdown",
      "source": [
        "🔄 Raising Errors Manually\n",
        "You can raise errors with the abort() function:"
      ],
      "metadata": {
        "id": "QXkO6pfx5PwA"
      }
    },
    {
      "cell_type": "code",
      "source": [
        "from flask import abort\n",
        "\n",
        "@app.route('/secret')\n",
        "def secret():\n",
        "    abort(403)  # Triggers the 403 error handler\n"
      ],
      "metadata": {
        "id": "0IifUlwQ5RYr"
      },
      "execution_count": 53,
      "outputs": []
    },
    {
      "cell_type": "markdown",
      "source": [
        "11) How do you structure a Flask app using Blueprints?\n",
        "\n",
        "Ans:- Structuring a Flask app using Blueprints is a way to organize your application into modular, reusable components—especially helpful in larger apps with many routes, views, or API endpoints.\n",
        "\n",
        "🧱 What Is a Blueprint in Flask?\n",
        "A Blueprint is like a mini-application within your main Flask app. You define routes and logic inside it, then register it to your main app.\n",
        "\n",
        "✅ Why Use Blueprints?\n",
        "Benefit\tDescription\n",
        "✅ Modular structure\tSplit app into smaller, focused files\n",
        "✅ Reusable code\tBlueprints can be reused across projects\n",
        "✅ Cleaner project layout\tSeparates logic by feature or function\n",
        "\n",
        "📦 Project Structure Example"
      ],
      "metadata": {
        "id": "OBk42N7w5TOY"
      }
    },
    {
      "cell_type": "code",
      "source": [
        "your_project/\n",
        "├── app/\n",
        "│   ├── __init__.py\n",
        "│   ├── routes/\n",
        "│   │   ├── __init__.py\n",
        "│   │   └── user.py\n",
        "│   └── templates/\n",
        "│       └── user.html\n",
        "├── run.py\n"
      ],
      "metadata": {
        "id": "yBxzQXCY50Sv",
        "colab": {
          "base_uri": "https://localhost:8080/",
          "height": 106
        },
        "outputId": "23275c9a-d443-4887-c8b6-f7b2155c3a97"
      },
      "execution_count": 52,
      "outputs": [
        {
          "output_type": "error",
          "ename": "SyntaxError",
          "evalue": "invalid character '├' (U+251C) (<ipython-input-52-90477b9b2a9e>, line 2)",
          "traceback": [
            "\u001b[0;36m  File \u001b[0;32m\"<ipython-input-52-90477b9b2a9e>\"\u001b[0;36m, line \u001b[0;32m2\u001b[0m\n\u001b[0;31m    ├── app/\u001b[0m\n\u001b[0m    ^\u001b[0m\n\u001b[0;31mSyntaxError\u001b[0m\u001b[0;31m:\u001b[0m invalid character '├' (U+251C)\n"
          ]
        }
      ]
    },
    {
      "cell_type": "markdown",
      "source": [
        "🧱 1. Create a Blueprint (e.g., user.py)"
      ],
      "metadata": {
        "id": "_ufqbIwa51CI"
      }
    },
    {
      "cell_type": "code",
      "source": [
        "# app/routes/user.py\n",
        "from flask import Blueprint, render_template\n",
        "\n",
        "user_bp = Blueprint('user', __name__, url_prefix='/user')\n",
        "\n",
        "@user_bp.route('/')\n",
        "def user_home():\n",
        "    return render_template('user.html')\n"
      ],
      "metadata": {
        "id": "ZhgUglXX542b"
      },
      "execution_count": 51,
      "outputs": []
    },
    {
      "cell_type": "markdown",
      "source": [
        "🧩 2. Register the Blueprint in __init__.py\n"
      ],
      "metadata": {
        "id": "_GTigMO056tu"
      }
    },
    {
      "cell_type": "code",
      "source": [
        "# app/__init__.py\n",
        "from flask import Flask\n",
        "from app.routes.user import user_bp\n",
        "\n",
        "def create_app():\n",
        "    app = Flask(__name__)\n",
        "    app.register_blueprint(user_bp)\n",
        "    return app\n"
      ],
      "metadata": {
        "id": "iEjBlhg05_jF",
        "colab": {
          "base_uri": "https://localhost:8080/",
          "height": 383
        },
        "outputId": "da686d54-a21e-4c0c-de77-e78cada44701"
      },
      "execution_count": 50,
      "outputs": [
        {
          "output_type": "error",
          "ename": "ModuleNotFoundError",
          "evalue": "No module named 'app'",
          "traceback": [
            "\u001b[0;31m---------------------------------------------------------------------------\u001b[0m",
            "\u001b[0;31mModuleNotFoundError\u001b[0m                       Traceback (most recent call last)",
            "\u001b[0;32m<ipython-input-50-e100452a95b0>\u001b[0m in \u001b[0;36m<cell line: 0>\u001b[0;34m()\u001b[0m\n\u001b[1;32m      1\u001b[0m \u001b[0;31m# app/__init__.py\u001b[0m\u001b[0;34m\u001b[0m\u001b[0;34m\u001b[0m\u001b[0m\n\u001b[1;32m      2\u001b[0m \u001b[0;32mfrom\u001b[0m \u001b[0mflask\u001b[0m \u001b[0;32mimport\u001b[0m \u001b[0mFlask\u001b[0m\u001b[0;34m\u001b[0m\u001b[0;34m\u001b[0m\u001b[0m\n\u001b[0;32m----> 3\u001b[0;31m \u001b[0;32mfrom\u001b[0m \u001b[0mapp\u001b[0m\u001b[0;34m.\u001b[0m\u001b[0mroutes\u001b[0m\u001b[0;34m.\u001b[0m\u001b[0muser\u001b[0m \u001b[0;32mimport\u001b[0m \u001b[0muser_bp\u001b[0m\u001b[0;34m\u001b[0m\u001b[0;34m\u001b[0m\u001b[0m\n\u001b[0m\u001b[1;32m      4\u001b[0m \u001b[0;34m\u001b[0m\u001b[0m\n\u001b[1;32m      5\u001b[0m \u001b[0;32mdef\u001b[0m \u001b[0mcreate_app\u001b[0m\u001b[0;34m(\u001b[0m\u001b[0;34m)\u001b[0m\u001b[0;34m:\u001b[0m\u001b[0;34m\u001b[0m\u001b[0;34m\u001b[0m\u001b[0m\n",
            "\u001b[0;31mModuleNotFoundError\u001b[0m: No module named 'app'",
            "",
            "\u001b[0;31m---------------------------------------------------------------------------\u001b[0;32m\nNOTE: If your import is failing due to a missing package, you can\nmanually install dependencies using either !pip or !apt.\n\nTo view examples of installing some common dependencies, click the\n\"Open Examples\" button below.\n\u001b[0;31m---------------------------------------------------------------------------\u001b[0m\n"
          ],
          "errorDetails": {
            "actions": [
              {
                "action": "open_url",
                "actionText": "Open Examples",
                "url": "/notebooks/snippets/importing_libraries.ipynb"
              }
            ]
          }
        }
      ]
    },
    {
      "cell_type": "markdown",
      "source": [
        "🚀 3. Run the App\n"
      ],
      "metadata": {
        "id": "UFdldu615-X-"
      }
    },
    {
      "cell_type": "code",
      "source": [
        "# run.py\n",
        "from app import create_app\n",
        "\n",
        "app = create_app()\n",
        "\n",
        "if __name__ == '__main__':\n",
        "    app.run(debug=True)\n"
      ],
      "metadata": {
        "id": "ToYJynA96DqH",
        "colab": {
          "base_uri": "https://localhost:8080/",
          "height": 383
        },
        "outputId": "4a96bbdb-5b9b-4451-dec4-ae26f32a72cc"
      },
      "execution_count": 49,
      "outputs": [
        {
          "output_type": "error",
          "ename": "ModuleNotFoundError",
          "evalue": "No module named 'app'",
          "traceback": [
            "\u001b[0;31m---------------------------------------------------------------------------\u001b[0m",
            "\u001b[0;31mModuleNotFoundError\u001b[0m                       Traceback (most recent call last)",
            "\u001b[0;32m<ipython-input-49-5ab78cbebc90>\u001b[0m in \u001b[0;36m<cell line: 0>\u001b[0;34m()\u001b[0m\n\u001b[1;32m      1\u001b[0m \u001b[0;31m# run.py\u001b[0m\u001b[0;34m\u001b[0m\u001b[0;34m\u001b[0m\u001b[0m\n\u001b[0;32m----> 2\u001b[0;31m \u001b[0;32mfrom\u001b[0m \u001b[0mapp\u001b[0m \u001b[0;32mimport\u001b[0m \u001b[0mcreate_app\u001b[0m\u001b[0;34m\u001b[0m\u001b[0;34m\u001b[0m\u001b[0m\n\u001b[0m\u001b[1;32m      3\u001b[0m \u001b[0;34m\u001b[0m\u001b[0m\n\u001b[1;32m      4\u001b[0m \u001b[0mapp\u001b[0m \u001b[0;34m=\u001b[0m \u001b[0mcreate_app\u001b[0m\u001b[0;34m(\u001b[0m\u001b[0;34m)\u001b[0m\u001b[0;34m\u001b[0m\u001b[0;34m\u001b[0m\u001b[0m\n\u001b[1;32m      5\u001b[0m \u001b[0;34m\u001b[0m\u001b[0m\n",
            "\u001b[0;31mModuleNotFoundError\u001b[0m: No module named 'app'",
            "",
            "\u001b[0;31m---------------------------------------------------------------------------\u001b[0;32m\nNOTE: If your import is failing due to a missing package, you can\nmanually install dependencies using either !pip or !apt.\n\nTo view examples of installing some common dependencies, click the\n\"Open Examples\" button below.\n\u001b[0;31m---------------------------------------------------------------------------\u001b[0m\n"
          ],
          "errorDetails": {
            "actions": [
              {
                "action": "open_url",
                "actionText": "Open Examples",
                "url": "/notebooks/snippets/importing_libraries.ipynb"
              }
            ]
          }
        }
      ]
    },
    {
      "cell_type": "markdown",
      "source": [
        "🌐 Access the Route\n",
        "Go to http://localhost:5000/user/ to see the response from the user_home() view.\n",
        "\n",
        "🔁 Multiple Blueprints\n",
        "You can define multiple blueprints for different parts of your app:"
      ],
      "metadata": {
        "id": "TQOEd01f6F-6"
      }
    },
    {
      "cell_type": "code",
      "source": [
        "# app/routes/admin.py\n",
        "admin_bp = Blueprint('admin', __name__, url_prefix='/admin')\n",
        "\n",
        "@admin_bp.route('/')\n",
        "def admin_home():\n",
        "    return \"Admin Dashboard\"\n"
      ],
      "metadata": {
        "id": "gFdWbgP26LQ5",
        "colab": {
          "base_uri": "https://localhost:8080/",
          "height": 211
        },
        "outputId": "0eb895ff-cc90-4656-ae06-987ac9f8a186"
      },
      "execution_count": 48,
      "outputs": [
        {
          "output_type": "error",
          "ename": "NameError",
          "evalue": "name 'Blueprint' is not defined",
          "traceback": [
            "\u001b[0;31m---------------------------------------------------------------------------\u001b[0m",
            "\u001b[0;31mNameError\u001b[0m                                 Traceback (most recent call last)",
            "\u001b[0;32m<ipython-input-48-072903cd23f8>\u001b[0m in \u001b[0;36m<cell line: 0>\u001b[0;34m()\u001b[0m\n\u001b[1;32m      1\u001b[0m \u001b[0;31m# app/routes/admin.py\u001b[0m\u001b[0;34m\u001b[0m\u001b[0;34m\u001b[0m\u001b[0m\n\u001b[0;32m----> 2\u001b[0;31m \u001b[0madmin_bp\u001b[0m \u001b[0;34m=\u001b[0m \u001b[0mBlueprint\u001b[0m\u001b[0;34m(\u001b[0m\u001b[0;34m'admin'\u001b[0m\u001b[0;34m,\u001b[0m \u001b[0m__name__\u001b[0m\u001b[0;34m,\u001b[0m \u001b[0murl_prefix\u001b[0m\u001b[0;34m=\u001b[0m\u001b[0;34m'/admin'\u001b[0m\u001b[0;34m)\u001b[0m\u001b[0;34m\u001b[0m\u001b[0;34m\u001b[0m\u001b[0m\n\u001b[0m\u001b[1;32m      3\u001b[0m \u001b[0;34m\u001b[0m\u001b[0m\n\u001b[1;32m      4\u001b[0m \u001b[0;34m@\u001b[0m\u001b[0madmin_bp\u001b[0m\u001b[0;34m.\u001b[0m\u001b[0mroute\u001b[0m\u001b[0;34m(\u001b[0m\u001b[0;34m'/'\u001b[0m\u001b[0;34m)\u001b[0m\u001b[0;34m\u001b[0m\u001b[0;34m\u001b[0m\u001b[0m\n\u001b[1;32m      5\u001b[0m \u001b[0;32mdef\u001b[0m \u001b[0madmin_home\u001b[0m\u001b[0;34m(\u001b[0m\u001b[0;34m)\u001b[0m\u001b[0;34m:\u001b[0m\u001b[0;34m\u001b[0m\u001b[0;34m\u001b[0m\u001b[0m\n",
            "\u001b[0;31mNameError\u001b[0m: name 'Blueprint' is not defined"
          ]
        }
      ]
    },
    {
      "cell_type": "markdown",
      "source": [
        "Then register in __init__.py:\n",
        "\n"
      ],
      "metadata": {
        "id": "Jlt4SZiP6MMc"
      }
    },
    {
      "cell_type": "code",
      "source": [
        "from app.routes.admin import admin_bp\n",
        "app.register_blueprint(admin_bp)\n"
      ],
      "metadata": {
        "id": "NEs7dV6S6PSO",
        "colab": {
          "base_uri": "https://localhost:8080/",
          "height": 331
        },
        "outputId": "a53e6050-cdd8-4ef5-e7dc-3a3e31a061df"
      },
      "execution_count": 47,
      "outputs": [
        {
          "output_type": "error",
          "ename": "ModuleNotFoundError",
          "evalue": "No module named 'app'",
          "traceback": [
            "\u001b[0;31m---------------------------------------------------------------------------\u001b[0m",
            "\u001b[0;31mModuleNotFoundError\u001b[0m                       Traceback (most recent call last)",
            "\u001b[0;32m<ipython-input-47-43f31c9081aa>\u001b[0m in \u001b[0;36m<cell line: 0>\u001b[0;34m()\u001b[0m\n\u001b[0;32m----> 1\u001b[0;31m \u001b[0;32mfrom\u001b[0m \u001b[0mapp\u001b[0m\u001b[0;34m.\u001b[0m\u001b[0mroutes\u001b[0m\u001b[0;34m.\u001b[0m\u001b[0madmin\u001b[0m \u001b[0;32mimport\u001b[0m \u001b[0madmin_bp\u001b[0m\u001b[0;34m\u001b[0m\u001b[0;34m\u001b[0m\u001b[0m\n\u001b[0m\u001b[1;32m      2\u001b[0m \u001b[0mapp\u001b[0m\u001b[0;34m.\u001b[0m\u001b[0mregister_blueprint\u001b[0m\u001b[0;34m(\u001b[0m\u001b[0madmin_bp\u001b[0m\u001b[0;34m)\u001b[0m\u001b[0;34m\u001b[0m\u001b[0;34m\u001b[0m\u001b[0m\n",
            "\u001b[0;31mModuleNotFoundError\u001b[0m: No module named 'app'",
            "",
            "\u001b[0;31m---------------------------------------------------------------------------\u001b[0;32m\nNOTE: If your import is failing due to a missing package, you can\nmanually install dependencies using either !pip or !apt.\n\nTo view examples of installing some common dependencies, click the\n\"Open Examples\" button below.\n\u001b[0;31m---------------------------------------------------------------------------\u001b[0m\n"
          ],
          "errorDetails": {
            "actions": [
              {
                "action": "open_url",
                "actionText": "Open Examples",
                "url": "/notebooks/snippets/importing_libraries.ipynb"
              }
            ]
          }
        }
      ]
    },
    {
      "cell_type": "markdown",
      "source": [
        "12) How do you define a custom Jinja filter in Flask?\n",
        "\n",
        "Ans:- In Flask, you can define a custom Jinja filter to transform data inside your templates. Jinja filters are functions that you apply to variables using the pipe | syntax in templates (e.g., {{ name|uppercase }}).\n",
        "\n",
        "✅ Steps to Define a Custom Jinja Filter\n",
        "1. Create the Filter Function"
      ],
      "metadata": {
        "id": "7PG5RDEw6RoV"
      }
    },
    {
      "cell_type": "code",
      "source": [
        "def reverse_string(s):\n",
        "    return s[::-1]\n"
      ],
      "metadata": {
        "id": "xkGJgvDU6d61"
      },
      "execution_count": 46,
      "outputs": []
    },
    {
      "cell_type": "markdown",
      "source": [
        "2. Register the Filter with Flask\n",
        "You can register it globally using app.template_filter():"
      ],
      "metadata": {
        "id": "AUHSu3dG6hr_"
      }
    },
    {
      "cell_type": "code",
      "source": [
        "from flask import Flask\n",
        "\n",
        "app = Flask(__name__)\n",
        "\n",
        "@app.template_filter('reverse')\n",
        "def reverse_string(s):\n",
        "    return s[::-1]\n"
      ],
      "metadata": {
        "id": "KpV0zHWr6j3P"
      },
      "execution_count": 45,
      "outputs": []
    },
    {
      "cell_type": "markdown",
      "source": [
        "Or register manually like this:\n"
      ],
      "metadata": {
        "id": "tSpX_95t6lOn"
      }
    },
    {
      "cell_type": "code",
      "source": [
        "app.add_template_filter(reverse_string, name='reverse')\n"
      ],
      "metadata": {
        "id": "lBYcuRiZ6piv",
        "colab": {
          "base_uri": "https://localhost:8080/",
          "height": 141
        },
        "outputId": "d814f7fc-b775-4c99-f1f2-8178b6f260ce"
      },
      "execution_count": 44,
      "outputs": [
        {
          "output_type": "error",
          "ename": "NameError",
          "evalue": "name 'reverse_string' is not defined",
          "traceback": [
            "\u001b[0;31m---------------------------------------------------------------------------\u001b[0m",
            "\u001b[0;31mNameError\u001b[0m                                 Traceback (most recent call last)",
            "\u001b[0;32m<ipython-input-44-4d831018acbb>\u001b[0m in \u001b[0;36m<cell line: 0>\u001b[0;34m()\u001b[0m\n\u001b[0;32m----> 1\u001b[0;31m \u001b[0mapp\u001b[0m\u001b[0;34m.\u001b[0m\u001b[0madd_template_filter\u001b[0m\u001b[0;34m(\u001b[0m\u001b[0mreverse_string\u001b[0m\u001b[0;34m,\u001b[0m \u001b[0mname\u001b[0m\u001b[0;34m=\u001b[0m\u001b[0;34m'reverse'\u001b[0m\u001b[0;34m)\u001b[0m\u001b[0;34m\u001b[0m\u001b[0;34m\u001b[0m\u001b[0m\n\u001b[0m",
            "\u001b[0;31mNameError\u001b[0m: name 'reverse_string' is not defined"
          ]
        }
      ]
    },
    {
      "cell_type": "markdown",
      "source": [
        "3. Use the Filter in a Template\n",
        "In your Jinja template (e.g., templates/hello.html):"
      ],
      "metadata": {
        "id": "XYzeeOlF6sGj"
      }
    },
    {
      "cell_type": "code",
      "source": [
        "<p>Original: {{ name }}</p>\n",
        "<p>Reversed: {{ name|reverse }}</p>\n"
      ],
      "metadata": {
        "id": "PWyxVcOS6uPP",
        "colab": {
          "base_uri": "https://localhost:8080/",
          "height": 106
        },
        "outputId": "caeebbc5-cae7-4e55-df84-de5a0e08432f"
      },
      "execution_count": 43,
      "outputs": [
        {
          "output_type": "error",
          "ename": "SyntaxError",
          "evalue": "invalid syntax (<ipython-input-43-e51f812943b2>, line 1)",
          "traceback": [
            "\u001b[0;36m  File \u001b[0;32m\"<ipython-input-43-e51f812943b2>\"\u001b[0;36m, line \u001b[0;32m1\u001b[0m\n\u001b[0;31m    <p>Original: {{ name }}</p>\u001b[0m\n\u001b[0m    ^\u001b[0m\n\u001b[0;31mSyntaxError\u001b[0m\u001b[0;31m:\u001b[0m invalid syntax\n"
          ]
        }
      ]
    },
    {
      "cell_type": "markdown",
      "source": [
        "If name = 'Flask', this will output:"
      ],
      "metadata": {
        "id": "6FIS7xwp6wrR"
      }
    },
    {
      "cell_type": "code",
      "source": [
        "Original: Flask\n",
        "Reversed: ksalF\n"
      ],
      "metadata": {
        "id": "4LeRNDMn6zHd",
        "colab": {
          "base_uri": "https://localhost:8080/",
          "height": 158
        },
        "outputId": "cb349fea-7db2-4544-e2bf-c53c86a8bc02"
      },
      "execution_count": 42,
      "outputs": [
        {
          "output_type": "error",
          "ename": "NameError",
          "evalue": "name 'ksalF' is not defined",
          "traceback": [
            "\u001b[0;31m---------------------------------------------------------------------------\u001b[0m",
            "\u001b[0;31mNameError\u001b[0m                                 Traceback (most recent call last)",
            "\u001b[0;32m<ipython-input-42-a019720be7b7>\u001b[0m in \u001b[0;36m<cell line: 0>\u001b[0;34m()\u001b[0m\n\u001b[1;32m      1\u001b[0m \u001b[0mOriginal\u001b[0m\u001b[0;34m:\u001b[0m \u001b[0mFlask\u001b[0m\u001b[0;34m\u001b[0m\u001b[0;34m\u001b[0m\u001b[0m\n\u001b[0;32m----> 2\u001b[0;31m \u001b[0mReversed\u001b[0m\u001b[0;34m:\u001b[0m \u001b[0mksalF\u001b[0m\u001b[0;34m\u001b[0m\u001b[0;34m\u001b[0m\u001b[0m\n\u001b[0m",
            "\u001b[0;31mNameError\u001b[0m: name 'ksalF' is not defined"
          ]
        }
      ]
    },
    {
      "cell_type": "markdown",
      "source": [
        "13) How can you redirect with query parameters in Flask?\n",
        "\n",
        "Ans:- In Flask, you can redirect with query parameters by using redirect() in combination with url_for() and passing keyword arguments to represent query strings.\n",
        "\n",
        "✅ Basic Example: Redirect with Query Parameters\n"
      ],
      "metadata": {
        "id": "csXes1xK69h_"
      }
    },
    {
      "cell_type": "code",
      "source": [
        "from flask import Flask, redirect, url_for, request\n",
        "\n",
        "app = Flask(__name__)\n",
        "\n",
        "@app.route('/search')\n",
        "def search():\n",
        "    query = request.args.get('q')\n",
        "    return f\"Search results for: {query}\"\n",
        "\n",
        "@app.route('/go-to-search')\n",
        "def go_to_search():\n",
        "    return redirect(url_for('search', q='flask blueprints'))\n"
      ],
      "metadata": {
        "id": "ot0T2mKC7GKa"
      },
      "execution_count": 41,
      "outputs": []
    },
    {
      "cell_type": "markdown",
      "source": [
        "url_for('search', q='flask blueprints') generates: /search?q=flask+blueprints\n",
        "\n",
        "Then redirect(...) sends the browser there.\n",
        "\n",
        "🔍 How It Works\n",
        "Part\tPurpose\n",
        "url_for('search')\tGets the URL for the search() route\n",
        "q='flask blueprints'\tAdds query parameter ?q=flask+blueprints\n",
        "redirect(...)\tSends the user to the new URL\n",
        "\n",
        "🧪 Accessing Query Parameters\n",
        "In the target view function:"
      ],
      "metadata": {
        "id": "_aJ2443U7Kfo"
      }
    },
    {
      "cell_type": "code",
      "source": [
        "@app.route('/search')\n",
        "def search():\n",
        "    query = request.args.get('q')  # Extracts 'q' from the query string\n",
        "    return f\"You searched for: {query}\"\n"
      ],
      "metadata": {
        "id": "Dyn35yvj7LT9"
      },
      "execution_count": 40,
      "outputs": []
    },
    {
      "cell_type": "markdown",
      "source": [
        "📌 Example Output\n",
        "Visiting /go-to-search will redirect the user to:"
      ],
      "metadata": {
        "id": "S6wXbmDf7PW0"
      }
    },
    {
      "cell_type": "code",
      "source": [
        "/search?q=flask+blueprints\n"
      ],
      "metadata": {
        "id": "r4DmUhBu7RsX",
        "colab": {
          "base_uri": "https://localhost:8080/",
          "height": 106
        },
        "outputId": "e9ecbd33-65cc-4496-dcdb-8868434e3f71"
      },
      "execution_count": 39,
      "outputs": [
        {
          "output_type": "error",
          "ename": "SyntaxError",
          "evalue": "invalid syntax (<ipython-input-39-56e0115e9132>, line 1)",
          "traceback": [
            "\u001b[0;36m  File \u001b[0;32m\"<ipython-input-39-56e0115e9132>\"\u001b[0;36m, line \u001b[0;32m1\u001b[0m\n\u001b[0;31m    search?q=flask+blueprints()\u001b[0m\n\u001b[0m          ^\u001b[0m\n\u001b[0;31mSyntaxError\u001b[0m\u001b[0;31m:\u001b[0m invalid syntax\n"
          ]
        }
      ]
    },
    {
      "cell_type": "markdown",
      "source": [
        "14)  How do you return JSON responses in Flask?\n",
        "\n",
        "Ans:- In Flask, returning JSON responses is simple and commonly used when building APIs. You typically use the built-in jsonify() function to generate a proper application/json response.\n",
        "\n",
        "✅ Basic Example: Returning JSON"
      ],
      "metadata": {
        "id": "SkckQRVK7YbS"
      }
    },
    {
      "cell_type": "code",
      "source": [
        "from flask import Flask, jsonify\n",
        "\n",
        "app = Flask(__name__)\n",
        "\n",
        "@app.route('/api/data')\n",
        "def get_data():\n",
        "    data = {\"name\": \"Alice\", \"age\": 30}\n",
        "    return jsonify(data)\n"
      ],
      "metadata": {
        "id": "WeFloRrK7pTF"
      },
      "execution_count": 38,
      "outputs": []
    },
    {
      "cell_type": "markdown",
      "source": [
        "jsonify() converts dictionaries or lists into a JSON-formatted HTTP response.\n",
        "\n",
        "It automatically sets the Content-Type to application/json.\n",
        "\n",
        "🔁 Returning a List\n"
      ],
      "metadata": {
        "id": "CF3E0_207rrj"
      }
    },
    {
      "cell_type": "code",
      "source": [
        "@app.route('/api/users')\n",
        "def get_users():\n",
        "    users = [{\"id\": 1, \"name\": \"Alice\"}, {\"id\": 2, \"name\": \"Bob\"}]\n",
        "    return jsonify(users)\n"
      ],
      "metadata": {
        "id": "rVhCan3278MB"
      },
      "execution_count": 37,
      "outputs": []
    },
    {
      "cell_type": "markdown",
      "source": [
        "⚠️ Avoid Manual json.dumps() (usually)\n",
        "While you can use json.dumps() and return it manually:\n",
        "\n"
      ],
      "metadata": {
        "id": "Qr_eNlFO79JQ"
      }
    },
    {
      "cell_type": "code",
      "source": [
        "import json\n",
        "\n",
        "@app.route('/manual')\n",
        "def manual_json():\n",
        "    data = {\"message\": \"ok\"}\n",
        "    return json.dumps(data), 200, {'Content-Type': 'application/json'}\n"
      ],
      "metadata": {
        "id": "ewX9IEpN8ODP"
      },
      "execution_count": 36,
      "outputs": []
    },
    {
      "cell_type": "markdown",
      "source": [
        "It’s better to use jsonify() because:\n",
        "\n",
        "It handles Unicode and special characters properly.\n",
        "\n",
        "It ensures the correct content type and formatting.\n",
        "\n",
        "It’s more secure against JSON-related attacks.\n",
        "\n",
        "\n",
        "\n",
        "15)  How do you capture URL parameters in Flask?\n",
        "\n",
        "Ans:- In Flask, you can capture URL parameters (also called path parameters) directly from the route by using angle brackets <> in the route definition. These parameters are passed to your view function as arguments.\n",
        "\n",
        "✅ Basic Example: Capturing a Single URL Parameter"
      ],
      "metadata": {
        "id": "zppKS2G_8O8L"
      }
    },
    {
      "cell_type": "code",
      "source": [
        "from flask import Flask\n",
        "\n",
        "app = Flask(__name__)\n",
        "\n",
        "@app.route('/user/<username>')\n",
        "def show_user(username):\n",
        "    return f\"Hello, {username}!\"\n"
      ],
      "metadata": {
        "id": "q49RKMCZ8hKa"
      },
      "execution_count": 35,
      "outputs": []
    },
    {
      "cell_type": "markdown",
      "source": [
        "Visiting /user/alice will return: Hello, alice!\n",
        "\n",
        "The <username> part captures whatever comes in that position of the URL.\n",
        "\n",
        "🔢 Capturing Typed Parameters\n",
        "You can also enforce data types:"
      ],
      "metadata": {
        "id": "XPDKZi6r8iXS"
      }
    },
    {
      "cell_type": "code",
      "source": [
        "@app.route('/post/<int:post_id>')\n",
        "def show_post(post_id):\n",
        "    return f\"Post ID: {post_id}\"\n"
      ],
      "metadata": {
        "id": "hI_Ktuk88l6C"
      },
      "execution_count": 34,
      "outputs": []
    },
    {
      "cell_type": "markdown",
      "source": [
        "Common Type Converters:\n",
        "Converter\tDescription\n",
        "string\tDefault, matches text\n",
        "int\tOnly matches integers\n",
        "float\tMatches floating-point numbers\n",
        "path\tLike string but allows slashes /\n",
        "uuid\tMatches UUID strings\n",
        "\n",
        "Example:"
      ],
      "metadata": {
        "id": "xi3vFcY28myv"
      }
    },
    {
      "cell_type": "code",
      "source": [
        "@app.route('/file/<path:filepath>')\n",
        "def get_file(filepath):\n",
        "    return f\"Requested file: {filepath}\"\n"
      ],
      "metadata": {
        "id": "g1zp9tDR8q5r"
      },
      "execution_count": 33,
      "outputs": []
    },
    {
      "cell_type": "markdown",
      "source": [
        "Accessing /file/images/logo.png returns:\n",
        "\n"
      ],
      "metadata": {
        "id": "btOGBlNF8tBV"
      }
    },
    {
      "cell_type": "code",
      "source": [
        "Requested file: images/logo.png\n"
      ],
      "metadata": {
        "id": "3Hytz2np8wKH",
        "colab": {
          "base_uri": "https://localhost:8080/",
          "height": 106
        },
        "outputId": "131995be-7f71-4437-fe55-7dd7b005a1cf"
      },
      "execution_count": 32,
      "outputs": [
        {
          "output_type": "error",
          "ename": "SyntaxError",
          "evalue": "invalid syntax (<ipython-input-32-2f072f3a4d55>, line 1)",
          "traceback": [
            "\u001b[0;36m  File \u001b[0;32m\"<ipython-input-32-2f072f3a4d55>\"\u001b[0;36m, line \u001b[0;32m1\u001b[0m\n\u001b[0;31m    Requested file: images/logo.png\u001b[0m\n\u001b[0m              ^\u001b[0m\n\u001b[0;31mSyntaxError\u001b[0m\u001b[0;31m:\u001b[0m invalid syntax\n"
          ]
        }
      ]
    }
  ]
}